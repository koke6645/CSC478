{
 "metadata": {
  "name": "",
  "signature": "sha256:30f0297728f115f731331baf2dfa0217ea1b4601446c3eaea67b1c9fe3c6a6cd"
 },
 "nbformat": 3,
 "nbformat_minor": 0,
 "worksheets": [
  {
   "cells": [
    {
     "cell_type": "code",
     "collapsed": false,
     "input": [
      "from numpy import *\n",
      "import numpy as np\n",
      "from sklearn import preprocessing\n",
      "from sklearn.feature_extraction import DictVectorizer"
     ],
     "language": "python",
     "metadata": {},
     "outputs": [],
     "prompt_number": 22
    },
    {
     "cell_type": "code",
     "collapsed": false,
     "input": [
      "vs = np.genfromtxt(\"communities.csv\", delimiter=\",\", names=True, usecols=range(2,100), dtype=float, filling_values=\"0\")"
     ],
     "language": "python",
     "metadata": {},
     "outputs": [],
     "prompt_number": 31
    },
    {
     "cell_type": "code",
     "collapsed": false,
     "input": [
      "vs"
     ],
     "language": "python",
     "metadata": {},
     "outputs": [
      {
       "metadata": {},
       "output_type": "pyout",
       "prompt_number": 32,
       "text": [
        "array([ (0.19, 0.33, 0.02, 0.9, 0.12, 0.17, 0.34, 0.47, 0.29, 0.32, 0.2, 1.0, 0.37, 0.72, 0.34, 0.6, 0.29, 0.15, 0.43, 0.39, 0.4, 0.39, 0.32, 0.27, 0.27, 0.36, 0.41, 0.08, 0.19, 0.1, 0.18, 0.48, 0.27, 0.68, 0.23, 0.41, 0.68, 0.4, 0.75, 0.75, 0.35, 0.55, 0.59, 0.61, 0.56, 0.74, 0.76, 0.04, 0.14, 0.03, 0.24, 0.27, 0.37, 0.39, 0.07, 0.07, 0.08, 0.08, 0.89, 0.06, 0.14, 0.13, 0.33, 0.39, 0.28, 0.55, 0.09, 0.51, 0.5, 0.21, 0.71, 0.52, 0.05, 0.26, 0.65, 0.14, 0.06, 0.22, 0.19, 0.18, 0.36, 0.35, 0.38, 0.34, 0.38, 0.46, 0.25, 0.04, 0.0, 0.12, 0.42, 0.5, 0.51, 0.64, 0.12, 0.26, 0.2, 0.2),\n",
        "       (0.0, 0.16, 0.12, 0.74, 0.45, 0.07, 0.26, 0.59, 0.35, 0.27, 0.02, 1.0, 0.31, 0.72, 0.11, 0.45, 0.25, 0.29, 0.39, 0.29, 0.37, 0.38, 0.33, 0.16, 0.3, 0.22, 0.35, 0.01, 0.24, 0.14, 0.24, 0.3, 0.27, 0.73, 0.57, 0.15, 1.0, 0.63, 0.91, 1.0, 0.29, 0.43, 0.47, 0.6, 0.39, 0.46, 0.53, 0.0, 0.24, 0.01, 0.52, 0.62, 0.64, 0.63, 0.25, 0.27, 0.25, 0.23, 0.84, 0.1, 0.16, 0.1, 0.17, 0.29, 0.17, 0.26, 0.2, 0.82, 0.0, 0.02, 0.79, 0.24, 0.02, 0.25, 0.65, 0.16, 0.0, 0.21, 0.2, 0.21, 0.42, 0.38, 0.4, 0.37, 0.29, 0.32, 0.18, 0.0, 0.0, 0.21, 0.5, 0.34, 0.6, 0.52, 0.02, 0.12, 0.45, 0.67),\n",
        "       (0.0, 0.42, 0.49, 0.56, 0.17, 0.04, 0.39, 0.47, 0.28, 0.32, 0.0, 0.0, 0.3, 0.58, 0.19, 0.39, 0.38, 0.4, 0.84, 0.28, 0.27, 0.29, 0.27, 0.07, 0.29, 0.28, 0.39, 0.01, 0.27, 0.27, 0.43, 0.19, 0.36, 0.58, 0.32, 0.29, 0.63, 0.41, 0.71, 0.7, 0.45, 0.42, 0.44, 0.43, 0.43, 0.71, 0.67, 0.01, 0.46, 0.0, 0.07, 0.06, 0.15, 0.19, 0.02, 0.02, 0.04, 0.05, 0.88, 0.04, 0.2, 0.2, 0.46, 0.52, 0.43, 0.42, 0.15, 0.51, 0.5, 0.01, 0.86, 0.41, 0.29, 0.3, 0.52, 0.47, 0.45, 0.18, 0.17, 0.16, 0.27, 0.29, 0.27, 0.31, 0.48, 0.39, 0.28, 0.0, 0.0, 0.14, 0.49, 0.54, 0.67, 0.56, 0.01, 0.21, 0.02, 0.43),\n",
        "       ...,\n",
        "       (0.16, 0.37, 0.25, 0.69, 0.04, 0.25, 0.35, 0.5, 0.31, 0.54, 0.17, 1.0, 0.31, 0.47, 0.17, 0.45, 0.58, 0.48, 0.57, 0.35, 0.31, 0.34, 0.25, 0.19, 0.28, 0.22, 0.28, 0.12, 0.31, 0.52, 0.58, 0.21, 0.5, 0.46, 0.63, 0.4, 0.5, 0.53, 0.5, 0.52, 0.47, 0.42, 0.42, 0.47, 0.47, 0.38, 0.46, 0.13, 0.54, 0.06, 0.12, 0.17, 0.24, 0.26, 0.07, 0.09, 0.11, 0.12, 0.6, 0.28, 0.26, 0.22, 0.39, 0.45, 0.37, 0.38, 0.15, 0.66, 0.0, 0.21, 0.65, 0.37, 0.53, 0.45, 0.29, 0.31, 0.29, 0.33, 0.32, 0.29, 0.28, 0.34, 0.39, 0.37, 0.52, 0.58, 0.53, 0.06, 0.02, 0.25, 0.68, 0.61, 0.79, 0.76, 0.08, 0.32, 0.18, 0.23),\n",
        "       (0.08, 0.51, 0.06, 0.87, 0.22, 0.1, 0.58, 0.74, 0.63, 0.41, 0.09, 1.0, 0.44, 0.64, 0.21, 0.55, 0.42, 0.24, 0.45, 0.47, 0.4, 0.4, 0.29, 0.2, 0.31, 0.27, 0.37, 0.03, 0.16, 0.3, 0.35, 0.42, 0.37, 0.57, 0.44, 0.57, 0.32, 0.87, 0.3, 0.32, 0.46, 0.64, 0.65, 0.75, 0.71, 0.57, 0.63, 0.02, 0.17, 0.06, 0.4, 0.46, 0.48, 0.49, 0.42, 0.43, 0.41, 0.38, 0.68, 0.2, 0.26, 0.21, 0.36, 0.54, 0.26, 0.39, 0.13, 0.64, 0.0, 0.05, 0.84, 0.33, 0.17, 0.34, 0.23, 0.1, 0.34, 0.54, 0.49, 0.47, 0.58, 0.62, 0.75, 0.64, 0.43, 0.44, 0.4, 0.04, 0.01, 0.45, 0.64, 0.54, 0.59, 0.52, 0.03, 0.38, 0.33, 0.19),\n",
        "       (0.2, 0.78, 0.14, 0.46, 0.24, 0.77, 0.5, 0.62, 0.4, 0.17, 0.21, 1.0, 0.4, 0.73, 0.22, 0.25, 0.26, 0.47, 0.29, 0.36, 0.24, 0.28, 0.32, 0.22, 0.27, 0.25, 0.29, 0.16, 0.35, 0.5, 0.55, 0.16, 0.47, 0.58, 0.53, 0.2, 0.49, 0.5, 0.6, 0.57, 0.86, 0.61, 0.59, 0.64, 0.6, 0.35, 0.35, 0.11, 0.43, 0.2, 0.43, 0.52, 0.58, 0.65, 0.68, 0.73, 0.73, 0.75, 0.35, 0.77, 0.84, 0.83, 0.84, 0.78, 0.89, 0.46, 0.76, 0.55, 0.0, 0.12, 0.8, 0.49, 0.1, 0.16, 0.71, 0.32, 0.21, 0.35, 0.35, 0.32, 0.54, 0.53, 0.61, 0.54, 0.69, 0.73, 0.21, 0.08, 0.08, 0.68, 0.5, 0.34, 0.35, 0.68, 0.11, 0.3, 0.05, 0.48)], \n",
        "      dtype=[('population', '<f8'), ('householdsize', '<f8'), ('racepctblack', '<f8'), ('racePctWhite', '<f8'), ('racePctAsian', '<f8'), ('racePctHisp', '<f8'), ('agePct12t21', '<f8'), ('agePct12t29', '<f8'), ('agePct16t24', '<f8'), ('agePct65up', '<f8'), ('numbUrban', '<f8'), ('pctUrban', '<f8'), ('medIncome', '<f8'), ('pctWWage', '<f8'), ('pctWFarmSelf', '<f8'), ('pctWInvInc', '<f8'), ('pctWSocSec', '<f8'), ('pctWPubAsst', '<f8'), ('pctWRetire', '<f8'), ('medFamInc', '<f8'), ('perCapInc', '<f8'), ('whitePerCap', '<f8'), ('blackPerCap', '<f8'), ('indianPerCap', '<f8'), ('AsianPerCap', '<f8'), ('OtherPerCap', '<f8'), ('HispPerCap', '<f8'), ('NumUnderPov', '<f8'), ('PctPopUnderPov', '<f8'), ('PctLess9thGrade', '<f8'), ('PctNotHSGrad', '<f8'), ('PctBSorMore', '<f8'), ('PctUnemployed', '<f8'), ('PctEmploy', '<f8'), ('PctEmplManu', '<f8'), ('PctEmplProfServ', '<f8'), ('MalePctDivorce', '<f8'), ('MalePctNevMarr', '<f8'), ('FemalePctDiv', '<f8'), ('TotalPctDiv', '<f8'), ('PersPerFam', '<f8'), ('PctFam2Par', '<f8'), ('PctKids2Par', '<f8'), ('PctYoungKids2Par', '<f8'), ('PctTeen2Par', '<f8'), ('PctWorkMomYoungKids', '<f8'), ('PctWorkMom', '<f8'), ('NumIlleg', '<f8'), ('PctIlleg', '<f8'), ('NumImmig', '<f8'), ('PctImmigRecent', '<f8'), ('PctImmigRec5', '<f8'), ('PctImmigRec8', '<f8'), ('PctImmigRec10', '<f8'), ('PctRecentImmig', '<f8'), ('PctRecImmig5', '<f8'), ('PctRecImmig8', '<f8'), ('PctRecImmig10', '<f8'), ('PctSpeakEnglOnly', '<f8'), ('PctNotSpeakEnglWell', '<f8'), ('PctLargHouseFam', '<f8'), ('PctLargHouseOccup', '<f8'), ('PersPerOccupHous', '<f8'), ('PersPerOwnOccHous', '<f8'), ('PersPerRentOccHous', '<f8'), ('PctPersOwnOccup', '<f8'), ('PctPersDenseHous', '<f8'), ('PctHousLess3BR', '<f8'), ('MedNumBR', '<f8'), ('HousVacant', '<f8'), ('PctHousOccup', '<f8'), ('PctHousOwnOcc', '<f8'), ('PctVacantBoarded', '<f8'), ('PctVacMore6Mos', '<f8'), ('MedYrHousBuilt', '<f8'), ('PctHousNoPhone', '<f8'), ('PctWOFullPlumb', '<f8'), ('OwnOccLowQuart', '<f8'), ('OwnOccMedVal', '<f8'), ('OwnOccHiQuart', '<f8'), ('RentLowQ', '<f8'), ('RentMedian', '<f8'), ('RentHighQ', '<f8'), ('MedRent', '<f8'), ('MedRentPctHousInc', '<f8'), ('MedOwnCostPctInc', '<f8'), ('MedOwnCostPctIncNoMtg', '<f8'), ('NumInShelters', '<f8'), ('NumStreet', '<f8'), ('PctForeignBorn', '<f8'), ('PctBornSameState', '<f8'), ('PctSameHouse85', '<f8'), ('PctSameCity85', '<f8'), ('PctSameState85', '<f8'), ('LandArea', '<f8'), ('PopDens', '<f8'), ('PctUsePubTrans', '<f8'), ('ViolentCrimesPerPop', '<f8')])"
       ]
      }
     ],
     "prompt_number": 32
    },
    {
     "cell_type": "code",
     "collapsed": false,
     "input": [
      "vs_target = vs['ViolentCrimesPerPop']\n",
      "print vs_target"
     ],
     "language": "python",
     "metadata": {},
     "outputs": [
      {
       "output_type": "stream",
       "stream": "stdout",
       "text": [
        "[ 0.2   0.67  0.43 ...,  0.23  0.19  0.48]\n"
       ]
      }
     ],
     "prompt_number": 33
    },
    {
     "cell_type": "code",
     "collapsed": false,
     "input": [
      "vs_names = vs.dtype.names\n",
      "print vs_names"
     ],
     "language": "python",
     "metadata": {},
     "outputs": [
      {
       "output_type": "stream",
       "stream": "stdout",
       "text": [
        "('population', 'householdsize', 'racepctblack', 'racePctWhite', 'racePctAsian', 'racePctHisp', 'agePct12t21', 'agePct12t29', 'agePct16t24', 'agePct65up', 'numbUrban', 'pctUrban', 'medIncome', 'pctWWage', 'pctWFarmSelf', 'pctWInvInc', 'pctWSocSec', 'pctWPubAsst', 'pctWRetire', 'medFamInc', 'perCapInc', 'whitePerCap', 'blackPerCap', 'indianPerCap', 'AsianPerCap', 'OtherPerCap', 'HispPerCap', 'NumUnderPov', 'PctPopUnderPov', 'PctLess9thGrade', 'PctNotHSGrad', 'PctBSorMore', 'PctUnemployed', 'PctEmploy', 'PctEmplManu', 'PctEmplProfServ', 'MalePctDivorce', 'MalePctNevMarr', 'FemalePctDiv', 'TotalPctDiv', 'PersPerFam', 'PctFam2Par', 'PctKids2Par', 'PctYoungKids2Par', 'PctTeen2Par', 'PctWorkMomYoungKids', 'PctWorkMom', 'NumIlleg', 'PctIlleg', 'NumImmig', 'PctImmigRecent', 'PctImmigRec5', 'PctImmigRec8', 'PctImmigRec10', 'PctRecentImmig', 'PctRecImmig5', 'PctRecImmig8', 'PctRecImmig10', 'PctSpeakEnglOnly', 'PctNotSpeakEnglWell', 'PctLargHouseFam', 'PctLargHouseOccup', 'PersPerOccupHous', 'PersPerOwnOccHous', 'PersPerRentOccHous', 'PctPersOwnOccup', 'PctPersDenseHous', 'PctHousLess3BR', 'MedNumBR', 'HousVacant', 'PctHousOccup', 'PctHousOwnOcc', 'PctVacantBoarded', 'PctVacMore6Mos', 'MedYrHousBuilt', 'PctHousNoPhone', 'PctWOFullPlumb', 'OwnOccLowQuart', 'OwnOccMedVal', 'OwnOccHiQuart', 'RentLowQ', 'RentMedian', 'RentHighQ', 'MedRent', 'MedRentPctHousInc', 'MedOwnCostPctInc', 'MedOwnCostPctIncNoMtg', 'NumInShelters', 'NumStreet', 'PctForeignBorn', 'PctBornSameState', 'PctSameHouse85', 'PctSameCity85', 'PctSameState85', 'LandArea', 'PopDens', 'PctUsePubTrans', 'ViolentCrimesPerPop')\n"
       ]
      }
     ],
     "prompt_number": 34
    },
    {
     "cell_type": "code",
     "collapsed": false,
     "input": [
      "vs_dict = [dict(zip(vs_names, rec)) for rec in vs]\n",
      "vs_vec = DictVectorizer()\n",
      "vs_matrix = vs_vec.fit_transform(vs_dict).toarray()"
     ],
     "language": "python",
     "metadata": {},
     "outputs": [],
     "prompt_number": 35
    },
    {
     "cell_type": "code",
     "collapsed": false,
     "input": [
      "minmax_scaler = preprocessing.MinMaxScaler()\n",
      "vs_minmax = minmax_scaler.fit_transform(vs_matrix)\n",
      "vs_minmax"
     ],
     "language": "python",
     "metadata": {},
     "outputs": [
      {
       "metadata": {},
       "output_type": "pyout",
       "prompt_number": 36,
       "text": [
        "array([[ 0.27,  0.75,  0.41, ...,  0.9 ,  0.02,  0.39],\n",
        "       [ 0.3 ,  0.91,  0.35, ...,  0.74,  0.12,  0.38],\n",
        "       [ 0.29,  0.71,  0.39, ...,  0.56,  0.49,  0.29],\n",
        "       ..., \n",
        "       [ 0.28,  0.5 ,  0.28, ...,  0.69,  0.25,  0.34],\n",
        "       [ 0.31,  0.3 ,  0.37, ...,  0.87,  0.06,  0.4 ],\n",
        "       [ 0.27,  0.6 ,  0.29, ...,  0.46,  0.14,  0.28]])"
       ]
      }
     ],
     "prompt_number": 36
    },
    {
     "cell_type": "code",
     "collapsed": false,
     "input": [
      "print \"Mean:\\n\", np.mean(vs_minmax, axis=0)\n",
      "print \"\\nStandard deviation:\\n\", np.std(vs_minmax, axis=0)"
     ],
     "language": "python",
     "metadata": {},
     "outputs": [
      {
       "output_type": "stream",
       "stream": "stdout",
       "text": [
        "Mean:\n",
        "[ 0.32235707  0.4875677   0.38627884  0.07681545  0.06523069  0.46124373\n",
        "  0.43445336  0.31469408  0.44975426  0.40381645  0.38410231  0.49012538\n",
        "  0.49417753  0.03629388  0.03006018  0.02943831  0.02277834  0.05550652\n",
        "  0.2845988   0.26894183  0.26468907  0.26349047  0.36167503  0.60889168\n",
        "  0.39638415  0.44059679  0.50107322  0.61091775  0.21555165  0.49518556\n",
        "  0.26447844  0.71954865  0.54868606  0.24999498  0.42787864  0.36062187\n",
        "  0.39907723  0.32021063  0.62065697  0.26760782  0.25189067  0.31580742\n",
        "  0.38332999  0.15058676  0.18626379  0.56259779  0.30302407  0.18287864\n",
        "  0.18212638  0.18477432  0.18136409  0.62642427  0.53505015  0.65152959\n",
        "  0.78590271  0.58288365  0.36353059  0.16168506  0.43333501  0.20452859\n",
        "  0.24305918  0.52669007  0.50144935  0.6640321   0.48774824  0.4621013\n",
        "  0.49442828  0.40409729  0.23285356  0.42296389  0.34637914  0.37245737\n",
        "  0.49427282  0.23797894  0.42421765  0.4938666   0.33626379  0.42316449\n",
        "  0.29109829  0.46339519  0.20350552  0.37567703  0.36112337  0.06407222\n",
        "  0.69626881  0.29156971  0.49568706  0.31777834  0.47924774  0.4711334\n",
        "  0.55815446  0.35025075  0.05759278  0.15368104  0.14402207  0.75371615\n",
        "  0.17962889  0.36804915]\n",
        "\n",
        "Standard deviation:\n",
        "[ 0.19536187  0.17512584  0.1830347   0.15042681  0.1094317   0.18241459\n",
        "  0.17539332  0.25511759  0.18722674  0.19254519  0.21335083  0.16945732\n",
        "  0.23240846  0.10864376  0.0871676   0.10258096  0.10037494  0.12790876\n",
        "  0.19101892  0.23519328  0.22436834  0.23148414  0.20914068  0.20427729\n",
        "  0.2023352   0.17541295  0.17399274  0.20192556  0.2310762   0.17246485\n",
        "  0.2427861   0.19397545  0.18515758  0.22988844  0.19492087  0.21087132\n",
        "  0.2014475   0.21903352  0.20630172  0.19651794  0.1906608   0.21330606\n",
        "  0.20245718  0.21966101  0.20990381  0.19703767  0.22841685  0.23476346\n",
        "  0.23627371  0.23667958  0.23573238  0.20047112  0.18130648  0.19817147\n",
        "  0.22681213  0.19145895  0.20212058  0.22899735  0.18893823  0.21771565\n",
        "  0.20624325  0.17519749  0.16856928  0.21869447  0.15455535  0.16950884\n",
        "  0.15788439  0.18925344  0.2030409   0.24822356  0.21926756  0.20922549\n",
        "  0.18356057  0.23292647  0.15515681  0.14352751  0.1664628   0.17914056\n",
        "  0.17155039  0.16367567  0.16473406  0.19820703  0.20930999  0.12822399\n",
        "  0.44469899  0.20405639  0.17802594  0.22208104  0.16752172  0.17357507\n",
        "  0.18286696  0.19106059  0.12687401  0.20882508  0.23243332  0.24397819\n",
        "  0.2533785   0.1867573 ]\n"
       ]
      }
     ],
     "prompt_number": 46
    },
    {
     "cell_type": "code",
     "collapsed": false,
     "input": [],
     "language": "python",
     "metadata": {},
     "outputs": []
    }
   ],
   "metadata": {}
  }
 ]
}