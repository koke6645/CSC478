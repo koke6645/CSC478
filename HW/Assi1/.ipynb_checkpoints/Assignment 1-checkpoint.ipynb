{
 "metadata": {
  "name": "",
  "signature": "sha256:0ff770bf569e684612c51a682840dd5329991f113033801ac19109d667498921"
 },
 "nbformat": 3,
 "nbformat_minor": 0,
 "worksheets": [
  {
   "cells": [
    {
     "cell_type": "code",
     "collapsed": false,
     "input": [
      "import numpy as np\n",
      "vstable = np.genfromtxt(\"Video_Store.csv\", delimiter=\",\", dtype=None)\n",
      "labels = vstable[0]\n",
      "vstable = vstable[1:]\n",
      "#vstable"
     ],
     "language": "python",
     "metadata": {},
     "outputs": [],
     "prompt_number": 57
    },
    {
     "cell_type": "code",
     "collapsed": false,
     "input": [
      "income = np.array(vstable[:,2], dtype=int)\n",
      "age = np.array(vstable[:,3], dtype=int)\n",
      "rentals = np.array(vstable[:,4], dtype=int)\n",
      "visit_avg = np.array(vstable[:,5], dtype=float)\n",
      "print \"       Income \\t\\tAge \\t\\tRentals \\tAvg Per Visit\"\n",
      "print \"Mean: \", income.mean(), \"\\t\\t\", age.mean(), \"\\t\\t\", rentals.mean(), \"\\t\\t\", visit_avg.mean()\n",
      "print \"Std:  \", income.std(), \"\\t\", age.std(), \"\\t\", rentals.std(), \"\\t\", visit_avg.std()"
     ],
     "language": "python",
     "metadata": {},
     "outputs": [
      {
       "output_type": "stream",
       "stream": "stdout",
       "text": [
        "       Income \t\tAge \t\tRentals \tAvg Per Visit\n",
        "Mean:  42300.0 \t\t31.56 \t\t26.32 \t\t2.748\n",
        "Std:   21194.5747775 \t11.8796632949 \t9.94673815881 \t0.889098419749\n"
       ]
      }
     ],
     "prompt_number": 3
    },
    {
     "cell_type": "code",
     "collapsed": false,
     "input": [
      "table_f = vstable[vstable[:,1] == 'F']\n",
      "action_f = table_f[table_f[:,7] == 'Action']\n",
      "comedy_f = table_f[table_f[:,7] == 'Comedy']\n",
      "drama_f = table_f[table_f[:,7] == 'Drama']\n",
      "#print table_f\n",
      "print \"\\t\\t  Action  Comedy  Drama\"\n",
      "print \"Female Preferred:\", len(action_f), \"\\t \", len(comedy_f), \"\\t \", len(drama_f)\n",
      "print \"Buy incidentals: \", len(action_f[action_f[:,6] == 'Yes']), \"\\t \", len(comedy_f[comedy_f[:,6] == 'Yes']), \"\\t \", len(drama_f[drama_f[:,6] == 'Yes'])\n",
      "print \"Female customer:   \", len(table_f)\n",
      "print \"Female Incidentals:\", len(vstable[table_f[:,6] == 'Yes'])\n",
      "#action_f"
     ],
     "language": "python",
     "metadata": {},
     "outputs": [
      {
       "output_type": "stream",
       "stream": "stdout",
       "text": [
        "\t\t  Action  Comedy  Drama\n",
        "Female Preferred: 5 \t  6 \t  13\n",
        "Buy incidentals:  5 \t  0 \t  5\n",
        "Female customer:    24\n",
        "Female Incidentals: 10\n"
       ]
      },
      {
       "metadata": {},
       "output_type": "pyout",
       "prompt_number": 59,
       "text": [
        "array([['12', 'F', '26000', '22', '32', '2.9', 'Yes', 'Action'],\n",
        "       ['18', 'F', '6000', '16', '39', '1.8', 'Yes', 'Action'],\n",
        "       ['26', 'F', '56000', '35', '40', '2.6', 'Yes', 'Action'],\n",
        "       ['29', 'F', '15000', '18', '37', '2.1', 'Yes', 'Action'],\n",
        "       ['34', 'F', '29000', '32', '19', '2.9', 'Yes', 'Action']], \n",
        "      dtype='|S13')"
       ]
      }
     ],
     "prompt_number": 59
    },
    {
     "cell_type": "code",
     "collapsed": false,
     "input": [
      "table_m = vstable[vstable[:,1] == 'M']\n",
      "action_m = table_m[table_m[:,7] == 'Action']\n",
      "comedy_m = table_m[table_m[:,7] == 'Comedy']\n",
      "drama_m = table_m[table_m[:,7] == 'Drama']\n",
      "#print table_m\n",
      "print \"\\t\\t Action  Comedy  Drama\"\n",
      "print \"Male preferred: \", len(action_m), \"\\t\", len(comedy_m), \"\\t\", len(drama_m)\n",
      "print \"Buy incidentals:\", len(action_m[action_m[:,6] == 'Yes']), \"\\t\", len(comedy_m[comedy_m[:,6] == 'Yes']), \"\\t\", len(drama_m[drama_m[:,6] == 'Yes'])\n",
      "print \"Male customer:   \", len(table_m)\n",
      "print \"Male Incidentals:\", len(vstable[table_m[:,6] == 'Yes'])\n",
      "#action_m"
     ],
     "language": "python",
     "metadata": {},
     "outputs": [
      {
       "output_type": "stream",
       "stream": "stdout",
       "text": [
        "\t\t Action  Comedy  Drama\n",
        "Male preferred:  13 \t6 \t7\n",
        "Buy incidentals: 9 \t2 \t5\n",
        "Male customer:    26\n",
        "Male Incidentals: 16\n"
       ]
      }
     ],
     "prompt_number": 54
    },
    {
     "cell_type": "code",
     "collapsed": false,
     "input": [
      "buyIncidental = vstable[vstable[:,6]=='Yes']\n",
      "buyInc_Action = buyIncidental[buyIncidental[:,7] == 'Action']\n",
      "buyInc_Comedy = buyIncidental[buyIncidental[:,7] == 'Comedy']\n",
      "buyInc_Drama = buyIncidental[buyIncidental[:,7] == 'Drama']\n",
      "print \"Incidental buy with movie\"\n",
      "print \"Action:\", len(buyInc_Action) \n",
      "print \"Comedy:\", len(buyInc_Comedy)\n",
      "print \"Drama: \", len(buyInc_Drama)\n",
      "print \"Total: \", len(buyIncidental)\n",
      "#buyInc_Action"
     ],
     "language": "python",
     "metadata": {},
     "outputs": [
      {
       "output_type": "stream",
       "stream": "stdout",
       "text": [
        "Incidental buy with movie\n",
        "Action: 14\n",
        "Comedy: 2\n",
        "Drama:  10\n",
        "Total:  26\n"
       ]
      }
     ],
     "prompt_number": 55
    },
    {
     "cell_type": "code",
     "collapsed": false,
     "input": [
      "incomeInc_f = np.array(action_f[:,2], dtype=int)\n",
      "ageInc_f = np.array(action_f[:,3], dtype=int)\n",
      "rentalsInc_f = np.array(action_f[:,4], dtype=int)\n",
      "visit_avgInc_f = np.array(action_f[:,5], dtype=float)\n",
      "print \"F + A + I:  Income \\t\\tAge \\t\\tRentals \\tAvg Per Visit\"\n",
      "print \"Mean:      \", incomeInc_f.mean(), \"\\t       \", ageInc_f.mean(), \"\\t\\t\", rentalsInc_f.mean(), \"\\t\\t\", visit_avgInc_f.mean()\n",
      "print \"Std:       \", incomeInc_f.std(), \"\\t\", ageInc_f.std(), \"\\t\", rentalsInc_f.std(), \"\\t\", visit_avgInc_f.std()"
     ],
     "language": "python",
     "metadata": {},
     "outputs": [
      {
       "output_type": "stream",
       "stream": "stdout",
       "text": [
        "F + A + I:  Income \t\tAge \t\tRentals \tAvg Per Visit\n",
        "Mean:       26400.0 \t        24.6 \t\t33.4 \t\t2.46\n",
        "Std:        16906.8033643 \t7.5789181286 \t7.70973410696 \t0.440908153701\n"
       ]
      }
     ],
     "prompt_number": 72
    },
    {
     "cell_type": "code",
     "collapsed": false,
     "input": [
      "incomeInc_m = np.array(action_m[:,2], dtype=int)\n",
      "ageInc_m = np.array(action_m[:,3], dtype=int)\n",
      "rentalsInc_m = np.array(action_m[:,4], dtype=int)\n",
      "visit_avgInc_m = np.array(action_m[:,5], dtype=float)\n",
      "print \"M + A + I:  Income \\t\\tAge \\t\\tRentals \\tAvg Per Visit\"\n",
      "print \"Mean:      \", incomeInc_m.mean(), \"\\t\", ageInc_m.mean(), \"\\t\", rentalsInc_m.mean(), \"\\t\", visit_avgInc_m.mean()\n",
      "print \"Std:       \", incomeInc_m.std(), \"\\t\", ageInc_m.std(), \"\\t\", rentalsInc_m.std(), \"\\t\", visit_avgInc_m.std()"
     ],
     "language": "python",
     "metadata": {},
     "outputs": [
      {
       "output_type": "stream",
       "stream": "stdout",
       "text": [
        "M + A + I:  Income \t\tAge \t\tRentals \tAvg Per Visit\n",
        "Mean:       34230.7692308 \t23.6923076923 \t29.7692307692 \t2.69230769231\n",
        "Std:        19474.4560353 \t4.77790773947 \t6.85176952051 \t0.989530998824\n"
       ]
      }
     ],
     "prompt_number": 71
    }
   ],
   "metadata": {}
  }
 ]
}