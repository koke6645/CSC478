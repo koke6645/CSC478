{
 "metadata": {
  "name": "",
  "signature": "sha256:b9c5e75661dede34dc5ccc800cfc8196c66e832341695a40e0beac0e304de394"
 },
 "nbformat": 3,
 "nbformat_minor": 0,
 "worksheets": [
  {
   "cells": [
    {
     "cell_type": "code",
     "collapsed": false,
     "input": [
      "import numpy as np\n",
      "vstable = np.genfromtxt(\"Video_Store.csv\", delimiter=\",\", dtype=None)\n",
      "labels = vstable[0]\n",
      "print vstable\n",
      "vstable = vstable[1:]\n"
     ],
     "language": "python",
     "metadata": {},
     "outputs": [
      {
       "output_type": "stream",
       "stream": "stdout",
       "text": [
        "[['Cust ID' 'Gender' 'Income' 'Age' 'Rentals' 'Avg Per Visit' 'Incidentals'\n",
        "  'Genre']\n",
        " ['1' 'M' '45000' '25' '32' '2.5' 'Yes' 'Action']\n",
        " ['2' 'F' '54000' '33' '12' '3.4' 'No' 'Drama']\n",
        " ['3' 'F' '32000' '20' '42' '1.6' 'No' 'Comedy']\n",
        " ['4' 'F' '59000' '70' '16' '4.2' 'Yes' 'Drama']\n",
        " ['5' 'M' '37000' '35' '25' '3.2' 'Yes' 'Action']\n",
        " ['6' 'M' '18000' '20' '29' '1.7' 'No' 'Action']\n",
        " ['7' 'F' '29000' '45' '19' '3.8' 'No' 'Drama']\n",
        " ['8' 'M' '74000' '25' '31' '2.4' 'Yes' 'Action']\n",
        " ['9' 'M' '38000' '21' '18' '2.1' 'No' 'Comedy']\n",
        " ['10' 'F' '65000' '40' '21' '3.3' 'No' 'Drama']\n",
        " ['11' 'F' '41000' '22' '48' '2.3' 'Yes' 'Drama']\n",
        " ['12' 'F' '26000' '22' '32' '2.9' 'Yes' 'Action']\n",
        " ['13' 'M' '83000' '46' '14' '3.6' 'No' 'Comedy']\n",
        " ['14' 'M' '45000' '36' '24' '2.7' 'No' 'Drama']\n",
        " ['15' 'M' '68000' '30' '36' '2.7' 'Yes' 'Comedy']\n",
        " ['16' 'M' '17000' '19' '26' '2.2' 'Yes' 'Action']\n",
        " ['17' 'M' '36000' '35' '28' '3.5' 'Yes' 'Drama']\n",
        " ['18' 'F' '6000' '16' '39' '1.8' 'Yes' 'Action']\n",
        " ['19' 'F' '24000' '25' '41' '3.1' 'No' 'Comedy']\n",
        " ['20' 'M' '12000' '16' '23' '2.2' 'Yes' 'Action']\n",
        " ['21' 'F' '47000' '52' '11' '3.1' 'No' 'Drama']\n",
        " ['22' 'M' '25000' '33' '16' '2.9' 'Yes' 'Drama']\n",
        " ['23' 'F' '2000' '15' '30' '2.5' 'No' 'Comedy']\n",
        " ['24' 'F' '79000' '35' '22' '3.8' 'Yes' 'Drama']\n",
        " ['25' 'M' '1000' '16' '25' '1.4' 'Yes' 'Comedy']\n",
        " ['26' 'F' '56000' '35' '40' '2.6' 'Yes' 'Action']\n",
        " ['27' 'F' '62000' '47' '32' '3.6' 'No' 'Drama']\n",
        " ['28' 'M' '57000' '52' '22' '4.1' 'No' 'Comedy']\n",
        " ['29' 'F' '15000' '18' '37' '2.1' 'Yes' 'Action']\n",
        " ['30' 'M' '41000' '25' '17' '1.4' 'Yes' 'Action']\n",
        " ['31' 'F' '49000' '56' '15' '3.2' 'No' 'Comedy']\n",
        " ['32' 'M' '47000' '30' '21' '3.1' 'Yes' 'Drama']\n",
        " ['33' 'M' '23000' '25' '28' '2.7' 'No' 'Action']\n",
        " ['34' 'F' '29000' '32' '19' '2.9' 'Yes' 'Action']\n",
        " ['35' 'M' '74000' '29' '43' '4.6' 'Yes' 'Action']\n",
        " ['36' 'F' '29000' '21' '34' '2.3' 'No' 'Comedy']\n",
        " ['37' 'M' '89000' '46' '12' '1.2' 'No' 'Comedy']\n",
        " ['38' 'M' '41000' '38' '20' '3.3' 'Yes' 'Drama']\n",
        " ['39' 'F' '68000' '35' '19' '3.9' 'No' 'Comedy']\n",
        " ['40' 'M' '17000' '19' '32' '1.8' 'No' 'Action']\n",
        " ['41' 'F' '50000' '33' '17' '1.4' 'No' 'Drama']\n",
        " ['42' 'M' '32000' '25' '26' '2.2' 'Yes' 'Action']\n",
        " ['43' 'F' '49000' '28' '48' '3.3' 'Yes' 'Drama']\n",
        " ['44' 'M' '35000' '24' '24' '1.7' 'No' 'Drama']\n",
        " ['45' 'M' '56000' '38' '30' '3.5' 'Yes' 'Drama']\n",
        " ['46' 'F' '57000' '43' '9' '1.1' 'No' 'Drama']\n",
        " ['47' 'F' '69000' '35' '22' '2.8' 'Yes' 'Drama']\n",
        " ['48' 'F' '52000' '47' '14' '1.6' 'No' 'Drama']\n",
        " ['49' 'M' '31000' '25' '42' '3.4' 'Yes' 'Action']\n",
        " ['50' 'M' '24000' '20' '33' '4.7' 'No' 'Action']]\n"
       ]
      }
     ],
     "prompt_number": 2
    },
    {
     "cell_type": "code",
     "collapsed": false,
     "input": [
      "income = np.array(vstable[:,2], dtype=int)\n",
      "age = np.array(vstable[:,3], dtype=int)\n",
      "rentals = np.array(vstable[:,4], dtype=int)\n",
      "visit_avg = np.array(vstable[:,5], dtype=float)\n",
      "print \"       Income \\t\\tAge \\t\\tRentals \\tAvg Per Visit\"\n",
      "print \"Mean: \", income.mean(), \"\\t\\t\", age.mean(), \"\\t\\t\", rentals.mean(), \"\\t\\t\", visit_avg.mean()\n",
      "print \"Std:  \", income.std(), \"\\t\", age.std(), \"\\t\", rentals.std(), \"\\t\", visit_avg.std()"
     ],
     "language": "python",
     "metadata": {},
     "outputs": [
      {
       "output_type": "stream",
       "stream": "stdout",
       "text": [
        "       Income \t\tAge \t\tRentals \tAvg Per Visit\n",
        "Mean:  42300.0 \t\t31.56 \t\t26.32 \t\t2.748\n",
        "Std:   21194.5747775 \t11.8796632949 \t9.94673815881 \t0.889098419749\n"
       ]
      }
     ],
     "prompt_number": 10
    },
    {
     "cell_type": "code",
     "collapsed": false,
     "input": [
      "table_f = vstable[vstable[:,1] == 'F']\n",
      "action_f = table_f[table_f[:,7] == 'Action']\n",
      "comedy_f = table_f[table_f[:,7] == 'Comedy']\n",
      "drama_f = table_f[table_f[:,7] == 'Drama']\n",
      "#print table_f\n",
      "print \"\\t\\t  Action  Comedy  Drama\"\n",
      "print \"Female Preferred:\", len(action_f), \"\\t \", len(comedy_f), \"\\t \", len(drama_f)\n",
      "print \"Buy incidentals: \", len(action_f[action_f[:,6] == 'Yes']), \"\\t \", len(comedy_f[comedy_f[:,6] == 'Yes']), \"\\t \", len(drama_f[drama_f[:,6] == 'Yes'])\n",
      "print \"Female customer:   \", len(table_f)\n",
      "print \"Female Incidentals:\", len(vstable[table_f[:,6] == 'Yes'])\n",
      "#action_f"
     ],
     "language": "python",
     "metadata": {},
     "outputs": [
      {
       "output_type": "stream",
       "stream": "stdout",
       "text": [
        "\t\t  Action  Comedy  Drama\n",
        "Female Preferred: 5 \t  6 \t  13\n",
        "Buy incidentals:  5 \t  0 \t  5\n",
        "Female customer:    24\n",
        "Female Incidentals: 10\n"
       ]
      }
     ],
     "prompt_number": 4
    },
    {
     "cell_type": "code",
     "collapsed": false,
     "input": [
      "table_m = vstable[vstable[:,1] == 'M']\n",
      "action_m = table_m[table_m[:,7] == 'Action']\n",
      "comedy_m = table_m[table_m[:,7] == 'Comedy']\n",
      "drama_m = table_m[table_m[:,7] == 'Drama']\n",
      "#print table_m\n",
      "print \"\\t\\t Action  Comedy  Drama\"\n",
      "print \"Male preferred: \", len(action_m), \"\\t\", len(comedy_m), \"\\t\", len(drama_m)\n",
      "print \"Buy incidentals:\", len(action_m[action_m[:,6] == 'Yes']), \"\\t\", len(comedy_m[comedy_m[:,6] == 'Yes']), \"\\t\", len(drama_m[drama_m[:,6] == 'Yes'])\n",
      "print \"Male customer:   \", len(table_m)\n",
      "print \"Male Incidentals:\", len(vstable[table_m[:,6] == 'Yes'])\n",
      "#action_m"
     ],
     "language": "python",
     "metadata": {},
     "outputs": [
      {
       "output_type": "stream",
       "stream": "stdout",
       "text": [
        "\t\t Action  Comedy  Drama\n",
        "Male preferred:  13 \t6 \t7\n",
        "Buy incidentals: 9 \t2 \t5\n",
        "Male customer:    26\n",
        "Male Incidentals: 16\n"
       ]
      }
     ],
     "prompt_number": 5
    },
    {
     "cell_type": "code",
     "collapsed": false,
     "input": [
      "buyIncidental = vstable[vstable[:,6]=='Yes']\n",
      "buyInc_Action = buyIncidental[buyIncidental[:,7] == 'Action']\n",
      "buyInc_Comedy = buyIncidental[buyIncidental[:,7] == 'Comedy']\n",
      "buyInc_Drama = buyIncidental[buyIncidental[:,7] == 'Drama']\n",
      "print \"Incidental buy with movie\"\n",
      "print \"Action:\", len(buyInc_Action) \n",
      "print \"Comedy:\", len(buyInc_Comedy)\n",
      "print \"Drama: \", len(buyInc_Drama)\n",
      "print \"Total: \", len(buyIncidental)\n",
      "#buyInc_Action"
     ],
     "language": "python",
     "metadata": {},
     "outputs": [
      {
       "output_type": "stream",
       "stream": "stdout",
       "text": [
        "Incidental buy with movie\n",
        "Action: 14\n",
        "Comedy: 2\n",
        "Drama:  10\n",
        "Total:  26\n"
       ]
      }
     ],
     "prompt_number": 6
    },
    {
     "cell_type": "code",
     "collapsed": false,
     "input": [
      "incomeInc_f = np.array(action_f[:,2], dtype=int)\n",
      "ageInc_f = np.array(action_f[:,3], dtype=int)\n",
      "rentalsInc_f = np.array(action_f[:,4], dtype=int)\n",
      "visit_avgInc_f = np.array(action_f[:,5], dtype=float)\n",
      "print \"F + A + I:  Income \\t\\tAge \\t\\tRentals \\tAvg Per Visit\"\n",
      "print \"Mean:      \", incomeInc_f.mean(), \"\\t       \", ageInc_f.mean(), \"\\t\\t\", rentalsInc_f.mean(), \"\\t\\t\", visit_avgInc_f.mean()\n",
      "print \"Std:       \", incomeInc_f.std(), \"\\t\", ageInc_f.std(), \"\\t\", rentalsInc_f.std(), \"\\t\", visit_avgInc_f.std()"
     ],
     "language": "python",
     "metadata": {},
     "outputs": [
      {
       "output_type": "stream",
       "stream": "stdout",
       "text": [
        "F + A + I:  Income \t\tAge \t\tRentals \tAvg Per Visit\n",
        "Mean:       26400.0 \t        24.6 \t\t33.4 \t\t2.46\n",
        "Std:        16906.8033643 \t7.5789181286 \t7.70973410696 \t0.440908153701\n"
       ]
      }
     ],
     "prompt_number": 7
    },
    {
     "cell_type": "code",
     "collapsed": false,
     "input": [
      "incomeInc_m = np.array(action_m[:,2], dtype=int)\n",
      "ageInc_m = np.array(action_m[:,3], dtype=int)\n",
      "rentalsInc_m = np.array(action_m[:,4], dtype=int)\n",
      "visit_avgInc_m = np.array(action_m[:,5], dtype=float)\n",
      "print \"M + A + I:  Income \\t\\tAge \\t\\tRentals \\tAvg Per Visit\"\n",
      "print \"Mean:      \", incomeInc_m.mean(), \"\\t\", ageInc_m.mean(), \"\\t\", rentalsInc_m.mean(), \"\\t\", visit_avgInc_m.mean()\n",
      "print \"Std:       \", incomeInc_m.std(), \"\\t\", ageInc_m.std(), \"\\t\", rentalsInc_m.std(), \"\\t\", visit_avgInc_m.std()"
     ],
     "language": "python",
     "metadata": {},
     "outputs": [
      {
       "output_type": "stream",
       "stream": "stdout",
       "text": [
        "M + A + I:  Income \t\tAge \t\tRentals \tAvg Per Visit\n",
        "Mean:       34230.7692308 \t23.6923076923 \t29.7692307692 \t2.69230769231\n",
        "Std:        19474.4560353 \t4.77790773947 \t6.85176952051 \t0.989530998824\n"
       ]
      }
     ],
     "prompt_number": 8
    },
    {
     "cell_type": "code",
     "collapsed": false,
     "input": [
      "rentals_mean = rentals.mean()\n",
      "rentals_std = rentals.std()\n",
      "rentals_znorm = (rentals - rentals_mean) / rentals_std\n",
      "rentals_com = np.array([rentals.astype('float'), rentals_znorm]).T\n",
      "print rentals_com\n",
      "#print np.around(rentals_com.T, decimals=2)"
     ],
     "language": "python",
     "metadata": {},
     "outputs": [
      {
       "output_type": "stream",
       "stream": "stdout",
       "text": [
        "[[  3.20000000e+01   5.71041472e-01]\n",
        " [  1.20000000e+01  -1.43966794e+00]\n",
        " [  4.20000000e+01   1.57639618e+00]\n",
        " [  1.60000000e+01  -1.03752605e+00]\n",
        " [  2.50000000e+01  -1.32706821e-01]\n",
        " [  2.90000000e+01   2.69435061e-01]\n",
        " [  1.90000000e+01  -7.35919644e-01]\n",
        " [  3.10000000e+01   4.70506002e-01]\n",
        " [  1.80000000e+01  -8.36455114e-01]\n",
        " [  2.10000000e+01  -5.34848703e-01]\n",
        " [  4.80000000e+01   2.17960900e+00]\n",
        " [  3.20000000e+01   5.71041472e-01]\n",
        " [  1.40000000e+01  -1.23859700e+00]\n",
        " [  2.40000000e+01  -2.33242291e-01]\n",
        " [  3.60000000e+01   9.73183354e-01]\n",
        " [  2.60000000e+01  -3.21713505e-02]\n",
        " [  2.80000000e+01   1.68899590e-01]\n",
        " [  3.90000000e+01   1.27478977e+00]\n",
        " [  4.10000000e+01   1.47586071e+00]\n",
        " [  2.30000000e+01  -3.33777762e-01]\n",
        " [  1.10000000e+01  -1.54020341e+00]\n",
        " [  1.60000000e+01  -1.03752605e+00]\n",
        " [  3.00000000e+01   3.69970531e-01]\n",
        " [  2.20000000e+01  -4.34313232e-01]\n",
        " [  2.50000000e+01  -1.32706821e-01]\n",
        " [  4.00000000e+01   1.37532524e+00]\n",
        " [  3.20000000e+01   5.71041472e-01]\n",
        " [  2.20000000e+01  -4.34313232e-01]\n",
        " [  3.70000000e+01   1.07371882e+00]\n",
        " [  1.70000000e+01  -9.36990584e-01]\n",
        " [  1.50000000e+01  -1.13806153e+00]\n",
        " [  2.10000000e+01  -5.34848703e-01]\n",
        " [  2.80000000e+01   1.68899590e-01]\n",
        " [  1.90000000e+01  -7.35919644e-01]\n",
        " [  4.30000000e+01   1.67693165e+00]\n",
        " [  3.40000000e+01   7.72112413e-01]\n",
        " [  1.20000000e+01  -1.43966794e+00]\n",
        " [  2.00000000e+01  -6.35384173e-01]\n",
        " [  1.90000000e+01  -7.35919644e-01]\n",
        " [  3.20000000e+01   5.71041472e-01]\n",
        " [  1.70000000e+01  -9.36990584e-01]\n",
        " [  2.60000000e+01  -3.21713505e-02]\n",
        " [  4.80000000e+01   2.17960900e+00]\n",
        " [  2.40000000e+01  -2.33242291e-01]\n",
        " [  3.00000000e+01   3.69970531e-01]\n",
        " [  9.00000000e+00  -1.74127435e+00]\n",
        " [  2.20000000e+01  -4.34313232e-01]\n",
        " [  1.40000000e+01  -1.23859700e+00]\n",
        " [  4.20000000e+01   1.57639618e+00]\n",
        " [  3.30000000e+01   6.71576942e-01]]\n"
       ]
      }
     ],
     "prompt_number": 47
    },
    {
     "cell_type": "code",
     "collapsed": false,
     "input": [],
     "language": "python",
     "metadata": {},
     "outputs": []
    }
   ],
   "metadata": {}
  }
 ]
}