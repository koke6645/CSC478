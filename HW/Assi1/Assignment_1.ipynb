{
 "metadata": {
  "name": "",
  "signature": "sha256:532afa7676e44429a7d9eb89671f8d0b921921f6c85886034499883f68877e95"
 },
 "nbformat": 3,
 "nbformat_minor": 0,
 "worksheets": [
  {
   "cells": [
    {
     "cell_type": "heading",
     "level": 3,
     "metadata": {},
     "source": [
      "1. Explore the general characteristics of the data, by computing the means and standard deviations of the numerical attributes, as well as the the distributions of male and female customers, the preferred movie genres, etc."
     ]
    },
    {
     "cell_type": "code",
     "collapsed": false,
     "input": [
      "import numpy as np\n",
      "vstable = np.genfromtxt(\"Video_Store.csv\", delimiter=\",\", dtype=None)\n",
      "labels = vstable[0]\n",
      "#print vstable\n",
      "vstable = vstable[1:]"
     ],
     "language": "python",
     "metadata": {},
     "outputs": [],
     "prompt_number": 1
    },
    {
     "cell_type": "code",
     "collapsed": false,
     "input": [
      "income = np.array(vstable[:,2], dtype=int)\n",
      "age = np.array(vstable[:,3], dtype=int)\n",
      "rentals = np.array(vstable[:,4], dtype=int)\n",
      "visit_avg = np.array(vstable[:,5], dtype=float)\n",
      "print \"       Income \\t\\tAge \\t\\tRentals \\tAvg Per Visit\"\n",
      "print \"Mean: \", income.mean(), \"\\t\\t\", age.mean(), \"\\t\\t\", rentals.mean(), \"\\t\\t\", visit_avg.mean()\n",
      "print \"Std:  \", income.std(), \"\\t\", age.std(), \"\\t\", rentals.std(), \"\\t\", visit_avg.std()\n"
     ],
     "language": "python",
     "metadata": {},
     "outputs": [
      {
       "output_type": "stream",
       "stream": "stdout",
       "text": [
        "       Income \t\tAge \t\tRentals \tAvg Per Visit\n",
        "Mean:  42300.0 \t\t31.56 \t\t26.32 \t\t2.748\n",
        "Std:   21194.5747775 \t11.8796632949 \t9.94673815881 \t0.889098419749\n"
       ]
      }
     ],
     "prompt_number": 2
    },
    {
     "cell_type": "code",
     "collapsed": false,
     "input": [
      "table_f = vstable[vstable[:,1] == 'F']\n",
      "income_f = np.array(table_f[:,2], dtype=int)\n",
      "age_f = np.array(table_f[:,3], dtype=int)\n",
      "rentals_f = np.array(table_f[:,4], dtype=int)\n",
      "visit_avg_f = np.array(table_f[:,5], dtype=float)\n",
      "print \"              Income \\t\\tAge \\t\\tRentals \\tAvg Per Visit\"\n",
      "print \"Female Mean: \", income_f.mean(), \"\\t\", age_f.mean(), \"\\t\\t\", rentals_f.mean(), \"\\t\\t\", visit_avg_f.mean()\n",
      "print \"Female Std:  \", income_f.std(), \"\\t\", age_f.std(), \"\\t\", rentals_f.std(), \"\\t\", visit_avg_f.std()"
     ],
     "language": "python",
     "metadata": {},
     "outputs": [
      {
       "output_type": "stream",
       "stream": "stdout",
       "text": [
        "              Income \t\tAge \t\tRentals \tAvg Per Visit\n",
        "Female Mean:  43708.3333333 \t34.375 \t\t26.625 \t\t2.775\n",
        "Female Std:   19986.4103136 \t13.5364092358 \t11.968056442 \t0.838277002746\n"
       ]
      }
     ],
     "prompt_number": 3
    },
    {
     "cell_type": "code",
     "collapsed": false,
     "input": [
      "action_f = table_f[table_f[:,7] == 'Action']\n",
      "comedy_f = table_f[table_f[:,7] == 'Comedy']\n",
      "drama_f = table_f[table_f[:,7] == 'Drama']\n",
      "print \"\\t\\t  Action  Comedy  Drama\"\n",
      "print \"Female Preferred:\", len(action_f), \"\\t \", len(comedy_f), \"\\t \", len(drama_f)\n",
      "print \"Buy incidentals: \", len(action_f[action_f[:,6] == 'Yes']), \"\\t \", len(comedy_f[comedy_f[:,6] == 'Yes']), \"\\t \", len(drama_f[drama_f[:,6] == 'Yes'])\n",
      "print \"Female customer:   \", len(table_f)\n",
      "print \"Female Incidentals:\", len(vstable[table_f[:,6] == 'Yes'])"
     ],
     "language": "python",
     "metadata": {},
     "outputs": [
      {
       "output_type": "stream",
       "stream": "stdout",
       "text": [
        "\t\t  Action  Comedy  Drama\n",
        "Female Preferred: 5 \t  6 \t  13\n",
        "Buy incidentals:  5 \t  0 \t  5\n",
        "Female customer:    24\n",
        "Female Incidentals: 10\n"
       ]
      }
     ],
     "prompt_number": 4
    },
    {
     "cell_type": "code",
     "collapsed": false,
     "input": [
      "table_m = vstable[vstable[:,1] == 'M']\n",
      "income_m = np.array(table_m[:,2], dtype=int)\n",
      "age_m = np.array(table_m[:,3], dtype=int)\n",
      "rentals_m = np.array(table_m[:,4], dtype=int)\n",
      "visit_avg_m = np.array(table_m[:,5], dtype=float)\n",
      "print \"              Income \\t\\tAge \\t\\tRentals \\tAvg Per Visit\"\n",
      "print \"Male Mean: \", income_m.mean(), \"\\t\", age_m.mean(), \"\\t\\t\", rentals_m.mean(), \"\\t\", visit_avg_m.mean()\n",
      "print \"Male Std:  \", income_m.std(), \"\\t\", age_m.std(), \"\\t\", rentals_m.std(), \"\\t\", visit_avg_m.std()"
     ],
     "language": "python",
     "metadata": {},
     "outputs": [
      {
       "output_type": "stream",
       "stream": "stdout",
       "text": [
        "              Income \t\tAge \t\tRentals \tAvg Per Visit\n",
        "Male Mean:  41000.0 \t28.9615384615 \t\t26.0384615385 \t2.72307692308\n",
        "Male Std:   22172.4014174 \t9.39099719957 \t7.60809674588 \t0.932864773904\n"
       ]
      }
     ],
     "prompt_number": 5
    },
    {
     "cell_type": "code",
     "collapsed": false,
     "input": [
      "action_m = table_m[table_m[:,7] == 'Action']\n",
      "comedy_m = table_m[table_m[:,7] == 'Comedy']\n",
      "drama_m = table_m[table_m[:,7] == 'Drama']\n",
      "print \"\\t\\t Action Comedy  Drama\"\n",
      "print \"Male preferred: \", len(action_m), \"\\t\", len(comedy_m), \"\\t\", len(drama_m)\n",
      "print \"Buy incidentals:\", len(action_m[action_m[:,6] == 'Yes']), \"\\t\", len(comedy_m[comedy_m[:,6] == 'Yes']), \"\\t\", len(drama_m[drama_m[:,6] == 'Yes'])\n",
      "print \"Male customer:   \", len(table_m)\n",
      "print \"Male Incidentals:\", len(vstable[table_m[:,6] == 'Yes'])"
     ],
     "language": "python",
     "metadata": {},
     "outputs": [
      {
       "output_type": "stream",
       "stream": "stdout",
       "text": [
        "\t\t Action Comedy  Drama\n",
        "Male preferred:  13 \t6 \t7\n",
        "Buy incidentals: 9 \t2 \t5\n",
        "Male customer:    26\n",
        "Male Incidentals: 16\n"
       ]
      }
     ],
     "prompt_number": 6
    },
    {
     "cell_type": "heading",
     "level": 3,
     "metadata": {},
     "source": [
      "2. Suppose that because of the higher profit margin, the store would like to increase the sales of incidentals. Select the subset of customers who tend to buy incidentals. Then, compute summaries (as in part 1) of the selected data with respect to all other attributes. Can you observe any significant patterns that characterize this segment of customers in contrast to the general customer populations? Based on your observations discuss how this could be accomplished (e.g., should customers with specific characteristics be targeted? Should certain types of movies be preferred? Etc.). Explain your answer based on your analysis of the data."
     ]
    },
    {
     "cell_type": "markdown",
     "metadata": {},
     "source": [
      "Ans: 100% of female and 69% of male who prefer action movie buy incidentals, but 83% of customers who prefer comedy movie don't buy incidentals. Last, 50% of customers who prefer drama movie buy incidentals. Indeed, customer who prefer action movie could be the target especially female in this group."
     ]
    },
    {
     "cell_type": "code",
     "collapsed": false,
     "input": [
      "buyIncidental = vstable[vstable[:,6]=='Yes']\n",
      "buyInc_Action = buyIncidental[buyIncidental[:,7] == 'Action']\n",
      "buyInc_Comedy = buyIncidental[buyIncidental[:,7] == 'Comedy']\n",
      "buyInc_Drama = buyIncidental[buyIncidental[:,7] == 'Drama']\n",
      "print \"Incidentals bought with movie\"\n",
      "print \"Action:\", len(buyInc_Action) \n",
      "print \"Comedy:\", len(buyInc_Comedy)\n",
      "print \"Drama: \", len(buyInc_Drama)\n",
      "print \"Total: \", len(buyIncidental)"
     ],
     "language": "python",
     "metadata": {},
     "outputs": [
      {
       "output_type": "stream",
       "stream": "stdout",
       "text": [
        "Incidentals bought with movie\n",
        "Action: 14\n",
        "Comedy: 2\n",
        "Drama:  10\n",
        "Total:  26\n"
       ]
      }
     ],
     "prompt_number": 7
    },
    {
     "cell_type": "code",
     "collapsed": false,
     "input": [
      "incomeInc_f = np.array(action_f[:,2], dtype=int)\n",
      "ageInc_f = np.array(action_f[:,3], dtype=int)\n",
      "rentalsInc_f = np.array(action_f[:,4], dtype=int)\n",
      "visit_avgInc_f = np.array(action_f[:,5], dtype=float)\n",
      "print \"F + A + I:  Income \\t\\tAge \\t\\tRentals \\tAvg Per Visit\"\n",
      "print \"Mean:      \", incomeInc_f.mean(), \"\\t       \", ageInc_f.mean(), \"\\t\\t\", rentalsInc_f.mean(), \"\\t\\t\", visit_avgInc_f.mean()\n",
      "print \"Std:       \", incomeInc_f.std(), \"\\t\", ageInc_f.std(), \"\\t\", rentalsInc_f.std(), \"\\t\", visit_avgInc_f.std()"
     ],
     "language": "python",
     "metadata": {},
     "outputs": [
      {
       "output_type": "stream",
       "stream": "stdout",
       "text": [
        "F + A + I:  Income \t\tAge \t\tRentals \tAvg Per Visit\n",
        "Mean:       26400.0 \t        24.6 \t\t33.4 \t\t2.46\n",
        "Std:        16906.8033643 \t7.5789181286 \t7.70973410696 \t0.440908153701\n"
       ]
      }
     ],
     "prompt_number": 8
    },
    {
     "cell_type": "code",
     "collapsed": false,
     "input": [
      "incomeInc_m = np.array(action_m[:,2], dtype=int)\n",
      "ageInc_m = np.array(action_m[:,3], dtype=int)\n",
      "rentalsInc_m = np.array(action_m[:,4], dtype=int)\n",
      "visit_avgInc_m = np.array(action_m[:,5], dtype=float)\n",
      "print \"M + A + I:  Income \\t\\tAge \\t\\tRentals \\tAvg Per Visit\"\n",
      "print \"Mean:      \", incomeInc_m.mean(), \"\\t\", ageInc_m.mean(), \"\\t\", rentalsInc_m.mean(), \"\\t\", visit_avgInc_m.mean()\n",
      "print \"Std:       \", incomeInc_m.std(), \"\\t\", ageInc_m.std(), \"\\t\", rentalsInc_m.std(), \"\\t\", visit_avgInc_m.std()"
     ],
     "language": "python",
     "metadata": {},
     "outputs": [
      {
       "output_type": "stream",
       "stream": "stdout",
       "text": [
        "M + A + I:  Income \t\tAge \t\tRentals \tAvg Per Visit\n",
        "Mean:       34230.7692308 \t23.6923076923 \t29.7692307692 \t2.69230769231\n",
        "Std:        19474.4560353 \t4.77790773947 \t6.85176952051 \t0.989530998824\n"
       ]
      }
     ],
     "prompt_number": 9
    },
    {
     "cell_type": "heading",
     "level": 3,
     "metadata": {},
     "source": [
      "3. Use z-score normalization to standardize the values of the Rentals attribute. Show the results side-by-side with the original Rentals attribute. [Do not change the original Rentals attribute in the table.]"
     ]
    },
    {
     "cell_type": "code",
     "collapsed": false,
     "input": [
      "rentals_mean = rentals.mean()\n",
      "rentals_std = rentals.std()\n",
      "rentals_znorm = (rentals - rentals_mean) / rentals_std\n",
      "#rentals_com = np.array([rentals.astype('float'), rentals_znorm]).T\n",
      "print \"Side-by-side Rentals / z-score normalization\\n \"\n",
      "for x,y in zip(rentals, rentals_znorm):\n",
      "    print (\"%d, %f\\n\" % (x,y))"
     ],
     "language": "python",
     "metadata": {},
     "outputs": [
      {
       "output_type": "stream",
       "stream": "stdout",
       "text": [
        "Side-by-side Rentals / z-score normalization\n",
        " \n",
        "32, 0.571041\n",
        "\n",
        "12, -1.439668\n",
        "\n",
        "42, 1.576396\n",
        "\n",
        "16, -1.037526\n",
        "\n",
        "25, -0.132707\n",
        "\n",
        "29, 0.269435\n",
        "\n",
        "19, -0.735920\n",
        "\n",
        "31, 0.470506\n",
        "\n",
        "18, -0.836455\n",
        "\n",
        "21, -0.534849\n",
        "\n",
        "48, 2.179609\n",
        "\n",
        "32, 0.571041\n",
        "\n",
        "14, -1.238597\n",
        "\n",
        "24, -0.233242\n",
        "\n",
        "36, 0.973183\n",
        "\n",
        "26, -0.032171\n",
        "\n",
        "28, 0.168900\n",
        "\n",
        "39, 1.274790\n",
        "\n",
        "41, 1.475861\n",
        "\n",
        "23, -0.333778\n",
        "\n",
        "11, -1.540203\n",
        "\n",
        "16, -1.037526\n",
        "\n",
        "30, 0.369971\n",
        "\n",
        "22, -0.434313\n",
        "\n",
        "25, -0.132707\n",
        "\n",
        "40, 1.375325\n",
        "\n",
        "32, 0.571041\n",
        "\n",
        "22, -0.434313\n",
        "\n",
        "37, 1.073719\n",
        "\n",
        "17, -0.936991\n",
        "\n",
        "15, -1.138062\n",
        "\n",
        "21, -0.534849\n",
        "\n",
        "28, 0.168900\n",
        "\n",
        "19, -0.735920\n",
        "\n",
        "43, 1.676932\n",
        "\n",
        "34, 0.772112\n",
        "\n",
        "12, -1.439668\n",
        "\n",
        "20, -0.635384\n",
        "\n",
        "19, -0.735920\n",
        "\n",
        "32, 0.571041\n",
        "\n",
        "17, -0.936991\n",
        "\n",
        "26, -0.032171\n",
        "\n",
        "48, 2.179609\n",
        "\n",
        "24, -0.233242\n",
        "\n",
        "30, 0.369971\n",
        "\n",
        "9, -1.741274\n",
        "\n",
        "22, -0.434313\n",
        "\n",
        "14, -1.238597\n",
        "\n",
        "42, 1.576396\n",
        "\n",
        "33, 0.671577\n",
        "\n"
       ]
      }
     ],
     "prompt_number": 10
    },
    {
     "cell_type": "heading",
     "level": 3,
     "metadata": {},
     "source": [
      "4. Use Min-Max Normalization to transform the values of all numeric attributes (Income, Age, Rentals, Avg. Per Visit) onto the range 0.0-1.0."
     ]
    },
    {
     "cell_type": "code",
     "collapsed": false,
     "input": [
      "min_income = income.min()\n",
      "max_income = income.max()\n",
      "range_income = max_income - min_income\n",
      "norm_income = (income - min_income).astype(float) / range_income\n",
      "print \"Normalizing Income\\n\", norm_income"
     ],
     "language": "python",
     "metadata": {},
     "outputs": [
      {
       "output_type": "stream",
       "stream": "stdout",
       "text": [
        "Normalizing Income\n",
        "[ 0.5         0.60227273  0.35227273  0.65909091  0.40909091  0.19318182\n",
        "  0.31818182  0.82954545  0.42045455  0.72727273  0.45454545  0.28409091\n",
        "  0.93181818  0.5         0.76136364  0.18181818  0.39772727  0.05681818\n",
        "  0.26136364  0.125       0.52272727  0.27272727  0.01136364  0.88636364\n",
        "  0.          0.625       0.69318182  0.63636364  0.15909091  0.45454545\n",
        "  0.54545455  0.52272727  0.25        0.31818182  0.82954545  0.31818182\n",
        "  1.          0.45454545  0.76136364  0.18181818  0.55681818  0.35227273\n",
        "  0.54545455  0.38636364  0.625       0.63636364  0.77272727  0.57954545\n",
        "  0.34090909  0.26136364]\n"
       ]
      }
     ],
     "prompt_number": 11
    },
    {
     "cell_type": "code",
     "collapsed": false,
     "input": [
      "min_age = age.min()\n",
      "max_age = age.max()\n",
      "range_age = max_age - min_age\n",
      "norm_age = (age - min_age).astype(float) / range_age\n",
      "print \"Normalizing Age\\n\", norm_age"
     ],
     "language": "python",
     "metadata": {},
     "outputs": [
      {
       "output_type": "stream",
       "stream": "stdout",
       "text": [
        "Normalizing Age\n",
        "[ 0.18181818  0.32727273  0.09090909  1.          0.36363636  0.09090909\n",
        "  0.54545455  0.18181818  0.10909091  0.45454545  0.12727273  0.12727273\n",
        "  0.56363636  0.38181818  0.27272727  0.07272727  0.36363636  0.01818182\n",
        "  0.18181818  0.01818182  0.67272727  0.32727273  0.          0.36363636\n",
        "  0.01818182  0.36363636  0.58181818  0.67272727  0.05454545  0.18181818\n",
        "  0.74545455  0.27272727  0.18181818  0.30909091  0.25454545  0.10909091\n",
        "  0.56363636  0.41818182  0.36363636  0.07272727  0.32727273  0.18181818\n",
        "  0.23636364  0.16363636  0.41818182  0.50909091  0.36363636  0.58181818\n",
        "  0.18181818  0.09090909]\n"
       ]
      }
     ],
     "prompt_number": 12
    },
    {
     "cell_type": "code",
     "collapsed": false,
     "input": [
      "min_rentals = rentals.min()\n",
      "max_rentals = rentals.max()\n",
      "range_rentals = max_rentals - min_rentals\n",
      "norm_rentals = (rentals - min_rentals).astype(float) / range_rentals\n",
      "print \"Normalizing Rentals\\n\", norm_rentals"
     ],
     "language": "python",
     "metadata": {},
     "outputs": [
      {
       "output_type": "stream",
       "stream": "stdout",
       "text": [
        "Normalizing Rentals\n",
        "[ 0.58974359  0.07692308  0.84615385  0.17948718  0.41025641  0.51282051\n",
        "  0.25641026  0.56410256  0.23076923  0.30769231  1.          0.58974359\n",
        "  0.12820513  0.38461538  0.69230769  0.43589744  0.48717949  0.76923077\n",
        "  0.82051282  0.35897436  0.05128205  0.17948718  0.53846154  0.33333333\n",
        "  0.41025641  0.79487179  0.58974359  0.33333333  0.71794872  0.20512821\n",
        "  0.15384615  0.30769231  0.48717949  0.25641026  0.87179487  0.64102564\n",
        "  0.07692308  0.28205128  0.25641026  0.58974359  0.20512821  0.43589744\n",
        "  1.          0.38461538  0.53846154  0.          0.33333333  0.12820513\n",
        "  0.84615385  0.61538462]\n"
       ]
      }
     ],
     "prompt_number": 13
    },
    {
     "cell_type": "code",
     "collapsed": false,
     "input": [
      "min_visit_avg = visit_avg.min()\n",
      "max_visit_avg = visit_avg.max()\n",
      "range_visit_avg = max_visit_avg - min_visit_avg\n",
      "norm_visit_avg = (visit_avg - min_visit_avg) / range_visit_avg\n",
      "print \"Normalizing Visit Average\\n\", norm_visit_avg"
     ],
     "language": "python",
     "metadata": {},
     "outputs": [
      {
       "output_type": "stream",
       "stream": "stdout",
       "text": [
        "Normalizing Visit Average\n",
        "[ 0.38888889  0.63888889  0.13888889  0.86111111  0.58333333  0.16666667\n",
        "  0.75        0.36111111  0.27777778  0.61111111  0.33333333  0.5\n",
        "  0.69444444  0.44444444  0.44444444  0.30555556  0.66666667  0.19444444\n",
        "  0.55555556  0.30555556  0.55555556  0.5         0.38888889  0.75\n",
        "  0.08333333  0.41666667  0.69444444  0.83333333  0.27777778  0.08333333\n",
        "  0.58333333  0.55555556  0.44444444  0.5         0.97222222  0.33333333\n",
        "  0.02777778  0.61111111  0.77777778  0.19444444  0.08333333  0.30555556\n",
        "  0.61111111  0.16666667  0.66666667  0.          0.47222222  0.13888889\n",
        "  0.63888889  1.        ]\n"
       ]
      }
     ],
     "prompt_number": 14
    },
    {
     "cell_type": "heading",
     "level": 3,
     "metadata": {},
     "source": [
      "5. Convert the table (after normalization in part 4) into the standard spreadsheet format. Note that this requires converting each categorical attribute into multiple attributes (one for each values of the categorical attribute) and assigning binary values corresponding to the presence or not presence of the attribute value in the original record). For example, the Gender attribute will be transformed into two attributes, \"Genre=M\" and \"Genre=F\". The numerical attributes will remain unchanged. This process should result in a new table with 12 attributes (one for Customer ID, two for Gender, one for each of Income, Age, Rentals, Avg. Per Visit, two for Incidentals, and three for Genre). Save this new table into a file called video_store_numeric.csv."
     ]
    },
    {
     "cell_type": "code",
     "collapsed": false,
     "input": [
      "gender = np.array(vstable[:,1])\n",
      "gen_f = np.zeros(len(gender))\n",
      "gen_f[gender=='F'] = 1\n",
      "#print gen_f\n",
      "gen_m = np.zeros(len(gender))\n",
      "gen_m[gender=='M'] = 1\n",
      "#print gen_m"
     ],
     "language": "python",
     "metadata": {},
     "outputs": [],
     "prompt_number": 15
    },
    {
     "cell_type": "code",
     "collapsed": false,
     "input": [
      "incidentals = np.array(vstable[:,6])\n",
      "inc_y = np.zeros(len(incidentals))\n",
      "inc_y[incidentals=='Yes'] = 1\n",
      "#print inc_y\n",
      "inc_n = np.zeros(len(incidentals))\n",
      "inc_n[incidentals=='No'] = 1\n",
      "#print inc_n"
     ],
     "language": "python",
     "metadata": {},
     "outputs": [],
     "prompt_number": 16
    },
    {
     "cell_type": "code",
     "collapsed": false,
     "input": [
      "genre = np.array(vstable[:,7])\n",
      "genre_a = np.zeros(len(genre))\n",
      "genre_a[genre=='Action'] = 1\n",
      "#print genre_a\n",
      "genre_c = np.zeros(len(genre))\n",
      "genre_c[genre=='Comedy'] = 1\n",
      "#print genre_c\n",
      "genre_d = np.zeros(len(genre))\n",
      "genre_d[genre=='Drama'] = 1\n",
      "#print genre_d"
     ],
     "language": "python",
     "metadata": {},
     "outputs": [],
     "prompt_number": 17
    },
    {
     "cell_type": "code",
     "collapsed": false,
     "input": [
      "custID = np.array(vstable[:,0], dtype=int)\n",
      "vs_new = np.array([custID, gen_f, gen_m, norm_income, norm_age, norm_rentals, norm_visit_avg, inc_y, inc_n, genre_a, genre_c, genre_d])\n",
      "vs_new = vs_new.T\n",
      "#print vs_new\n",
      "out_file = open(\"video_store_numeric.csv\", \"w\")\n",
      "out_file.write(\"Cust ID,Female,Male,Income,Age,Rentals,Avg Per Visit,Buy Incidentals, Not Buy Incidentals,Action,Comedy,Drama\\n\" )\n",
      "np.savetxt(out_file, vs_new, fmt='%d,%d,%d,%1.2f,%1.2f,%1.2f,%1.2f,%d,%d,%d,%d,%d', delimiter=',')\n",
      "out_file.close()"
     ],
     "language": "python",
     "metadata": {},
     "outputs": [],
     "prompt_number": 18
    },
    {
     "cell_type": "raw",
     "metadata": {},
     "source": [
      "6. Using the standardized data set (from part e), perform basic correlation analysis among the attributes. Discuss your results by indicating any strong correlations (positive or negative) among pairs of attributes. You need to construct a complete Correlation Matrix. Be sure to first remove the Customer ID column before creating the correlation matrix. [Hint: you can do this by using the corrcoef function in NumPy]."
     ]
    },
    {
     "cell_type": "markdown",
     "metadata": {},
     "source": [
      "Ans: Age and income have a strong positive relationship. Age also has a strong positive toward drama movie but strong negative toward action movie."
     ]
    },
    {
     "cell_type": "code",
     "collapsed": false,
     "input": [
      "norm_table = np.genfromtxt(\"video_store_numeric.csv\", delimiter=\",\", dtype=None)\n",
      "norm_table = norm_table[1:]\n",
      "norm_no_id = norm_table[:,1:].astype(float)\n",
      "#print norm_no_id\n",
      "corr_matrix = np.corrcoef(norm_no_id.T)\n",
      "np.set_printoptions(formatter={'float': '{: 0.2f}'.format})\n",
      "print \"    F     M     $    Age   Rent AvgVis Inc  NoInc  Act   Com   Dra\"\n",
      "print corr_matrix"
     ],
     "language": "python",
     "metadata": {},
     "outputs": [
      {
       "output_type": "stream",
       "stream": "stdout",
       "text": [
        "    F     M     $    Age   Rent AvgVis Inc  NoInc  Act   Com   Dra\n",
        "[[ 1.00 -1.00  0.07  0.23  0.03  0.03 -0.20  0.20 -0.30  0.02  0.28]\n",
        " [-1.00  1.00 -0.07 -0.23 -0.03 -0.03  0.20 -0.20  0.30 -0.02 -0.28]\n",
        " [ 0.07 -0.07  1.00  0.62 -0.27  0.30 -0.07  0.07 -0.36  0.07  0.29]\n",
        " [ 0.23 -0.23  0.62  1.00 -0.55  0.40 -0.21  0.21 -0.48  0.02  0.46]\n",
        " [ 0.03 -0.03 -0.27 -0.55  1.00  0.08  0.32 -0.32  0.34 -0.04 -0.30]\n",
        " [ 0.03 -0.03  0.30  0.40  0.08  1.00  0.08 -0.08 -0.10 -0.07  0.16]\n",
        " [-0.20  0.20 -0.07 -0.21  0.32  0.08  1.00 -1.00  0.39 -0.40 -0.03]\n",
        " [ 0.20 -0.20  0.07  0.21 -0.32 -0.08 -1.00  1.00 -0.39  0.40  0.03]\n",
        " [-0.30  0.30 -0.36 -0.48  0.34 -0.10  0.39 -0.39  1.00 -0.42 -0.61]\n",
        " [ 0.02 -0.02  0.07  0.02 -0.04 -0.07 -0.40  0.40 -0.42  1.00 -0.46]\n",
        " [ 0.28 -0.28  0.29  0.46 -0.30  0.16 -0.03  0.03 -0.61 -0.46  1.00]]\n"
       ]
      }
     ],
     "prompt_number": 19
    },
    {
     "cell_type": "heading",
     "level": 3,
     "metadata": {},
     "source": [
      "7. Using Matplotlib library, create a scatter plot of the (non-normalized) Income attribute relative to Age. Be sure that your plot contains appropriate labels for the axes. Do these variables seem correlated?"
     ]
    },
    {
     "cell_type": "markdown",
     "metadata": {},
     "source": [
      "Ans: The variables seem correlated. Low age has low income and older has hier income"
     ]
    },
    {
     "cell_type": "code",
     "collapsed": false,
     "input": [
      "import matplotlib.pyplot as plt\n",
      "fig = plt.figure(figsize=(8,7))\n",
      "ax = fig.add_subplot(111)\n",
      "ax.scatter(age, income, color=\"red\", marker=\"*\")\n",
      "ax.set_title(\"Age vs Income\")\n",
      "ax.set_ylabel(\"Income\")\n",
      "ax.set_xlabel(\"Age\")\n",
      "plt.axis([10,80,0,90000])\n",
      "plt.show()"
     ],
     "language": "python",
     "metadata": {},
     "outputs": [],
     "prompt_number": 20
    },
    {
     "cell_type": "heading",
     "level": 3,
     "metadata": {},
     "source": [
      "8. Using the hist function of Matplotlib, create histograms for (non-normalized) Income (using 9 bins) and Age (using 7 bins)."
     ]
    },
    {
     "cell_type": "code",
     "collapsed": false,
     "input": [
      "plt.hist(income, bins=9, alpha=0.5)\n",
      "plt.xlabel('Income')\n",
      "plt.ylabel('Count')\n",
      "plt.title('Histogram of Income Populations')\n",
      "plt.axis([0,90000,0,10])\n",
      "plt.grid(True)\n",
      "plt.show()"
     ],
     "language": "python",
     "metadata": {},
     "outputs": [],
     "prompt_number": 21
    },
    {
     "cell_type": "code",
     "collapsed": false,
     "input": [
      "plt.hist(age, bins=7, alpha=0.5)\n",
      "plt.xlabel('Age')\n",
      "plt.ylabel('Count')\n",
      "plt.title('Histogram of Age Populations')\n",
      "plt.axis([10,75,0,15])\n",
      "plt.grid(True)\n",
      "plt.show()"
     ],
     "language": "python",
     "metadata": {},
     "outputs": [],
     "prompt_number": 22
    },
    {
     "cell_type": "heading",
     "level": 3,
     "metadata": {},
     "source": [
      "9. Using Python and Numpy, perform a cross-tabulation of the two \"gender\" variables versus the three \"genre\" variables. This requires the aggregation of the occurrences of each genre separately for each gender. You can use whatever appropriate data structure you which to store the results, but you can display it as as a 2 x 3 (gender x genre) table with entries representing the counts. Then, use Matplotlib to create a bar chart graph to visualize of the relationships between these sets of variables (comparing Male and Female customer across the three Genres). Your chart should contain appropriate labels for axes. [Hint: This example of creating simple bar charts using Matplotlib may be useful.]"
     ]
    },
    {
     "cell_type": "code",
     "collapsed": false,
     "input": [
      "genre_f = np.array([len(action_f), len(comedy_f), len(drama_f)])\n",
      "genre_m = np.array([len(action_m), len(comedy_m), len(drama_m)])\n",
      "print \"        Action\\tComedy\\tDrama\"\n",
      "print \"Female:  \",genre_f[0], \"\\t \", genre_f[1], \"\\t \", genre_f[2]\n",
      "print \"Male:    \", genre_m[0], \"\\t \", genre_m[1], \"\\t \", genre_m[2]"
     ],
     "language": "python",
     "metadata": {},
     "outputs": [
      {
       "output_type": "stream",
       "stream": "stdout",
       "text": [
        "        Action\tComedy\tDrama\n",
        "Female:   5 \t  6 \t  13\n",
        "Male:     13 \t  6 \t  7\n"
       ]
      }
     ],
     "prompt_number": 23
    },
    {
     "cell_type": "code",
     "collapsed": false,
     "input": [
      "N = 3\n",
      "ind = np.arange(N)\n",
      "width = 0.2\n",
      "fig, ax = plt.subplots()\n",
      "\n",
      "rects1 = ax.bar(ind, genre_f, width, color='r')\n",
      "rects2 = ax.bar(ind+width, genre_m, width, color='b')\n",
      "\n",
      "ax.set_xlabel('Genre')\n",
      "ax.set_ylabel('Scores')\n",
      "ax.set_title('Scores by genre and gender')\n",
      "ax.set_xticks(ind+width)\n",
      "ax.set_xticklabels( ('Action', 'Comedy', 'Drama') )\n",
      "ax.legend( (rects1[0], rects2[0]), ('Female', 'Male') )\n",
      "          \n",
      "def autolabel(rects):\n",
      "    for rect in rects:\n",
      "        height = rect.get_height()\n",
      "        ax.text(rect.get_x()+rect.get_width()/2., 1.05*height, '%d'%int(height),\n",
      "                ha='center', va='bottom')\n",
      "\n",
      "autolabel(rects1)\n",
      "autolabel(rects2)\n",
      "plt.axis([0,3,0,16])\n",
      "plt.show()\n"
     ],
     "language": "python",
     "metadata": {},
     "outputs": [],
     "prompt_number": 24
    }
   ],
   "metadata": {}
  }
 ]
}