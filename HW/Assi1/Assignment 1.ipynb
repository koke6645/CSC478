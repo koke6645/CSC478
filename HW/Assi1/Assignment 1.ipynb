{
 "metadata": {
  "name": "",
  "signature": "sha256:3ab250c3d76510df49e4ffd407b456274433f60562b91b315d305638fa06f4b1"
 },
 "nbformat": 3,
 "nbformat_minor": 0,
 "worksheets": [
  {
   "cells": [
    {
     "cell_type": "code",
     "collapsed": false,
     "input": [
      "import numpy as np\n",
      "vstable = np.genfromtxt(\"Video_Store.csv\", delimiter=\",\", dtype=None)\n",
      "labels = vstable[0]\n",
      "#print vstable\n",
      "vstable = vstable[1:]"
     ],
     "language": "python",
     "metadata": {},
     "outputs": [],
     "prompt_number": 151
    },
    {
     "cell_type": "code",
     "collapsed": false,
     "input": [
      "income = np.array(vstable[:,2], dtype=int)\n",
      "age = np.array(vstable[:,3], dtype=int)\n",
      "rentals = np.array(vstable[:,4], dtype=int)\n",
      "visit_avg = np.array(vstable[:,5], dtype=float)\n",
      "print \"       Income \\t\\tAge \\t\\tRentals \\tAvg Per Visit\"\n",
      "print \"Mean: \", income.mean(), \"\\t\\t\", age.mean(), \"\\t\\t\", rentals.mean(), \"\\t\\t\", visit_avg.mean()\n",
      "print \"Std:  \", income.std(), \"\\t\", age.std(), \"\\t\", rentals.std(), \"\\t\", visit_avg.std()\n"
     ],
     "language": "python",
     "metadata": {},
     "outputs": [
      {
       "output_type": "stream",
       "stream": "stdout",
       "text": [
        "       Income \t\tAge \t\tRentals \tAvg Per Visit\n",
        "Mean:  42300.0 \t\t31.56 \t\t26.32 \t\t2.748\n",
        "Std:   21194.5747775 \t11.8796632949 \t9.94673815881 \t0.889098419749\n"
       ]
      }
     ],
     "prompt_number": 152
    },
    {
     "cell_type": "code",
     "collapsed": false,
     "input": [
      "table_f = vstable[vstable[:,1] == 'F']\n",
      "action_f = table_f[table_f[:,7] == 'Action']\n",
      "comedy_f = table_f[table_f[:,7] == 'Comedy']\n",
      "drama_f = table_f[table_f[:,7] == 'Drama']\n",
      "#print table_f\n",
      "print \"\\t\\t  Action  Comedy  Drama\"\n",
      "print \"Female Preferred:\", len(action_f), \"\\t \", len(comedy_f), \"\\t \", len(drama_f)\n",
      "print \"Buy incidentals: \", len(action_f[action_f[:,6] == 'Yes']), \"\\t \", len(comedy_f[comedy_f[:,6] == 'Yes']), \"\\t \", len(drama_f[drama_f[:,6] == 'Yes'])\n",
      "print \"Female customer:   \", len(table_f)\n",
      "print \"Female Incidentals:\", len(vstable[table_f[:,6] == 'Yes'])\n",
      "#action_f"
     ],
     "language": "python",
     "metadata": {},
     "outputs": [
      {
       "output_type": "stream",
       "stream": "stdout",
       "text": [
        "\t\t  Action  Comedy  Drama\n",
        "Female Preferred: 5 \t  6 \t  13\n",
        "Buy incidentals:  5 \t  0 \t  5\n",
        "Female customer:    24\n",
        "Female Incidentals: 10\n"
       ]
      }
     ],
     "prompt_number": 153
    },
    {
     "cell_type": "code",
     "collapsed": false,
     "input": [
      "table_m = vstable[vstable[:,1] == 'M']\n",
      "action_m = table_m[table_m[:,7] == 'Action']\n",
      "comedy_m = table_m[table_m[:,7] == 'Comedy']\n",
      "drama_m = table_m[table_m[:,7] == 'Drama']\n",
      "#print table_m\n",
      "print \"\\t\\t Action Comedy  Drama\"\n",
      "print \"Male preferred: \", len(action_m), \"\\t\", len(comedy_m), \"\\t\", len(drama_m)\n",
      "print \"Buy incidentals:\", len(action_m[action_m[:,6] == 'Yes']), \"\\t\", len(comedy_m[comedy_m[:,6] == 'Yes']), \"\\t\", len(drama_m[drama_m[:,6] == 'Yes'])\n",
      "print \"Male customer:   \", len(table_m)\n",
      "print \"Male Incidentals:\", len(vstable[table_m[:,6] == 'Yes'])\n",
      "#action_m"
     ],
     "language": "python",
     "metadata": {},
     "outputs": [
      {
       "output_type": "stream",
       "stream": "stdout",
       "text": [
        "\t\t Action Comedy  Drama\n",
        "Male preferred:  13 \t6 \t7\n",
        "Buy incidentals: 9 \t2 \t5\n",
        "Male customer:    26\n",
        "Male Incidentals: 16\n"
       ]
      }
     ],
     "prompt_number": 154
    },
    {
     "cell_type": "code",
     "collapsed": false,
     "input": [
      "buyIncidental = vstable[vstable[:,6]=='Yes']\n",
      "buyInc_Action = buyIncidental[buyIncidental[:,7] == 'Action']\n",
      "buyInc_Comedy = buyIncidental[buyIncidental[:,7] == 'Comedy']\n",
      "buyInc_Drama = buyIncidental[buyIncidental[:,7] == 'Drama']\n",
      "print \"Incidentals bought with movie\"\n",
      "print \"Action:\", len(buyInc_Action) \n",
      "print \"Comedy:\", len(buyInc_Comedy)\n",
      "print \"Drama: \", len(buyInc_Drama)\n",
      "print \"Total: \", len(buyIncidental)\n",
      "#buyInc_Action"
     ],
     "language": "python",
     "metadata": {},
     "outputs": [
      {
       "output_type": "stream",
       "stream": "stdout",
       "text": [
        "Incidentals bought with movie\n",
        "Action: 14\n",
        "Comedy: 2\n",
        "Drama:  10\n",
        "Total:  26\n"
       ]
      }
     ],
     "prompt_number": 155
    },
    {
     "cell_type": "code",
     "collapsed": false,
     "input": [
      "incomeInc_f = np.array(action_f[:,2], dtype=int)\n",
      "ageInc_f = np.array(action_f[:,3], dtype=int)\n",
      "rentalsInc_f = np.array(action_f[:,4], dtype=int)\n",
      "visit_avgInc_f = np.array(action_f[:,5], dtype=float)\n",
      "print \"F + A + I:  Income \\t\\tAge \\t\\tRentals \\tAvg Per Visit\"\n",
      "print \"Mean:      \", incomeInc_f.mean(), \"\\t       \", ageInc_f.mean(), \"\\t\\t\", rentalsInc_f.mean(), \"\\t\\t\", visit_avgInc_f.mean()\n",
      "print \"Std:       \", incomeInc_f.std(), \"\\t\", ageInc_f.std(), \"\\t\", rentalsInc_f.std(), \"\\t\", visit_avgInc_f.std()"
     ],
     "language": "python",
     "metadata": {},
     "outputs": [
      {
       "output_type": "stream",
       "stream": "stdout",
       "text": [
        "F + A + I:  Income \t\tAge \t\tRentals \tAvg Per Visit\n",
        "Mean:       26400.0 \t        24.6 \t\t33.4 \t\t2.46\n",
        "Std:        16906.8033643 \t7.5789181286 \t7.70973410696 \t0.440908153701\n"
       ]
      }
     ],
     "prompt_number": 156
    },
    {
     "cell_type": "code",
     "collapsed": false,
     "input": [
      "incomeInc_m = np.array(action_m[:,2], dtype=int)\n",
      "ageInc_m = np.array(action_m[:,3], dtype=int)\n",
      "rentalsInc_m = np.array(action_m[:,4], dtype=int)\n",
      "visit_avgInc_m = np.array(action_m[:,5], dtype=float)\n",
      "print \"M + A + I:  Income \\t\\tAge \\t\\tRentals \\tAvg Per Visit\"\n",
      "print \"Mean:      \", incomeInc_m.mean(), \"\\t\", ageInc_m.mean(), \"\\t\", rentalsInc_m.mean(), \"\\t\", visit_avgInc_m.mean()\n",
      "print \"Std:       \", incomeInc_m.std(), \"\\t\", ageInc_m.std(), \"\\t\", rentalsInc_m.std(), \"\\t\", visit_avgInc_m.std()"
     ],
     "language": "python",
     "metadata": {},
     "outputs": [
      {
       "output_type": "stream",
       "stream": "stdout",
       "text": [
        "M + A + I:  Income \t\tAge \t\tRentals \tAvg Per Visit\n",
        "Mean:       34230.7692308 \t23.6923076923 \t29.7692307692 \t2.69230769231\n",
        "Std:        19474.4560353 \t4.77790773947 \t6.85176952051 \t0.989530998824\n"
       ]
      }
     ],
     "prompt_number": 157
    },
    {
     "cell_type": "code",
     "collapsed": false,
     "input": [
      "rentals_mean = rentals.mean()\n",
      "rentals_std = rentals.std()\n",
      "rentals_znorm = (rentals - rentals_mean) / rentals_std\n",
      "#rentals_com = np.array([rentals.astype('float'), rentals_znorm]).T\n",
      "print \"Side-by-side Rentals / z-score normalization\\n \"\n",
      "for x,y in zip(rentals, rentals_znorm):\n",
      "    print (\"%d, %f\\n\" % (x,y))"
     ],
     "language": "python",
     "metadata": {},
     "outputs": [
      {
       "output_type": "stream",
       "stream": "stdout",
       "text": [
        "Side-by-side Rentals / z-score normalization\n",
        " \n",
        "32, 0.571041\n",
        "\n",
        "12, -1.439668\n",
        "\n",
        "42, 1.576396\n",
        "\n",
        "16, -1.037526\n",
        "\n",
        "25, -0.132707\n",
        "\n",
        "29, 0.269435\n",
        "\n",
        "19, -0.735920\n",
        "\n",
        "31, 0.470506\n",
        "\n",
        "18, -0.836455\n",
        "\n",
        "21, -0.534849\n",
        "\n",
        "48, 2.179609\n",
        "\n",
        "32, 0.571041\n",
        "\n",
        "14, -1.238597\n",
        "\n",
        "24, -0.233242\n",
        "\n",
        "36, 0.973183\n",
        "\n",
        "26, -0.032171\n",
        "\n",
        "28, 0.168900\n",
        "\n",
        "39, 1.274790\n",
        "\n",
        "41, 1.475861\n",
        "\n",
        "23, -0.333778\n",
        "\n",
        "11, -1.540203\n",
        "\n",
        "16, -1.037526\n",
        "\n",
        "30, 0.369971\n",
        "\n",
        "22, -0.434313\n",
        "\n",
        "25, -0.132707\n",
        "\n",
        "40, 1.375325\n",
        "\n",
        "32, 0.571041\n",
        "\n",
        "22, -0.434313\n",
        "\n",
        "37, 1.073719\n",
        "\n",
        "17, -0.936991\n",
        "\n",
        "15, -1.138062\n",
        "\n",
        "21, -0.534849\n",
        "\n",
        "28, 0.168900\n",
        "\n",
        "19, -0.735920\n",
        "\n",
        "43, 1.676932\n",
        "\n",
        "34, 0.772112\n",
        "\n",
        "12, -1.439668\n",
        "\n",
        "20, -0.635384\n",
        "\n",
        "19, -0.735920\n",
        "\n",
        "32, 0.571041\n",
        "\n",
        "17, -0.936991\n",
        "\n",
        "26, -0.032171\n",
        "\n",
        "48, 2.179609\n",
        "\n",
        "24, -0.233242\n",
        "\n",
        "30, 0.369971\n",
        "\n",
        "9, -1.741274\n",
        "\n",
        "22, -0.434313\n",
        "\n",
        "14, -1.238597\n",
        "\n",
        "42, 1.576396\n",
        "\n",
        "33, 0.671577\n",
        "\n"
       ]
      }
     ],
     "prompt_number": 158
    },
    {
     "cell_type": "code",
     "collapsed": false,
     "input": [
      "min_income = income.min()\n",
      "max_income = income.max()\n",
      "range_income = max_income - min_income\n",
      "norm_income = (income - min_income).astype(float) / range_income\n",
      "print \"Normalizing Income\\n\", norm_income"
     ],
     "language": "python",
     "metadata": {},
     "outputs": [
      {
       "output_type": "stream",
       "stream": "stdout",
       "text": [
        "Normalizing Income\n",
        "[ 0.50  0.60  0.35  0.66  0.41  0.19  0.32  0.83  0.42  0.73  0.45  0.28\n",
        "  0.93  0.50  0.76  0.18  0.40  0.06  0.26  0.12  0.52  0.27  0.01  0.89\n",
        "  0.00  0.62  0.69  0.64  0.16  0.45  0.55  0.52  0.25  0.32  0.83  0.32\n",
        "  1.00  0.45  0.76  0.18  0.56  0.35  0.55  0.39  0.62  0.64  0.77  0.58\n",
        "  0.34  0.26]\n"
       ]
      }
     ],
     "prompt_number": 159
    },
    {
     "cell_type": "code",
     "collapsed": false,
     "input": [
      "min_age = age.min()\n",
      "max_age = age.max()\n",
      "range_age = max_age - min_age\n",
      "norm_age = (age - min_age).astype(float) / range_age\n",
      "print \"Normalizing Age\\n\", norm_age"
     ],
     "language": "python",
     "metadata": {},
     "outputs": [
      {
       "output_type": "stream",
       "stream": "stdout",
       "text": [
        "Normalizing Age\n",
        "[ 0.18  0.33  0.09  1.00  0.36  0.09  0.55  0.18  0.11  0.45  0.13  0.13\n",
        "  0.56  0.38  0.27  0.07  0.36  0.02  0.18  0.02  0.67  0.33  0.00  0.36\n",
        "  0.02  0.36  0.58  0.67  0.05  0.18  0.75  0.27  0.18  0.31  0.25  0.11\n",
        "  0.56  0.42  0.36  0.07  0.33  0.18  0.24  0.16  0.42  0.51  0.36  0.58\n",
        "  0.18  0.09]\n"
       ]
      }
     ],
     "prompt_number": 160
    },
    {
     "cell_type": "code",
     "collapsed": false,
     "input": [
      "min_rentals = rentals.min()\n",
      "max_rentals = rentals.max()\n",
      "range_rentals = max_rentals - min_rentals\n",
      "norm_rentals = (rentals - min_rentals).astype(float) / range_rentals\n",
      "print \"Normalizing Rentals\\n\", norm_rentals"
     ],
     "language": "python",
     "metadata": {},
     "outputs": [
      {
       "output_type": "stream",
       "stream": "stdout",
       "text": [
        "Normalizing Rentals\n",
        "[ 0.59  0.08  0.85  0.18  0.41  0.51  0.26  0.56  0.23  0.31  1.00  0.59\n",
        "  0.13  0.38  0.69  0.44  0.49  0.77  0.82  0.36  0.05  0.18  0.54  0.33\n",
        "  0.41  0.79  0.59  0.33  0.72  0.21  0.15  0.31  0.49  0.26  0.87  0.64\n",
        "  0.08  0.28  0.26  0.59  0.21  0.44  1.00  0.38  0.54  0.00  0.33  0.13\n",
        "  0.85  0.62]\n"
       ]
      }
     ],
     "prompt_number": 161
    },
    {
     "cell_type": "code",
     "collapsed": false,
     "input": [
      "min_visit_avg = visit_avg.min()\n",
      "max_visit_avg = visit_avg.max()\n",
      "range_visit_avg = max_visit_avg - min_visit_avg\n",
      "norm_visit_avg = (visit_avg - min_visit_avg) / range_visit_avg\n",
      "print \"Normalizing Visit Average\\n\", norm_visit_avg"
     ],
     "language": "python",
     "metadata": {},
     "outputs": [
      {
       "output_type": "stream",
       "stream": "stdout",
       "text": [
        "Normalizing Visit Average\n",
        "[ 0.39  0.64  0.14  0.86  0.58  0.17  0.75  0.36  0.28  0.61  0.33  0.50\n",
        "  0.69  0.44  0.44  0.31  0.67  0.19  0.56  0.31  0.56  0.50  0.39  0.75\n",
        "  0.08  0.42  0.69  0.83  0.28  0.08  0.58  0.56  0.44  0.50  0.97  0.33\n",
        "  0.03  0.61  0.78  0.19  0.08  0.31  0.61  0.17  0.67  0.00  0.47  0.14\n",
        "  0.64  1.00]\n"
       ]
      }
     ],
     "prompt_number": 162
    },
    {
     "cell_type": "code",
     "collapsed": false,
     "input": [
      "gender = np.array(vstable[:,1])\n",
      "gen_f = np.zeros(len(gender))\n",
      "gen_f[gender=='F'] = 1\n",
      "#print gen_f\n",
      "gen_m = np.zeros(len(gender))\n",
      "gen_m[gender=='M'] = 1\n",
      "#print gen_m"
     ],
     "language": "python",
     "metadata": {},
     "outputs": [],
     "prompt_number": 163
    },
    {
     "cell_type": "code",
     "collapsed": false,
     "input": [
      "incidentals = np.array(vstable[:,6])\n",
      "inc_y = np.zeros(len(incidentals))\n",
      "inc_y[incidentals=='Yes'] = 1\n",
      "#print inc_y\n",
      "inc_n = np.zeros(len(incidentals))\n",
      "inc_n[incidentals=='No'] = 1\n",
      "#print inc_n"
     ],
     "language": "python",
     "metadata": {},
     "outputs": [],
     "prompt_number": 164
    },
    {
     "cell_type": "code",
     "collapsed": false,
     "input": [
      "genre = np.array(vstable[:,7])\n",
      "genre_a = np.zeros(len(genre))\n",
      "genre_a[genre=='Action'] = 1\n",
      "#print genre_a\n",
      "genre_c = np.zeros(len(genre))\n",
      "genre_c[genre=='Comedy'] = 1\n",
      "#print genre_c\n",
      "genre_d = np.zeros(len(genre))\n",
      "genre_d[genre=='Drama'] = 1\n",
      "#print genre_d"
     ],
     "language": "python",
     "metadata": {},
     "outputs": [],
     "prompt_number": 165
    },
    {
     "cell_type": "code",
     "collapsed": false,
     "input": [
      "custID = np.array(vstable[:,0], dtype=int)\n",
      "vs_new = np.array([custID, gen_f, gen_m, norm_income, norm_age, norm_rentals, norm_visit_avg, inc_y, inc_n, genre_a, genre_c, genre_d])\n",
      "vs_new = vs_new.T\n",
      "#print vs_new\n",
      "out_file = open(\"video_store_numeric.csv\", \"w\")\n",
      "out_file.write(\"Cust ID,Female,Male,Income,Age,Rentals,Avg Per Visit,Buy Incidentals, Not Buy Incidentals,Action,Comedy,Drama\\n\" )\n",
      "np.savetxt(out_file, vs_new, fmt='%d,%d,%d,%1.2f,%1.2f,%1.2f,%1.2f,%d,%d,%d,%d,%d', delimiter=',')\n",
      "out_file.close()"
     ],
     "language": "python",
     "metadata": {},
     "outputs": [],
     "prompt_number": 166
    },
    {
     "cell_type": "code",
     "collapsed": false,
     "input": [
      "norm_table = np.genfromtxt(\"video_store_numeric.csv\", delimiter=\",\", dtype=None)\n",
      "norm_table = norm_table[1:]\n",
      "norm_no_id = norm_table[:,1:].astype(float)\n",
      "#print norm_no_id\n",
      "corr_matrix = np.corrcoef(norm_no_id.T)\n",
      "np.set_printoptions(formatter={'float': '{: 0.2f}'.format})\n",
      "print \"    F     M     $    Age   Rent AvgVis Inc  NoInc  Act   Com   Dra\"\n",
      "print corr_matrix"
     ],
     "language": "python",
     "metadata": {},
     "outputs": [
      {
       "output_type": "stream",
       "stream": "stdout",
       "text": [
        "    F     M     $    Age   Rent AvgVis Inc  NoInc  Act   Com   Dra\n",
        "[[ 1.00 -1.00  0.07  0.23  0.03  0.03 -0.20  0.20 -0.30  0.02  0.28]\n",
        " [-1.00  1.00 -0.07 -0.23 -0.03 -0.03  0.20 -0.20  0.30 -0.02 -0.28]\n",
        " [ 0.07 -0.07  1.00  0.62 -0.27  0.30 -0.07  0.07 -0.36  0.07  0.29]\n",
        " [ 0.23 -0.23  0.62  1.00 -0.55  0.40 -0.21  0.21 -0.48  0.02  0.46]\n",
        " [ 0.03 -0.03 -0.27 -0.55  1.00  0.08  0.32 -0.32  0.34 -0.04 -0.30]\n",
        " [ 0.03 -0.03  0.30  0.40  0.08  1.00  0.08 -0.08 -0.10 -0.07  0.16]\n",
        " [-0.20  0.20 -0.07 -0.21  0.32  0.08  1.00 -1.00  0.39 -0.40 -0.03]\n",
        " [ 0.20 -0.20  0.07  0.21 -0.32 -0.08 -1.00  1.00 -0.39  0.40  0.03]\n",
        " [-0.30  0.30 -0.36 -0.48  0.34 -0.10  0.39 -0.39  1.00 -0.42 -0.61]\n",
        " [ 0.02 -0.02  0.07  0.02 -0.04 -0.07 -0.40  0.40 -0.42  1.00 -0.46]\n",
        " [ 0.28 -0.28  0.29  0.46 -0.30  0.16 -0.03  0.03 -0.61 -0.46  1.00]]\n"
       ]
      }
     ],
     "prompt_number": 167
    },
    {
     "cell_type": "code",
     "collapsed": false,
     "input": [
      "import matplotlib.pyplot as plt\n",
      "fig = plt.figure(figsize=(8,7))\n",
      "ax = fig.add_subplot(1,1,1)\n",
      "ax.scatter(age, income, color=\"red\", marker=\"*\")\n",
      "ax.set_title(\"Age vs Income\")\n",
      "ax.set_ylabel(\"Income\")\n",
      "ax.set_xlabel(\"Age\")\n",
      "plt.axis([10,80,0,90000])\n",
      "#plt.ylim([0,90000])\n",
      "plt.show()"
     ],
     "language": "python",
     "metadata": {},
     "outputs": [],
     "prompt_number": 169
    },
    {
     "cell_type": "code",
     "collapsed": false,
     "input": [
      "plt.hist(income, bins=9, alpha=0.5)\n",
      "plt.xlabel('Income')\n",
      "plt.ylabel('Count')\n",
      "plt.title('Histogram of Income Populations')\n",
      "plt.axis([0,90000,0,10])\n",
      "plt.grid(True)\n",
      "plt.show()"
     ],
     "language": "python",
     "metadata": {},
     "outputs": [],
     "prompt_number": 170
    },
    {
     "cell_type": "code",
     "collapsed": false,
     "input": [
      "plt.hist(age, bins=7, alpha=0.5)\n",
      "plt.xlabel('Age')\n",
      "plt.ylabel('Count')\n",
      "plt.title('Histogram of Age Populations')\n",
      "plt.axis([10,75,0,15])\n",
      "plt.grid(True)\n",
      "plt.show()"
     ],
     "language": "python",
     "metadata": {},
     "outputs": [],
     "prompt_number": 171
    },
    {
     "cell_type": "code",
     "collapsed": false,
     "input": [],
     "language": "python",
     "metadata": {},
     "outputs": [],
     "prompt_number": 171
    }
   ],
   "metadata": {}
  }
 ]
}