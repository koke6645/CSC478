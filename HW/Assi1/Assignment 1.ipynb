{
 "metadata": {
  "name": "",
  "signature": "sha256:92cdf5ba57459ec0ad90b2b1ecce69c61ba395b9da99c7c4452e8633dbdfd507"
 },
 "nbformat": 3,
 "nbformat_minor": 0,
 "worksheets": [
  {
   "cells": [
    {
     "cell_type": "code",
     "collapsed": false,
     "input": [
      "import numpy as np\n",
      "vstable = np.genfromtxt(\"Video_Store.csv\", delimiter=\",\", dtype=None)\n",
      "labels = vstable[0]\n",
      "print vstable\n",
      "vstable = vstable[1:]"
     ],
     "language": "python",
     "metadata": {},
     "outputs": [
      {
       "output_type": "stream",
       "stream": "stdout",
       "text": [
        "[['Cust ID' 'Gender' 'Income' 'Age' 'Rentals' 'Avg Per Visit' 'Incidentals'\n",
        "  'Genre']\n",
        " ['1' 'M' '45000' '25' '32' '2.5' 'Yes' 'Action']\n",
        " ['2' 'F' '54000' '33' '12' '3.4' 'No' 'Drama']\n",
        " ['3' 'F' '32000' '20' '42' '1.6' 'No' 'Comedy']\n",
        " ['4' 'F' '59000' '70' '16' '4.2' 'Yes' 'Drama']\n",
        " ['5' 'M' '37000' '35' '25' '3.2' 'Yes' 'Action']\n",
        " ['6' 'M' '18000' '20' '29' '1.7' 'No' 'Action']\n",
        " ['7' 'F' '29000' '45' '19' '3.8' 'No' 'Drama']\n",
        " ['8' 'M' '74000' '25' '31' '2.4' 'Yes' 'Action']\n",
        " ['9' 'M' '38000' '21' '18' '2.1' 'No' 'Comedy']\n",
        " ['10' 'F' '65000' '40' '21' '3.3' 'No' 'Drama']\n",
        " ['11' 'F' '41000' '22' '48' '2.3' 'Yes' 'Drama']\n",
        " ['12' 'F' '26000' '22' '32' '2.9' 'Yes' 'Action']\n",
        " ['13' 'M' '83000' '46' '14' '3.6' 'No' 'Comedy']\n",
        " ['14' 'M' '45000' '36' '24' '2.7' 'No' 'Drama']\n",
        " ['15' 'M' '68000' '30' '36' '2.7' 'Yes' 'Comedy']\n",
        " ['16' 'M' '17000' '19' '26' '2.2' 'Yes' 'Action']\n",
        " ['17' 'M' '36000' '35' '28' '3.5' 'Yes' 'Drama']\n",
        " ['18' 'F' '6000' '16' '39' '1.8' 'Yes' 'Action']\n",
        " ['19' 'F' '24000' '25' '41' '3.1' 'No' 'Comedy']\n",
        " ['20' 'M' '12000' '16' '23' '2.2' 'Yes' 'Action']\n",
        " ['21' 'F' '47000' '52' '11' '3.1' 'No' 'Drama']\n",
        " ['22' 'M' '25000' '33' '16' '2.9' 'Yes' 'Drama']\n",
        " ['23' 'F' '2000' '15' '30' '2.5' 'No' 'Comedy']\n",
        " ['24' 'F' '79000' '35' '22' '3.8' 'Yes' 'Drama']\n",
        " ['25' 'M' '1000' '16' '25' '1.4' 'Yes' 'Comedy']\n",
        " ['26' 'F' '56000' '35' '40' '2.6' 'Yes' 'Action']\n",
        " ['27' 'F' '62000' '47' '32' '3.6' 'No' 'Drama']\n",
        " ['28' 'M' '57000' '52' '22' '4.1' 'No' 'Comedy']\n",
        " ['29' 'F' '15000' '18' '37' '2.1' 'Yes' 'Action']\n",
        " ['30' 'M' '41000' '25' '17' '1.4' 'Yes' 'Action']\n",
        " ['31' 'F' '49000' '56' '15' '3.2' 'No' 'Comedy']\n",
        " ['32' 'M' '47000' '30' '21' '3.1' 'Yes' 'Drama']\n",
        " ['33' 'M' '23000' '25' '28' '2.7' 'No' 'Action']\n",
        " ['34' 'F' '29000' '32' '19' '2.9' 'Yes' 'Action']\n",
        " ['35' 'M' '74000' '29' '43' '4.6' 'Yes' 'Action']\n",
        " ['36' 'F' '29000' '21' '34' '2.3' 'No' 'Comedy']\n",
        " ['37' 'M' '89000' '46' '12' '1.2' 'No' 'Comedy']\n",
        " ['38' 'M' '41000' '38' '20' '3.3' 'Yes' 'Drama']\n",
        " ['39' 'F' '68000' '35' '19' '3.9' 'No' 'Comedy']\n",
        " ['40' 'M' '17000' '19' '32' '1.8' 'No' 'Action']\n",
        " ['41' 'F' '50000' '33' '17' '1.4' 'No' 'Drama']\n",
        " ['42' 'M' '32000' '25' '26' '2.2' 'Yes' 'Action']\n",
        " ['43' 'F' '49000' '28' '48' '3.3' 'Yes' 'Drama']\n",
        " ['44' 'M' '35000' '24' '24' '1.7' 'No' 'Drama']\n",
        " ['45' 'M' '56000' '38' '30' '3.5' 'Yes' 'Drama']\n",
        " ['46' 'F' '57000' '43' '9' '1.1' 'No' 'Drama']\n",
        " ['47' 'F' '69000' '35' '22' '2.8' 'Yes' 'Drama']\n",
        " ['48' 'F' '52000' '47' '14' '1.6' 'No' 'Drama']\n",
        " ['49' 'M' '31000' '25' '42' '3.4' 'Yes' 'Action']\n",
        " ['50' 'M' '24000' '20' '33' '4.7' 'No' 'Action']]\n"
       ]
      }
     ],
     "prompt_number": 1
    },
    {
     "cell_type": "code",
     "collapsed": false,
     "input": [
      "income = np.array(vstable[:,2], dtype=int)\n",
      "age = np.array(vstable[:,3], dtype=int)\n",
      "rentals = np.array(vstable[:,4], dtype=int)\n",
      "visit_avg = np.array(vstable[:,5], dtype=float)\n",
      "print \"       Income \\t\\tAge \\t\\tRentals \\tAvg Per Visit\"\n",
      "print \"Mean: \", income.mean(), \"\\t\\t\", age.mean(), \"\\t\\t\", rentals.mean(), \"\\t\\t\", visit_avg.mean()\n",
      "print \"Std:  \", income.std(), \"\\t\", age.std(), \"\\t\", rentals.std(), \"\\t\", visit_avg.std()\n",
      "income"
     ],
     "language": "python",
     "metadata": {},
     "outputs": [
      {
       "output_type": "stream",
       "stream": "stdout",
       "text": [
        "       Income \t\tAge \t\tRentals \tAvg Per Visit\n",
        "Mean:  42300.0 \t\t31.56 \t\t26.32 \t\t2.748\n",
        "Std:   21194.5747775 \t11.8796632949 \t9.94673815881 \t0.889098419749\n"
       ]
      },
      {
       "metadata": {},
       "output_type": "pyout",
       "prompt_number": 2,
       "text": [
        "array([45000, 54000, 32000, 59000, 37000, 18000, 29000, 74000, 38000,\n",
        "       65000, 41000, 26000, 83000, 45000, 68000, 17000, 36000,  6000,\n",
        "       24000, 12000, 47000, 25000,  2000, 79000,  1000, 56000, 62000,\n",
        "       57000, 15000, 41000, 49000, 47000, 23000, 29000, 74000, 29000,\n",
        "       89000, 41000, 68000, 17000, 50000, 32000, 49000, 35000, 56000,\n",
        "       57000, 69000, 52000, 31000, 24000])"
       ]
      }
     ],
     "prompt_number": 2
    },
    {
     "cell_type": "code",
     "collapsed": false,
     "input": [
      "table_f = vstable[vstable[:,1] == 'F']\n",
      "action_f = table_f[table_f[:,7] == 'Action']\n",
      "comedy_f = table_f[table_f[:,7] == 'Comedy']\n",
      "drama_f = table_f[table_f[:,7] == 'Drama']\n",
      "#print table_f\n",
      "print \"\\t\\t  Action  Comedy  Drama\"\n",
      "print \"Female Preferred:\", len(action_f), \"\\t \", len(comedy_f), \"\\t \", len(drama_f)\n",
      "print \"Buy incidentals: \", len(action_f[action_f[:,6] == 'Yes']), \"\\t \", len(comedy_f[comedy_f[:,6] == 'Yes']), \"\\t \", len(drama_f[drama_f[:,6] == 'Yes'])\n",
      "print \"Female customer:   \", len(table_f)\n",
      "print \"Female Incidentals:\", len(vstable[table_f[:,6] == 'Yes'])\n",
      "#action_f"
     ],
     "language": "python",
     "metadata": {},
     "outputs": [
      {
       "output_type": "stream",
       "stream": "stdout",
       "text": [
        "\t\t  Action  Comedy  Drama\n",
        "Female Preferred: 5 \t  6 \t  13\n",
        "Buy incidentals:  5 \t  0 \t  5\n",
        "Female customer:    24\n",
        "Female Incidentals: 10\n"
       ]
      }
     ],
     "prompt_number": 3
    },
    {
     "cell_type": "code",
     "collapsed": false,
     "input": [
      "table_m = vstable[vstable[:,1] == 'M']\n",
      "action_m = table_m[table_m[:,7] == 'Action']\n",
      "comedy_m = table_m[table_m[:,7] == 'Comedy']\n",
      "drama_m = table_m[table_m[:,7] == 'Drama']\n",
      "#print table_m\n",
      "print \"\\t\\t Action Comedy  Drama\"\n",
      "print \"Male preferred: \", len(action_m), \"\\t\", len(comedy_m), \"\\t\", len(drama_m)\n",
      "print \"Buy incidentals:\", len(action_m[action_m[:,6] == 'Yes']), \"\\t\", len(comedy_m[comedy_m[:,6] == 'Yes']), \"\\t\", len(drama_m[drama_m[:,6] == 'Yes'])\n",
      "print \"Male customer:   \", len(table_m)\n",
      "print \"Male Incidentals:\", len(vstable[table_m[:,6] == 'Yes'])\n",
      "#action_m"
     ],
     "language": "python",
     "metadata": {},
     "outputs": [
      {
       "output_type": "stream",
       "stream": "stdout",
       "text": [
        "\t\t Action Comedy  Drama\n",
        "Male preferred:  13 \t6 \t7\n",
        "Buy incidentals: 9 \t2 \t5\n",
        "Male customer:    26\n",
        "Male Incidentals: 16\n"
       ]
      }
     ],
     "prompt_number": 4
    },
    {
     "cell_type": "code",
     "collapsed": false,
     "input": [
      "buyIncidental = vstable[vstable[:,6]=='Yes']\n",
      "buyInc_Action = buyIncidental[buyIncidental[:,7] == 'Action']\n",
      "buyInc_Comedy = buyIncidental[buyIncidental[:,7] == 'Comedy']\n",
      "buyInc_Drama = buyIncidental[buyIncidental[:,7] == 'Drama']\n",
      "print \"Incidentals bought with movie\"\n",
      "print \"Action:\", len(buyInc_Action) \n",
      "print \"Comedy:\", len(buyInc_Comedy)\n",
      "print \"Drama: \", len(buyInc_Drama)\n",
      "print \"Total: \", len(buyIncidental)\n",
      "#buyInc_Action"
     ],
     "language": "python",
     "metadata": {},
     "outputs": [
      {
       "output_type": "stream",
       "stream": "stdout",
       "text": [
        "Incidentals bought with movie\n",
        "Action: 14\n",
        "Comedy: 2\n",
        "Drama:  10\n",
        "Total:  26\n"
       ]
      }
     ],
     "prompt_number": 5
    },
    {
     "cell_type": "code",
     "collapsed": false,
     "input": [
      "incomeInc_f = np.array(action_f[:,2], dtype=int)\n",
      "ageInc_f = np.array(action_f[:,3], dtype=int)\n",
      "rentalsInc_f = np.array(action_f[:,4], dtype=int)\n",
      "visit_avgInc_f = np.array(action_f[:,5], dtype=float)\n",
      "print \"F + A + I:  Income \\t\\tAge \\t\\tRentals \\tAvg Per Visit\"\n",
      "print \"Mean:      \", incomeInc_f.mean(), \"\\t       \", ageInc_f.mean(), \"\\t\\t\", rentalsInc_f.mean(), \"\\t\\t\", visit_avgInc_f.mean()\n",
      "print \"Std:       \", incomeInc_f.std(), \"\\t\", ageInc_f.std(), \"\\t\", rentalsInc_f.std(), \"\\t\", visit_avgInc_f.std()"
     ],
     "language": "python",
     "metadata": {},
     "outputs": [
      {
       "output_type": "stream",
       "stream": "stdout",
       "text": [
        "F + A + I:  Income \t\tAge \t\tRentals \tAvg Per Visit\n",
        "Mean:       26400.0 \t        24.6 \t\t33.4 \t\t2.46\n",
        "Std:        16906.8033643 \t7.5789181286 \t7.70973410696 \t0.440908153701\n"
       ]
      }
     ],
     "prompt_number": 6
    },
    {
     "cell_type": "code",
     "collapsed": false,
     "input": [
      "incomeInc_m = np.array(action_m[:,2], dtype=int)\n",
      "ageInc_m = np.array(action_m[:,3], dtype=int)\n",
      "rentalsInc_m = np.array(action_m[:,4], dtype=int)\n",
      "visit_avgInc_m = np.array(action_m[:,5], dtype=float)\n",
      "print \"M + A + I:  Income \\t\\tAge \\t\\tRentals \\tAvg Per Visit\"\n",
      "print \"Mean:      \", incomeInc_m.mean(), \"\\t\", ageInc_m.mean(), \"\\t\", rentalsInc_m.mean(), \"\\t\", visit_avgInc_m.mean()\n",
      "print \"Std:       \", incomeInc_m.std(), \"\\t\", ageInc_m.std(), \"\\t\", rentalsInc_m.std(), \"\\t\", visit_avgInc_m.std()"
     ],
     "language": "python",
     "metadata": {},
     "outputs": [
      {
       "output_type": "stream",
       "stream": "stdout",
       "text": [
        "M + A + I:  Income \t\tAge \t\tRentals \tAvg Per Visit\n",
        "Mean:       34230.7692308 \t23.6923076923 \t29.7692307692 \t2.69230769231\n",
        "Std:        19474.4560353 \t4.77790773947 \t6.85176952051 \t0.989530998824\n"
       ]
      }
     ],
     "prompt_number": 7
    },
    {
     "cell_type": "code",
     "collapsed": false,
     "input": [
      "rentals_mean = rentals.mean()\n",
      "rentals_std = rentals.std()\n",
      "rentals_znorm = (rentals - rentals_mean) / rentals_std\n",
      "#rentals_com = np.array([rentals.astype('float'), rentals_znorm]).T\n",
      "print \"Side-by-side Rentals / z-score normalization\\n \"\n",
      "for x,y in zip(rentals, rentals_znorm):\n",
      "    print (\"%d, %f\\n\" % (x,y))"
     ],
     "language": "python",
     "metadata": {},
     "outputs": [
      {
       "output_type": "stream",
       "stream": "stdout",
       "text": [
        "Side-by-side Rentals / z-score normalization\n",
        " \n",
        "32, 0.571041\n",
        "\n",
        "12, -1.439668\n",
        "\n",
        "42, 1.576396\n",
        "\n",
        "16, -1.037526\n",
        "\n",
        "25, -0.132707\n",
        "\n",
        "29, 0.269435\n",
        "\n",
        "19, -0.735920\n",
        "\n",
        "31, 0.470506\n",
        "\n",
        "18, -0.836455\n",
        "\n",
        "21, -0.534849\n",
        "\n",
        "48, 2.179609\n",
        "\n",
        "32, 0.571041\n",
        "\n",
        "14, -1.238597\n",
        "\n",
        "24, -0.233242\n",
        "\n",
        "36, 0.973183\n",
        "\n",
        "26, -0.032171\n",
        "\n",
        "28, 0.168900\n",
        "\n",
        "39, 1.274790\n",
        "\n",
        "41, 1.475861\n",
        "\n",
        "23, -0.333778\n",
        "\n",
        "11, -1.540203\n",
        "\n",
        "16, -1.037526\n",
        "\n",
        "30, 0.369971\n",
        "\n",
        "22, -0.434313\n",
        "\n",
        "25, -0.132707\n",
        "\n",
        "40, 1.375325\n",
        "\n",
        "32, 0.571041\n",
        "\n",
        "22, -0.434313\n",
        "\n",
        "37, 1.073719\n",
        "\n",
        "17, -0.936991\n",
        "\n",
        "15, -1.138062\n",
        "\n",
        "21, -0.534849\n",
        "\n",
        "28, 0.168900\n",
        "\n",
        "19, -0.735920\n",
        "\n",
        "43, 1.676932\n",
        "\n",
        "34, 0.772112\n",
        "\n",
        "12, -1.439668\n",
        "\n",
        "20, -0.635384\n",
        "\n",
        "19, -0.735920\n",
        "\n",
        "32, 0.571041\n",
        "\n",
        "17, -0.936991\n",
        "\n",
        "26, -0.032171\n",
        "\n",
        "48, 2.179609\n",
        "\n",
        "24, -0.233242\n",
        "\n",
        "30, 0.369971\n",
        "\n",
        "9, -1.741274\n",
        "\n",
        "22, -0.434313\n",
        "\n",
        "14, -1.238597\n",
        "\n",
        "42, 1.576396\n",
        "\n",
        "33, 0.671577\n",
        "\n"
       ]
      }
     ],
     "prompt_number": 8
    },
    {
     "cell_type": "code",
     "collapsed": false,
     "input": [
      "min_income = income.min()\n",
      "max_income = income.max()\n",
      "range_income = max_income - min_income\n",
      "norm_income = (income - min_income).astype(float) / range_income\n",
      "print \"Normalizing Income\\n\", norm_income"
     ],
     "language": "python",
     "metadata": {},
     "outputs": [
      {
       "output_type": "stream",
       "stream": "stdout",
       "text": [
        "Normalizing Income\n",
        "[ 0.5         0.60227273  0.35227273  0.65909091  0.40909091  0.19318182\n",
        "  0.31818182  0.82954545  0.42045455  0.72727273  0.45454545  0.28409091\n",
        "  0.93181818  0.5         0.76136364  0.18181818  0.39772727  0.05681818\n",
        "  0.26136364  0.125       0.52272727  0.27272727  0.01136364  0.88636364\n",
        "  0.          0.625       0.69318182  0.63636364  0.15909091  0.45454545\n",
        "  0.54545455  0.52272727  0.25        0.31818182  0.82954545  0.31818182\n",
        "  1.          0.45454545  0.76136364  0.18181818  0.55681818  0.35227273\n",
        "  0.54545455  0.38636364  0.625       0.63636364  0.77272727  0.57954545\n",
        "  0.34090909  0.26136364]\n"
       ]
      }
     ],
     "prompt_number": 9
    },
    {
     "cell_type": "code",
     "collapsed": false,
     "input": [
      "min_age = age.min()\n",
      "max_age = age.max()\n",
      "range_age = max_age - min_age\n",
      "norm_age = (age - min_age).astype(float) / range_age\n",
      "print \"Normalizing Age\\n\", norm_age"
     ],
     "language": "python",
     "metadata": {},
     "outputs": [
      {
       "output_type": "stream",
       "stream": "stdout",
       "text": [
        "Normalizing Age\n",
        "[ 0.18181818  0.32727273  0.09090909  1.          0.36363636  0.09090909\n",
        "  0.54545455  0.18181818  0.10909091  0.45454545  0.12727273  0.12727273\n",
        "  0.56363636  0.38181818  0.27272727  0.07272727  0.36363636  0.01818182\n",
        "  0.18181818  0.01818182  0.67272727  0.32727273  0.          0.36363636\n",
        "  0.01818182  0.36363636  0.58181818  0.67272727  0.05454545  0.18181818\n",
        "  0.74545455  0.27272727  0.18181818  0.30909091  0.25454545  0.10909091\n",
        "  0.56363636  0.41818182  0.36363636  0.07272727  0.32727273  0.18181818\n",
        "  0.23636364  0.16363636  0.41818182  0.50909091  0.36363636  0.58181818\n",
        "  0.18181818  0.09090909]\n"
       ]
      }
     ],
     "prompt_number": 10
    },
    {
     "cell_type": "code",
     "collapsed": false,
     "input": [
      "min_rentals = rentals.min()\n",
      "max_rentals = rentals.max()\n",
      "range_rentals = max_rentals - min_rentals\n",
      "norm_rentals = (rentals - min_rentals).astype(float) / range_rentals\n",
      "print \"Normalizing Rentals\\n\", norm_rentals"
     ],
     "language": "python",
     "metadata": {},
     "outputs": [
      {
       "output_type": "stream",
       "stream": "stdout",
       "text": [
        "Normalizing Rentals\n",
        "[ 0.58974359  0.07692308  0.84615385  0.17948718  0.41025641  0.51282051\n",
        "  0.25641026  0.56410256  0.23076923  0.30769231  1.          0.58974359\n",
        "  0.12820513  0.38461538  0.69230769  0.43589744  0.48717949  0.76923077\n",
        "  0.82051282  0.35897436  0.05128205  0.17948718  0.53846154  0.33333333\n",
        "  0.41025641  0.79487179  0.58974359  0.33333333  0.71794872  0.20512821\n",
        "  0.15384615  0.30769231  0.48717949  0.25641026  0.87179487  0.64102564\n",
        "  0.07692308  0.28205128  0.25641026  0.58974359  0.20512821  0.43589744\n",
        "  1.          0.38461538  0.53846154  0.          0.33333333  0.12820513\n",
        "  0.84615385  0.61538462]\n"
       ]
      }
     ],
     "prompt_number": 11
    },
    {
     "cell_type": "code",
     "collapsed": false,
     "input": [
      "min_visit_avg = visit_avg.min()\n",
      "max_visit_avg = visit_avg.max()\n",
      "range_visit_avg = max_visit_avg - min_visit_avg\n",
      "norm_visit_avg = (visit_avg - min_visit_avg) / range_visit_avg\n",
      "print \"Normalizing Visit Average\\n\", norm_visit_avg"
     ],
     "language": "python",
     "metadata": {},
     "outputs": [
      {
       "output_type": "stream",
       "stream": "stdout",
       "text": [
        "Normalizing Visit Average\n",
        "[ 0.38888889  0.63888889  0.13888889  0.86111111  0.58333333  0.16666667\n",
        "  0.75        0.36111111  0.27777778  0.61111111  0.33333333  0.5\n",
        "  0.69444444  0.44444444  0.44444444  0.30555556  0.66666667  0.19444444\n",
        "  0.55555556  0.30555556  0.55555556  0.5         0.38888889  0.75\n",
        "  0.08333333  0.41666667  0.69444444  0.83333333  0.27777778  0.08333333\n",
        "  0.58333333  0.55555556  0.44444444  0.5         0.97222222  0.33333333\n",
        "  0.02777778  0.61111111  0.77777778  0.19444444  0.08333333  0.30555556\n",
        "  0.61111111  0.16666667  0.66666667  0.          0.47222222  0.13888889\n",
        "  0.63888889  1.        ]\n"
       ]
      }
     ],
     "prompt_number": 12
    },
    {
     "cell_type": "code",
     "collapsed": false,
     "input": [
      "gender = np.array(vstable[:,1])\n",
      "gen_f = np.zeros(len(gender))\n",
      "gen_f[gender=='F'] = 1\n",
      "#print gen_f\n",
      "gen_m = np.zeros(len(gender))\n",
      "gen_m[gender=='M'] = 1\n",
      "#print gen_m"
     ],
     "language": "python",
     "metadata": {},
     "outputs": [],
     "prompt_number": 13
    },
    {
     "cell_type": "code",
     "collapsed": false,
     "input": [
      "incidentals = np.array(vstable[:,6])\n",
      "inc_y = np.zeros(len(incidentals))\n",
      "inc_y[incidentals=='Yes'] = 1\n",
      "#print inc_y\n",
      "inc_n = np.zeros(len(incidentals))\n",
      "inc_n[incidentals=='No'] = 1\n",
      "#print inc_n"
     ],
     "language": "python",
     "metadata": {},
     "outputs": [],
     "prompt_number": 14
    },
    {
     "cell_type": "code",
     "collapsed": false,
     "input": [
      "genre = np.array(vstable[:,7])\n",
      "genre_a = np.zeros(len(genre))\n",
      "genre_a[genre=='Action'] = 1\n",
      "print genre_a\n",
      "genre_c = np.zeros(len(genre))\n",
      "genre_c[genre=='Comedy'] = 1\n",
      "print genre_c\n",
      "genre_d = np.zeros(len(genre))\n",
      "genre_d[genre=='Drama'] = 1\n",
      "print genre_d"
     ],
     "language": "python",
     "metadata": {},
     "outputs": [
      {
       "output_type": "stream",
       "stream": "stdout",
       "text": [
        "[ 1.  0.  0.  0.  1.  1.  0.  1.  0.  0.  0.  1.  0.  0.  0.  1.  0.  1.\n",
        "  0.  1.  0.  0.  0.  0.  0.  1.  0.  0.  1.  1.  0.  0.  1.  1.  1.  0.\n",
        "  0.  0.  0.  1.  0.  1.  0.  0.  0.  0.  0.  0.  1.  1.]\n",
        "[ 0.  0.  1.  0.  0.  0.  0.  0.  1.  0.  0.  0.  1.  0.  1.  0.  0.  0.\n",
        "  1.  0.  0.  0.  1.  0.  1.  0.  0.  1.  0.  0.  1.  0.  0.  0.  0.  1.\n",
        "  1.  0.  1.  0.  0.  0.  0.  0.  0.  0.  0.  0.  0.  0.]\n",
        "[ 0.  1.  0.  1.  0.  0.  1.  0.  0.  1.  1.  0.  0.  1.  0.  0.  1.  0.\n",
        "  0.  0.  1.  1.  0.  1.  0.  0.  1.  0.  0.  0.  0.  1.  0.  0.  0.  0.\n",
        "  0.  1.  0.  0.  1.  0.  1.  1.  1.  1.  1.  1.  0.  0.]\n"
       ]
      }
     ],
     "prompt_number": 15
    },
    {
     "cell_type": "code",
     "collapsed": false,
     "input": [
      "custID = np.array(vstable[:,0], dtype=int)\n",
      "vs_new = np.array([custID, gen_f, gen_m, income, age, rentals, visit_avg, inc_y, inc_n, genre_a, genre_c, genre_d])\n",
      "vs_new = vs_new.T\n",
      "#print vs_new\n",
      "out_file = open(\"video_store_numeric.csv\", \"w\")\n",
      "np.savetxt(out_file, vs_new, fmt='%d,%d,%d,%d,%d,%d,%1.2f,%d,%d,%d,%d,%d', delimiter=',')\n",
      "out_file.close()"
     ],
     "language": "python",
     "metadata": {},
     "outputs": [],
     "prompt_number": 16
    },
    {
     "cell_type": "code",
     "collapsed": false,
     "input": [],
     "language": "python",
     "metadata": {},
     "outputs": [],
     "prompt_number": 16
    },
    {
     "cell_type": "code",
     "collapsed": false,
     "input": [],
     "language": "python",
     "metadata": {},
     "outputs": [],
     "prompt_number": 16
    }
   ],
   "metadata": {}
  }
 ]
}