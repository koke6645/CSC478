{
 "metadata": {
  "name": "",
  "signature": "sha256:54afa768b7803d6dd757a98ab1c0da2bbec2a64859679a1180820b3d085b6282"
 },
 "nbformat": 3,
 "nbformat_minor": 0,
 "worksheets": [
  {
   "cells": [
    {
     "cell_type": "heading",
     "level": 2,
     "metadata": {},
     "source": [
      "2. Classification using scikit-learn"
     ]
    },
    {
     "cell_type": "code",
     "collapsed": false,
     "input": [
      "from numpy import genfromtxt\n",
      "import numpy as np\n",
      "from sklearn.feature_extraction import DictVectorizer\n",
      "from sklearn import preprocessing, neighbors, tree, naive_bayes, metrics"
     ],
     "language": "python",
     "metadata": {},
     "outputs": [],
     "prompt_number": 1
    },
    {
     "cell_type": "code",
     "collapsed": false,
     "input": [
      "%pylab inline\n",
      "import pylab as pl"
     ],
     "language": "python",
     "metadata": {},
     "outputs": [
      {
       "output_type": "stream",
       "stream": "stdout",
       "text": [
        "Populating the interactive namespace from numpy and matplotlib\n"
       ]
      }
     ],
     "prompt_number": 2
    },
    {
     "cell_type": "heading",
     "level": 4,
     "metadata": {},
     "source": [
      "2a. Load and preprocess the data using Numpy and preprocessing functions from scikit-learn. Then split the transformed data into training and test sets (using 80%-20% split)"
     ]
    },
    {
     "cell_type": "code",
     "collapsed": false,
     "input": [
      "vs = np.genfromtxt(\"bank_data.csv\", delimiter=\",\", names=True, dtype=(\"|S7\", int, float, int, \"|S6\", \"|S10\", \"|S3\", \"|S3\", \"|S3\", \"|S3\", \"|S3\", \"|S3\"))\n",
      "np.random.shuffle(vs)\n",
      "vs_records = vs[['age','income','children','gender','region','married','car','savings_acct','current_acct','mortgage','pep']]"
     ],
     "language": "python",
     "metadata": {},
     "outputs": [],
     "prompt_number": 3
    },
    {
     "cell_type": "code",
     "collapsed": false,
     "input": [
      "vs_names = vs_records.dtype.names\n",
      "vs_target = vs['pep']\n",
      "vs_dict = [dict(zip(vs_names, rec)) for rec in vs_records]\n",
      "vs_vec = DictVectorizer()\n",
      "vs_matrix = vs_vec.fit_transform(vs_dict).toarray()"
     ],
     "language": "python",
     "metadata": {},
     "outputs": [],
     "prompt_number": 4
    },
    {
     "cell_type": "code",
     "collapsed": false,
     "input": [
      "tpercent = 0.8\n",
      "tsize = tpercent * len(vs_matrix)\n",
      "vs_train = vs_matrix[:tsize,:]\n",
      "vs_test = vs_matrix[tsize:,:]\n",
      "target_train = vs_target[:tsize]\n",
      "target_test = vs_target[tsize:]"
     ],
     "language": "python",
     "metadata": {},
     "outputs": [],
     "prompt_number": 5
    },
    {
     "cell_type": "heading",
     "level": 4,
     "metadata": {},
     "source": [
      "2b. Run scikit-learn's KNN classifier on the test set."
     ]
    },
    {
     "cell_type": "markdown",
     "metadata": {},
     "source": [
      "Ans: Higher K give a better accurate result, also 'distance' weights option provide more accurate at lower K than the 'uniform' option."
     ]
    },
    {
     "cell_type": "code",
     "collapsed": false,
     "input": [
      "min_max_scaler = preprocessing.MinMaxScaler()\n",
      "vs_train_norm = min_max_scaler.fit_transform(vs_train)\n",
      "vs_test_norm = min_max_scaler.fit_transform(vs_test)"
     ],
     "language": "python",
     "metadata": {},
     "outputs": [],
     "prompt_number": 6
    },
    {
     "cell_type": "code",
     "collapsed": false,
     "input": [
      "knnclf = neighbors.KNeighborsClassifier(n_neighbors=1, weights='distance', algorithm='auto')\n",
      "knnclf.fit(vs_train_norm, target_train)\n",
      "knn_predicted = knnclf.predict(vs_test_norm)\n",
      "knncm = metrics.confusion_matrix(target_test, knn_predicted, labels=['YES','NO'])\n",
      "print metrics.classification_report(target_test, knn_predicted)\n",
      "print knncm\n",
      "pl.matshow(knncm)\n",
      "pl.title('Confusion matrix')\n",
      "pl.colorbar()\n",
      "pl.ylabel('Actual')\n",
      "pl.xlabel('Predicted')\n",
      "pl.show()"
     ],
     "language": "python",
     "metadata": {},
     "outputs": [
      {
       "output_type": "stream",
       "stream": "stdout",
       "text": [
        "             precision    recall  f1-score   support\n",
        "\n",
        "         NO       0.97      1.00      0.98        65\n",
        "        YES       1.00      0.96      0.98        55\n",
        "\n",
        "avg / total       0.98      0.98      0.98       120\n",
        "\n",
        "[[53  2]\n",
        " [ 0 65]]\n"
       ]
      },
      {
       "metadata": {},
       "output_type": "display_data",
       "png": "[encoded data removed]",
       "text": [
        "<matplotlib.figure.Figure at 0x108e7fd10>"
       ]
      }
     ],
     "prompt_number": 7
    },
    {
     "cell_type": "heading",
     "level": 4,
     "metadata": {},
     "source": [
      "2c. Repeat the classification using scikit-learn's decision tree classifier and the naive Bayes"
     ]
    },
    {
     "cell_type": "code",
     "collapsed": false,
     "input": [
      "treeclf = tree.DecisionTreeClassifier('entropy', min_samples_split=3)\n",
      "treeclf = treeclf.fit(vs_train, target_train)\n",
      "tree_predicted = treeclf.predict(vs_test)\n",
      "treecm = metrics.confusion_matrix(target_test, tree_predicted, labels=['YES','NO'])\n",
      "print \"decision tree classifier\"\n",
      "print metrics.classification_report(target_test, tree_predicted)\n",
      "print treecm\n",
      "pl.matshow(treecm)\n",
      "pl.title('Confusion matrix')\n",
      "pl.colorbar()\n",
      "pl.ylabel('Actual')\n",
      "pl.xlabel('Predicted')\n",
      "pl.show()"
     ],
     "language": "python",
     "metadata": {},
     "outputs": [
      {
       "output_type": "stream",
       "stream": "stdout",
       "text": [
        "decision tree classifier\n",
        "             precision    recall  f1-score   support\n",
        "\n",
        "         NO       1.00      1.00      1.00        65\n",
        "        YES       1.00      1.00      1.00        55\n",
        "\n",
        "avg / total       1.00      1.00      1.00       120\n",
        "\n",
        "[[55  0]\n",
        " [ 0 65]]\n"
       ]
      },
      {
       "metadata": {},
       "output_type": "display_data",
       "png": "[encoded data removed]",
       "text": [
        "<matplotlib.figure.Figure at 0x10988f290>"
       ]
      }
     ],
     "prompt_number": 8
    },
    {
     "cell_type": "code",
     "collapsed": false,
     "input": [
      "nbclf = naive_bayes.GaussianNB()\n",
      "nbclf = nbclf.fit(vs_train, target_train)\n",
      "nb_predicted = treeclf.predict(vs_test)\n",
      "nbcm = metrics.confusion_matrix(target_test, nb_predicted, labels=['YES','NO'])\n",
      "print \"naive Bayes classifier\"\n",
      "print metrics.classification_report(target_test, nb_predicted)\n",
      "print nbcm\n",
      "pl.matshow(nbcm)\n",
      "pl.title('Confusion matrix')\n",
      "pl.colorbar()\n",
      "pl.ylabel('Actual')\n",
      "pl.xlabel('Predicted')\n",
      "pl.show()"
     ],
     "language": "python",
     "metadata": {},
     "outputs": [
      {
       "output_type": "stream",
       "stream": "stdout",
       "text": [
        "naive Bayes classifier\n",
        "             precision    recall  f1-score   support\n",
        "\n",
        "         NO       1.00      1.00      1.00        65\n",
        "        YES       1.00      1.00      1.00        55\n",
        "\n",
        "avg / total       1.00      1.00      1.00       120\n",
        "\n",
        "[[55  0]\n",
        " [ 0 65]]\n"
       ]
      },
      {
       "metadata": {},
       "output_type": "display_data",
       "png": "[encoded data removed]",
       "text": [
        "<matplotlib.figure.Figure at 0x10a2e2c50>"
       ]
      }
     ],
     "prompt_number": 9
    },
    {
     "cell_type": "heading",
     "level": 4,
     "metadata": {},
     "source": [
      "2d. Discuss your observations based on the above experiments."
     ]
    },
    {
     "cell_type": "markdown",
     "metadata": {},
     "source": [
      "Ans: The decision tree classifier and the naive Bayes provide more accurate result compare to KNN classifier"
     ]
    }
   ],
   "metadata": {}
  }
 ]
}