{
 "metadata": {
  "name": "",
  "signature": "sha256:e821676786d15eeb5bbcf18922cb5636ac1965d341d16fcccdd81953a5744ccf"
 },
 "nbformat": 3,
 "nbformat_minor": 0,
 "worksheets": [
  {
   "cells": [
    {
     "cell_type": "heading",
     "level": 2,
     "metadata": {},
     "source": [
      "1. K-Nearest-Neighbor (KNN) classification on Newsgroup"
     ]
    },
    {
     "cell_type": "code",
     "collapsed": false,
     "input": [
      "from numpy import *\n",
      "import numpy as np\n",
      "import operator"
     ],
     "language": "python",
     "metadata": {},
     "outputs": [],
     "prompt_number": 10
    },
    {
     "cell_type": "code",
     "collapsed": false,
     "input": [
      "def autoNorm(dataSet):\n",
      "    minVals = dataSet.min(0)\n",
      "    maxVals = dataSet.max(0)\n",
      "    ranges = maxVals - minVals\n",
      "    normDataSet = zeros(shape(dataSet))\n",
      "    m = dataSet.shape[0]\n",
      "    normDataSet = dataSet - tile(minVals, (m,1))\n",
      "    normDataSet = normDataSet/tile(ranges, (m,1))\n",
      "    normDataSet[np.isnan(normDataSet)] = 0\n",
      "    return normDataSet"
     ],
     "language": "python",
     "metadata": {},
     "outputs": [],
     "prompt_number": 11
    },
    {
     "cell_type": "heading",
     "level": 4,
     "metadata": {},
     "source": [
      "1a. Create your own KNN classifier"
     ]
    },
    {
     "cell_type": "code",
     "collapsed": false,
     "input": [
      "def knn_classify(x, D, L, K, measure):\n",
      "    if measure == 0: # euclidean\n",
      "        dists = sqrt(((D - x)**2).sum(axis=1))\n",
      "    elif measure == 1: # cosine\n",
      "        D_norm = array([linalg.norm(D[i]) for i in range(len(D))])\n",
      "        x_norm = linalg.norm(x)\n",
      "        cosines = dot(D,x)/(D_norm * x_norm)\n",
      "        dists = 1 - cosines\n",
      "    idx = argsort(dists)\n",
      "    count={}          \n",
      "    for i in range(K):\n",
      "        vote = L[idx[i]]\n",
      "        count[vote] = count.get(vote,0) + 1\n",
      "    sortedClass = sorted(count.iteritems(), key=operator.itemgetter(1), reverse=True)\n",
      "    return sortedClass[0][0], idx[:K]"
     ],
     "language": "python",
     "metadata": {},
     "outputs": [],
     "prompt_number": 12
    },
    {
     "cell_type": "heading",
     "level": 4,
     "metadata": {},
     "source": [
      "1b. Create a function to compute the classification accuracy"
     ]
    },
    {
     "cell_type": "code",
     "collapsed": false,
     "input": [
      "def classAccuracy(D, L, K, measure):\n",
      "    numLabels = len(L)\n",
      "    errorCount = 0.0\n",
      "    for i in range(numLabels):\n",
      "        classifierResult, neigh_idx = knn_classify(D[i,:], D, L, K, measure)\n",
      "        #print \"the classifier result: %s, the real answer is: %s\" % (classifierResult, labels[i])\n",
      "        if (classifierResult != L[i]): errorCount += 1.0\n",
      "    errorRate = errorCount/float(numLabels)\n",
      "    #print \"the total error rate is %f\" % (errorCount/float(numLabels))\n",
      "    #print \"total error: %d/%d\" % (errorCount, numLabels)\n",
      "    return errorRate"
     ],
     "language": "python",
     "metadata": {},
     "outputs": [],
     "prompt_number": 13
    },
    {
     "cell_type": "code",
     "collapsed": false,
     "input": [
      "TD = np.genfromtxt('trainMatrixModified.txt',delimiter='\\t',dtype=float)\n",
      "labels = np.genfromtxt('trainClasses.txt',delimiter='\\t',usecols=(1),dtype=int)"
     ],
     "language": "python",
     "metadata": {},
     "outputs": [],
     "prompt_number": 14
    },
    {
     "cell_type": "code",
     "collapsed": false,
     "input": [
      "DT = TD.T\n",
      "normDT = autoNorm(DT)\n",
      "errorRate = classAccuracy(normDT, labels, 5, 0)\n",
      "print errorRate"
     ],
     "language": "python",
     "metadata": {},
     "outputs": [
      {
       "output_type": "stream",
       "stream": "stdout",
       "text": [
        "0.24875\n"
       ]
      }
     ],
     "prompt_number": 15
    },
    {
     "cell_type": "code",
     "collapsed": false,
     "input": [
      "testTD = np.genfromtxt('testMatrixModified.txt',delimiter='\\t',dtype=float)\n",
      "testLabels = np.genfromtxt('testClasses.txt',delimiter='\\t',usecols=(1),dtype=int)"
     ],
     "language": "python",
     "metadata": {},
     "outputs": [],
     "prompt_number": 16
    },
    {
     "cell_type": "code",
     "collapsed": false,
     "input": [
      "testDT = testTD.T\n",
      "normTestDT = autoNorm(testDT)\n",
      "errorRate = classAccuracy(normTestDT, testLabels, 5, 0)\n",
      "print errorRate"
     ],
     "language": "python",
     "metadata": {},
     "outputs": [
      {
       "output_type": "stream",
       "stream": "stdout",
       "text": [
        "0.06\n"
       ]
      }
     ]
    },
    {
     "cell_type": "heading",
     "level": 4,
     "metadata": {},
     "source": [
      "1c. Run your accuracy function on a range of values for K"
     ]
    },
    {
     "cell_type": "code",
     "collapsed": false,
     "input": [
      "print \"Train data set not norm\"\n",
      "print \" K, Euclid, Cosine\"\n",
      "for i in range(1,21):\n",
      "    errorRateEuc = classAccuracy(DT, labels, i, 0)\n",
      "    errorRateCos = classAccuracy(DT, labels, i, 1)\n",
      "    print \"%2d,  %.2f,   %.2f\" % (i, errorRateEuc, errorRateCos)"
     ],
     "language": "python",
     "metadata": {},
     "outputs": []
    },
    {
     "cell_type": "code",
     "collapsed": false,
     "input": [
      "print \"Train data set\"\n",
      "print \" K, Euclid, Cosine\"\n",
      "for i in range(1,21):\n",
      "    errorRateEuc = classAccuracy(normDT, labels, i, 0)\n",
      "    errorRateCos = classAccuracy(normDT, labels, i, 1)\n",
      "    print \"%2d,  %.2f,   %.2f\" % (i, errorRateEuc, errorRateCos)"
     ],
     "language": "python",
     "metadata": {},
     "outputs": []
    },
    {
     "cell_type": "code",
     "collapsed": false,
     "input": [
      "print \"Test data set not norm\"\n",
      "print \" K, Euclid, Cosine\"\n",
      "for i in range(1,21):\n",
      "    errorRateEuc = classAccuracy(testDT, testLabels, i, 0)\n",
      "    errorRateCos = classAccuracy(testDT, testLabels, i, 1)\n",
      "    print \"%2d,  %.2f,   %.2f\" % (i, errorRateEuc, errorRateCos)"
     ],
     "language": "python",
     "metadata": {},
     "outputs": []
    },
    {
     "cell_type": "code",
     "collapsed": false,
     "input": [
      "print \"Test data set\"\n",
      "print \" K, Euclid, Cosine\"\n",
      "for i in range(1,21):\n",
      "    errorRateEuc = classAccuracy(normTestDT, testLabels, i, 0)\n",
      "    errorRateCos = classAccuracy(normTestDT, testLabels, i, 1)\n",
      "    print \"%2d,  %.2f,   %.2f\" % (i, errorRateEuc, errorRateCos)\n"
     ],
     "language": "python",
     "metadata": {},
     "outputs": []
    },
    {
     "cell_type": "heading",
     "level": 4,
     "metadata": {},
     "source": [
      "1d. Using TFxIDF weights to evaluation on the range of K values"
     ]
    },
    {
     "cell_type": "code",
     "collapsed": false,
     "input": [
      "DF = np.array([(DT!=0).sum(0)])\n",
      "NDocs = len(DT[:,0])\n",
      "NMatrix = np.ones(np.shape(DT), dtype=float)*NDocs\n",
      "IDF = log2(divide(NMatrix, DF))\n",
      "np.set_printoptions(precision=2,suppress=True)\n",
      "DT_tfidf = DT * IDF\n",
      "normDT_tfidf = autoNorm(DT_tfidf)"
     ],
     "language": "python",
     "metadata": {},
     "outputs": []
    },
    {
     "cell_type": "code",
     "collapsed": false,
     "input": [
      "testDF = np.array([(testDT!=0).sum(0)])\n",
      "testNDocs = len(testDT[:,0])\n",
      "testNMatrix = np.ones(np.shape(testDT), dtype=float)*testNDocs\n",
      "testIDF = log2(divide(testNMatrix, testDF))\n",
      "testDT_tfidf = testDT * testIDF\n",
      "testNormDT_tfidf = autoNorm(testDT_tfidf)"
     ],
     "language": "python",
     "metadata": {},
     "outputs": []
    },
    {
     "cell_type": "code",
     "collapsed": false,
     "input": [
      "print \"Train TFxIDF data set not norm\"\n",
      "print \" K, Euclid, Cosine\"\n",
      "for i in range(1,21):\n",
      "    errorRateEuc = classAccuracy(DT_tfidf, labels, i, 0)\n",
      "    errorRateCos = classAccuracy(DT_tfidf, labels, i, 1)\n",
      "    print \"%2d,  %.2f,   %.2f\" % (i, errorRateEuc, errorRateCos)"
     ],
     "language": "python",
     "metadata": {},
     "outputs": []
    },
    {
     "cell_type": "code",
     "collapsed": false,
     "input": [
      "print \"Train TFxIDF data set\"\n",
      "print \" K, Euclid, Cosine\"\n",
      "for i in range(1,21):\n",
      "    errorRateEuc = classAccuracy(normDT_tfidf, labels, i, 0)\n",
      "    errorRateCos = classAccuracy(normDT_tfidf, labels, i, 1)\n",
      "    print \"%2d,  %.2f,   %.2f\" % (i, errorRateEuc, errorRateCos)"
     ],
     "language": "python",
     "metadata": {},
     "outputs": []
    },
    {
     "cell_type": "code",
     "collapsed": false,
     "input": [
      "print \"Test TFxIDF data set not norm\"\n",
      "print \" K, Euclid, Cosine\"\n",
      "for i in range(1,21):\n",
      "    errorRateEuc = classAccuracy(testDT_tfidf, testLabels, i, 0)\n",
      "    errorRateCos = classAccuracy(testDT_tfidf, testLabels, i, 1)\n",
      "    print \"%2d,  %.2f,   %.2f\" % (i, errorRateEuc, errorRateCos)"
     ],
     "language": "python",
     "metadata": {},
     "outputs": []
    },
    {
     "cell_type": "code",
     "collapsed": false,
     "input": [
      "print \"Test TFxIDF data set\"\n",
      "print \" K, Euclid, Cosine\"\n",
      "for i in range(1,21):\n",
      "    errorRateEuc = classAccuracy(testNormDT_tfidf, testLabels, i, 0)\n",
      "    errorRateCos = classAccuracy(testNormDT_tfidf, testLabels, i, 1)\n",
      "    print \"%2d,  %.2f,   %.2f\" % (i, errorRateEuc, errorRateCos)"
     ],
     "language": "python",
     "metadata": {},
     "outputs": []
    },
    {
     "cell_type": "heading",
     "level": 4,
     "metadata": {},
     "source": [
      "1e. Discuss your observations based on the above experiments"
     ]
    },
    {
     "cell_type": "raw",
     "metadata": {},
     "source": [
      "Ans: "
     ]
    },
    {
     "cell_type": "code",
     "collapsed": false,
     "input": [],
     "language": "python",
     "metadata": {},
     "outputs": []
    }
   ],
   "metadata": {}
  }
 ]
}