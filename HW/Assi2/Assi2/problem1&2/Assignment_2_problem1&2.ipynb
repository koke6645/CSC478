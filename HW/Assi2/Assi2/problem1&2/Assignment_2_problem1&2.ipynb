{
 "metadata": {
  "name": "",
  "signature": "sha256:e2d8cf66651d91845a2ff9eedff04d2ff4de3d854781a6bd2f2088cb8a1f4963"
 },
 "nbformat": 3,
 "nbformat_minor": 0,
 "worksheets": [
  {
   "cells": [
    {
     "cell_type": "heading",
     "level": 2,
     "metadata": {},
     "source": [
      "1. K-Nearest-Neighbor (KNN) classification on Newsgroup"
     ]
    },
    {
     "cell_type": "code",
     "collapsed": false,
     "input": [
      "from numpy import *\n",
      "import numpy as np\n",
      "import operator\n",
      "np.set_printoptions(precision=2,suppress=True)"
     ],
     "language": "python",
     "metadata": {},
     "outputs": [],
     "prompt_number": 11
    },
    {
     "cell_type": "heading",
     "level": 4,
     "metadata": {},
     "source": [
      "1a. Create your own KNN classifier"
     ]
    },
    {
     "cell_type": "code",
     "collapsed": false,
     "input": [
      "def knn_classify(x, D, L, K, measure):\n",
      "    if measure == 0: # euclidean\n",
      "        dists = sqrt(((D - x)**2).sum(axis=1))\n",
      "    elif measure == 1: # cosine\n",
      "        D_norm = array([linalg.norm(D[i]) for i in range(len(D))])\n",
      "        x_norm = linalg.norm(x)\n",
      "        cosines = dot(D,x)/(D_norm * x_norm)\n",
      "        dists = 1 - cosines\n",
      "    idx = argsort(dists)\n",
      "    count={}          \n",
      "    for i in range(K):\n",
      "        vote = L[idx[i]]\n",
      "        count[vote] = count.get(vote,0) + 1\n",
      "    sortedClass = sorted(count.iteritems(), key=operator.itemgetter(1), reverse=True)\n",
      "    return sortedClass[0][0], idx[:K]"
     ],
     "language": "python",
     "metadata": {},
     "outputs": [],
     "prompt_number": 12
    },
    {
     "cell_type": "heading",
     "level": 4,
     "metadata": {},
     "source": [
      "1b. Create a function to compute the classification accuracy"
     ]
    },
    {
     "cell_type": "code",
     "collapsed": false,
     "input": [
      "def classAccuracy(A, x, D, L, K, measure):\n",
      "    numLabels = len(A)\n",
      "    errorCount = 0.0\n",
      "    for i in range(numLabels):\n",
      "        classifierResult, neigh_idx = knn_classify(x[i,:], D, L, K, measure)\n",
      "        #print \"the classifier result: %s, the real answer is: %s\" % (classifierResult, labels[i])\n",
      "        if (classifierResult != A[i]): errorCount += 1.0\n",
      "    errorRate = errorCount/float(numLabels)\n",
      "    #print \"the total error rate is %f\" % (errorCount/float(numLabels))\n",
      "    #print \"total error: %d/%d\" % (errorCount, numLabels)\n",
      "    return errorRate"
     ],
     "language": "python",
     "metadata": {},
     "outputs": [],
     "prompt_number": 13
    },
    {
     "cell_type": "heading",
     "level": 4,
     "metadata": {},
     "source": [
      "1c. Run your accuracy function on a range of values for K"
     ]
    },
    {
     "cell_type": "code",
     "collapsed": false,
     "input": [
      "TD = np.genfromtxt('trainMatrixModified.txt',delimiter='\\t',dtype=float)\n",
      "labels = np.genfromtxt('trainClasses.txt',delimiter='\\t',usecols=(1),dtype=int)\n",
      "DT = TD.T"
     ],
     "language": "python",
     "metadata": {},
     "outputs": [],
     "prompt_number": 14
    },
    {
     "cell_type": "code",
     "collapsed": false,
     "input": [
      "testTD = np.genfromtxt('testMatrixModified.txt',delimiter='\\t',dtype=float)\n",
      "testLabels = np.genfromtxt('testClasses.txt',delimiter='\\t',usecols=(1),dtype=int)\n",
      "testDT = testTD.T"
     ],
     "language": "python",
     "metadata": {},
     "outputs": [],
     "prompt_number": 15
    },
    {
     "cell_type": "code",
     "collapsed": false,
     "input": [
      "result = np.zeros((20,3), dtype=float)\n",
      "for i in range(0,20):\n",
      "    errorRateEuc = classAccuracy(testLabels, testDT, DT, labels, i+1, 0)\n",
      "    errorRateCos = classAccuracy(testLabels, testDT, DT, labels, i+1, 1)\n",
      "    result[i] = [i+1, errorRateEuc, errorRateCos]"
     ],
     "language": "python",
     "metadata": {},
     "outputs": [],
     "prompt_number": 16
    },
    {
     "cell_type": "code",
     "collapsed": false,
     "input": [
      "print \"Nomal data set error rate\"\n",
      "print \" K  Euclid  Cosine\"\n",
      "for row in result:\n",
      "    print \"%2.0f   %.2f    %.2f\" % (row[0], row[1], row[2]) "
     ],
     "language": "python",
     "metadata": {},
     "outputs": [
      {
       "output_type": "stream",
       "stream": "stdout",
       "text": [
        "Nomal data set error rate\n",
        " K  Euclid  Cosine\n",
        " 1   0.22    0.01\n",
        " 2   0.21    0.04\n",
        " 3   0.19    0.03\n",
        " 4   0.23    0.04\n",
        " 5   0.18    0.03\n",
        " 6   0.26    0.02\n",
        " 7   0.23    0.02\n",
        " 8   0.27    0.03\n",
        " 9   0.25    0.03\n",
        "10   0.29    0.03\n",
        "11   0.20    0.02\n",
        "12   0.28    0.03\n",
        "13   0.23    0.02\n",
        "14   0.26    0.03\n",
        "15   0.21    0.01\n",
        "16   0.27    0.03\n",
        "17   0.24    0.03\n",
        "18   0.28    0.03\n",
        "19   0.26    0.03\n",
        "20   0.29    0.03\n"
       ]
      }
     ],
     "prompt_number": 31
    },
    {
     "cell_type": "heading",
     "level": 4,
     "metadata": {},
     "source": [
      "1d. Using TFxIDF weights to evaluation on the range of K values"
     ]
    },
    {
     "cell_type": "code",
     "collapsed": false,
     "input": [
      "allTD = np.concatenate((TD, testTD), axis=1)\n",
      "DF = np.array([(allTD!=0).sum(1)]).T\n",
      "NDocs = len(allTD[0,:])\n",
      "NMatrix = np.ones(np.shape(allTD), dtype=float)*NDocs\n",
      "IDF = log2(divide(NMatrix, DF))\n",
      "TD_tfidf = allTD * IDF"
     ],
     "language": "python",
     "metadata": {},
     "outputs": [],
     "prompt_number": 18
    },
    {
     "cell_type": "code",
     "collapsed": false,
     "input": [
      "tpercent = 0.8\n",
      "DT_tfidf = TD_tfidf.T\n",
      "tsize = tpercent * len(DT_tfidf)\n",
      "trainDT_tfidf = DT_tfidf[:tsize,:]\n",
      "testDT_tfidf = DT_tfidf[tsize:,:]"
     ],
     "language": "python",
     "metadata": {},
     "outputs": [],
     "prompt_number": 19
    },
    {
     "cell_type": "code",
     "collapsed": false,
     "input": [
      "TFxIDF = np.zeros((20,3), dtype=float)\n",
      "for i in range(0,20):\n",
      "    errorRateEuc = classAccuracy(testLabels, testDT_tfidf, trainDT_tfidf, labels, i+1, 0)\n",
      "    errorRateCos = classAccuracy(testLabels, testDT_tfidf, trainDT_tfidf, labels, i+1, 1)\n",
      "    TFxIDF[i] = [i+1, errorRateEuc, errorRateCos]"
     ],
     "language": "python",
     "metadata": {},
     "outputs": [],
     "prompt_number": 32
    },
    {
     "cell_type": "code",
     "collapsed": false,
     "input": [
      "print \"TFxIDF data set error rate\"\n",
      "print \" K  Euclid  Cosine\"\n",
      "for row in TFxIDF:\n",
      "    print \"%2.0f   %.2f    %.2f\" % (row[0], row[1], row[2]) \n",
      "print \"\\nNomal data set error rate\"\n",
      "print \" K  Euclid  Cosine\"\n",
      "for row in result:\n",
      "    print \"%2.0f   %.2f    %.2f\" % (row[0], row[1], row[2]) "
     ],
     "language": "python",
     "metadata": {},
     "outputs": [
      {
       "output_type": "stream",
       "stream": "stdout",
       "text": [
        "TFxIDF data set error rate\n",
        " K  Euclid  Cosine\n",
        " 1   0.28    0.05\n",
        " 2   0.26    0.04\n",
        " 3   0.26    0.03\n",
        " 4   0.20    0.03\n",
        " 5   0.20    0.03\n",
        " 6   0.29    0.02\n",
        " 7   0.27    0.01\n",
        " 8   0.35    0.01\n",
        " 9   0.31    0.01\n",
        "10   0.38    0.01\n",
        "11   0.32    0.01\n",
        "12   0.39    0.01\n",
        "13   0.35    0.01\n",
        "14   0.41    0.01\n",
        "15   0.40    0.01\n",
        "16   0.41    0.01\n",
        "17   0.41    0.01\n",
        "18   0.43    0.01\n",
        "19   0.37    0.01\n",
        "20   0.41    0.01\n",
        "\n",
        "Nomal data set error rate\n",
        " K  Euclid  Cosine\n",
        " 1   0.22    0.01\n",
        " 2   0.21    0.04\n",
        " 3   0.19    0.03\n",
        " 4   0.23    0.04\n",
        " 5   0.18    0.03\n",
        " 6   0.26    0.02\n",
        " 7   0.23    0.02\n",
        " 8   0.27    0.03\n",
        " 9   0.25    0.03\n",
        "10   0.29    0.03\n",
        "11   0.20    0.02\n",
        "12   0.28    0.03\n",
        "13   0.23    0.02\n",
        "14   0.26    0.03\n",
        "15   0.21    0.01\n",
        "16   0.27    0.03\n",
        "17   0.24    0.03\n",
        "18   0.28    0.03\n",
        "19   0.26    0.03\n",
        "20   0.29    0.03\n"
       ]
      }
     ],
     "prompt_number": 33
    },
    {
     "cell_type": "heading",
     "level": 4,
     "metadata": {},
     "source": [
      "1e. Discuss your observations based on the above experiments"
     ]
    },
    {
     "cell_type": "markdown",
     "metadata": {},
     "source": [
      "Ans: KNN classifier using cosine gives a better error rate compare to  Euclid. The result from nomal dataset gives a better error rate compare to TFxIDF, but The result from TFxIDF shows a linear relationship between number of K and error rate."
     ]
    },
    {
     "cell_type": "heading",
     "level": 2,
     "metadata": {},
     "source": [
      "2. Classification using scikit-learn"
     ]
    },
    {
     "cell_type": "code",
     "collapsed": false,
     "input": [
      "from sklearn.feature_extraction import DictVectorizer\n",
      "from sklearn import preprocessing, neighbors, tree, naive_bayes, metrics\n",
      "%pylab inline\n",
      "import pylab as pl"
     ],
     "language": "python",
     "metadata": {},
     "outputs": [
      {
       "output_type": "stream",
       "stream": "stdout",
       "text": [
        "Populating the interactive namespace from numpy and matplotlib\n"
       ]
      }
     ],
     "prompt_number": 22
    },
    {
     "cell_type": "heading",
     "level": 4,
     "metadata": {},
     "source": [
      "2a. Load and preprocess the data using Numpy and preprocessing functions from scikit-learn. Then split the transformed data into training and test sets (using 80%-20% split)"
     ]
    },
    {
     "cell_type": "code",
     "collapsed": false,
     "input": [
      "vs = np.genfromtxt(\"bank_data.csv\", delimiter=\",\", names=True, dtype=(\"|S7\", int, float, int, \"|S6\", \"|S10\", \"|S3\", \"|S3\", \"|S3\", \"|S3\", \"|S3\", \"|S3\"))\n",
      "np.random.shuffle(vs)\n",
      "vs_records = vs[['age','income','children','gender','region','married','car','savings_acct','current_acct','mortgage','pep']]"
     ],
     "language": "python",
     "metadata": {},
     "outputs": [],
     "prompt_number": 23
    },
    {
     "cell_type": "code",
     "collapsed": false,
     "input": [
      "vs_names = vs_records.dtype.names\n",
      "vs_target = vs['pep']\n",
      "vs_dict = [dict(zip(vs_names, rec)) for rec in vs_records]\n",
      "vs_vec = DictVectorizer()\n",
      "vs_matrix = vs_vec.fit_transform(vs_dict).toarray()"
     ],
     "language": "python",
     "metadata": {},
     "outputs": [],
     "prompt_number": 24
    },
    {
     "cell_type": "code",
     "collapsed": false,
     "input": [
      "tpercent = 0.8\n",
      "tsize = tpercent * len(vs_matrix)\n",
      "vs_train = vs_matrix[:tsize,:]\n",
      "vs_test = vs_matrix[tsize:,:]\n",
      "target_train = vs_target[:tsize]\n",
      "target_test = vs_target[tsize:]"
     ],
     "language": "python",
     "metadata": {},
     "outputs": [],
     "prompt_number": 25
    },
    {
     "cell_type": "heading",
     "level": 4,
     "metadata": {},
     "source": [
      "2b. Run scikit-learn's KNN classifier on the test set."
     ]
    },
    {
     "cell_type": "markdown",
     "metadata": {},
     "source": [
      "Ans: Higher K give a better accurate result, also 'distance' weights option provide more accurate at lower K than the 'uniform' option."
     ]
    },
    {
     "cell_type": "code",
     "collapsed": false,
     "input": [
      "min_max_scaler = preprocessing.MinMaxScaler()\n",
      "vs_train_norm = min_max_scaler.fit_transform(vs_train)\n",
      "vs_test_norm = min_max_scaler.fit_transform(vs_test)"
     ],
     "language": "python",
     "metadata": {},
     "outputs": [],
     "prompt_number": 41
    },
    {
     "cell_type": "code",
     "collapsed": false,
     "input": [
      "knnclf = neighbors.KNeighborsClassifier(n_neighbors=1, weights='distance', algorithm='auto')\n",
      "knnclf.fit(vs_train_norm, target_train)\n",
      "knn_predicted = knnclf.predict(vs_test_norm)\n",
      "knncm = metrics.confusion_matrix(target_test, knn_predicted, labels=['YES','NO'])\n",
      "print metrics.classification_report(target_test, knn_predicted)\n",
      "print knncm\n",
      "pl.matshow(knncm)\n",
      "pl.title('Confusion matrix')\n",
      "pl.colorbar()\n",
      "pl.ylabel('Actual')\n",
      "pl.xlabel('Predicted')\n",
      "pl.show()"
     ],
     "language": "python",
     "metadata": {},
     "outputs": [
      {
       "output_type": "stream",
       "stream": "stdout",
       "text": [
        "             precision    recall  f1-score   support\n",
        "\n",
        "         NO       1.00      0.97      0.98        61\n",
        "        YES       0.97      1.00      0.98        59\n",
        "\n",
        "avg / total       0.98      0.98      0.98       120\n",
        "\n",
        "[[59  0]\n",
        " [ 2 59]]\n"
       ]
      },
      {
       "metadata": {},
       "output_type": "display_data",
       "png": "[encoded data removed]",
       "text": [
        "<matplotlib.figure.Figure at 0x118a73850>"
       ]
      }
     ],
     "prompt_number": 42
    },
    {
     "cell_type": "heading",
     "level": 4,
     "metadata": {},
     "source": [
      "2c. Repeat the classification using scikit-learn's decision tree classifier and the naive Bayes"
     ]
    },
    {
     "cell_type": "code",
     "collapsed": false,
     "input": [
      "treeclf = tree.DecisionTreeClassifier('entropy', min_samples_split=3)\n",
      "treeclf = treeclf.fit(vs_train, target_train)\n",
      "tree_predicted = treeclf.predict(vs_test)\n",
      "treecm = metrics.confusion_matrix(target_test, tree_predicted, labels=['YES','NO'])\n",
      "print \"decision tree classifier\"\n",
      "print metrics.classification_report(target_test, tree_predicted)\n",
      "print treecm\n",
      "pl.matshow(treecm)\n",
      "pl.title('Confusion matrix')\n",
      "pl.colorbar()\n",
      "pl.ylabel('Actual')\n",
      "pl.xlabel('Predicted')\n",
      "pl.show()"
     ],
     "language": "python",
     "metadata": {},
     "outputs": [
      {
       "output_type": "stream",
       "stream": "stdout",
       "text": [
        "decision tree classifier\n",
        "             precision    recall  f1-score   support\n",
        "\n",
        "         NO       1.00      1.00      1.00        61\n",
        "        YES       1.00      1.00      1.00        59\n",
        "\n",
        "avg / total       1.00      1.00      1.00       120\n",
        "\n",
        "[[59  0]\n",
        " [ 0 61]]\n"
       ]
      },
      {
       "metadata": {},
       "output_type": "display_data",
       "png": "[encoded data removed]",
       "text": [
        "<matplotlib.figure.Figure at 0x10a230490>"
       ]
      }
     ],
     "prompt_number": 43
    },
    {
     "cell_type": "code",
     "collapsed": false,
     "input": [
      "nbclf = naive_bayes.GaussianNB()\n",
      "nbclf = nbclf.fit(vs_train, target_train)\n",
      "nb_predicted = treeclf.predict(vs_test)\n",
      "nbcm = metrics.confusion_matrix(target_test, nb_predicted, labels=['YES','NO'])\n",
      "print \"naive Bayes classifier\"\n",
      "print metrics.classification_report(target_test, nb_predicted)\n",
      "print nbcm\n",
      "pl.matshow(nbcm)\n",
      "pl.title('Confusion matrix')\n",
      "pl.colorbar()\n",
      "pl.ylabel('Actual')\n",
      "pl.xlabel('Predicted')\n",
      "pl.show()"
     ],
     "language": "python",
     "metadata": {},
     "outputs": [
      {
       "output_type": "stream",
       "stream": "stdout",
       "text": [
        "naive Bayes classifier\n",
        "             precision    recall  f1-score   support\n",
        "\n",
        "         NO       1.00      1.00      1.00        61\n",
        "        YES       1.00      1.00      1.00        59\n",
        "\n",
        "avg / total       1.00      1.00      1.00       120\n",
        "\n",
        "[[59  0]\n",
        " [ 0 61]]\n"
       ]
      },
      {
       "metadata": {},
       "output_type": "display_data",
       "png": "[encoded data removed]",
       "text": [
        "<matplotlib.figure.Figure at 0x10a298910>"
       ]
      }
     ],
     "prompt_number": 44
    },
    {
     "cell_type": "heading",
     "level": 4,
     "metadata": {},
     "source": [
      "2d. Discuss your observations based on the above experiments."
     ]
    },
    {
     "cell_type": "markdown",
     "metadata": {},
     "source": [
      "Ans: The decision tree classifier and the naive Bayes provide more accurate result compare to KNN classifier"
     ]
    }
   ],
   "metadata": {}
  }
 ]
}