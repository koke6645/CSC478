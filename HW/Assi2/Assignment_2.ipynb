{
 "metadata": {
  "name": "",
  "signature": "sha256:c081d36181b1eff1a49b7004105246a1afa121ded72c54dd50b7f82c78d6c1d2"
 },
 "nbformat": 3,
 "nbformat_minor": 0,
 "worksheets": [
  {
   "cells": [
    {
     "cell_type": "code",
     "collapsed": false,
     "input": [
      "from numpy import *\n",
      "import numpy as np\n",
      "import operator"
     ],
     "language": "python",
     "metadata": {},
     "outputs": [],
     "prompt_number": 1
    },
    {
     "cell_type": "code",
     "collapsed": false,
     "input": [
      "def autoNorm(dataSet):\n",
      "    minVals = dataSet.min(0)\n",
      "    maxVals = dataSet.max(0)\n",
      "    ranges = maxVals - minVals\n",
      "    normDataSet = zeros(shape(dataSet))\n",
      "    m = dataSet.shape[0]\n",
      "    normDataSet = dataSet - tile(minVals, (m,1))\n",
      "    normDataSet = normDataSet/tile(ranges, (m,1))\n",
      "    return normDataSet"
     ],
     "language": "python",
     "metadata": {},
     "outputs": [],
     "prompt_number": 2
    },
    {
     "cell_type": "code",
     "collapsed": false,
     "input": [
      "def knn_classify(x, D, L, K, measure):\n",
      "    if measure == 0: # euclidean\n",
      "        dists = sqrt(((D - x)**2).sum(axis=1))\n",
      "    elif measure == 1: # cosine\n",
      "        D_norm = array([linalg.norm(D[i]) for i in range(len(D))])\n",
      "        x_norm = linalg.norm(x)\n",
      "        cosines = dot(D,x)/(D_norm * x_norm)\n",
      "        dists = 1 - cosines\n",
      "    idx = argsort(dists)\n",
      "    count={}          \n",
      "    for i in range(K):\n",
      "        vote = L[idx[i]]\n",
      "        count[vote] = count.get(vote,0) + 1\n",
      "    sortedClass = sorted(count.iteritems(), key=operator.itemgetter(1), reverse=True)\n",
      "    return sortedClass[0][0], idx[:K]"
     ],
     "language": "python",
     "metadata": {},
     "outputs": [],
     "prompt_number": 3
    },
    {
     "cell_type": "code",
     "collapsed": false,
     "input": [
      "def classAccuracy(D, L, K, measure):\n",
      "    numLabels = len(L)\n",
      "    errorCount = 0.0\n",
      "    for i in range(numLabels):\n",
      "        classifierResult, neigh_idx = knn_classify(D[i,:], D, L, K, measure)\n",
      "        #print \"the classifier result: %s, the real answer is: %s\" % (classifierResult, labels[i])\n",
      "        if (classifierResult != L[i]): errorCount += 1.0\n",
      "    errorRate = errorCount/float(numLabels)\n",
      "    #print \"the total error rate is %f\" % (errorCount/float(numLabels))\n",
      "    #print \"total error: %d/%d\" % (errorCount, numLabels)\n",
      "    return errorRate"
     ],
     "language": "python",
     "metadata": {},
     "outputs": [],
     "prompt_number": 4
    },
    {
     "cell_type": "code",
     "collapsed": false,
     "input": [
      "TD = np.genfromtxt('trainMatrixModified.txt',delimiter='\\t',dtype=float)\n",
      "labels = np.genfromtxt('trainClasses.txt',delimiter='\\t',usecols=(1),dtype=int)"
     ],
     "language": "python",
     "metadata": {},
     "outputs": [],
     "prompt_number": 5
    },
    {
     "cell_type": "code",
     "collapsed": false,
     "input": [
      "normTD = autoNorm(TD)\n",
      "normDT = normTD.T\n",
      "errorRate = classAccuracy(normDT, labels, 5, 0)\n",
      "print errorRate"
     ],
     "language": "python",
     "metadata": {},
     "outputs": [
      {
       "output_type": "stream",
       "stream": "stdout",
       "text": [
        "0.06375\n"
       ]
      }
     ],
     "prompt_number": 6
    },
    {
     "cell_type": "code",
     "collapsed": false,
     "input": [
      "testTD = np.genfromtxt('testMatrixModified.txt',delimiter='\\t',dtype=float)\n",
      "testLabels = np.genfromtxt('testClasses.txt',delimiter='\\t',usecols=(1),dtype=int)"
     ],
     "language": "python",
     "metadata": {},
     "outputs": [],
     "prompt_number": 7
    },
    {
     "cell_type": "code",
     "collapsed": false,
     "input": [
      "normTestTD = autoNorm(testTD)\n",
      "normTestDT = normTestTD.T\n",
      "errorRate = classAccuracy(normTestDT, testLabels, 5, 0)\n",
      "print errorRate"
     ],
     "language": "python",
     "metadata": {},
     "outputs": [
      {
       "output_type": "stream",
       "stream": "stdout",
       "text": [
        "0.12\n"
       ]
      }
     ],
     "prompt_number": 8
    },
    {
     "cell_type": "code",
     "collapsed": false,
     "input": [
      "for i in range(1,21):\n",
      "    errorRateEuc = classAccuracy(normTestDT, testLabels, i, 0)\n",
      "    errorRateCos = classAccuracy(normTestDT, testLabels, i, 1)\n",
      "    print \"%2d, %.3f, %.3f\" % (i, errorRateEuc, errorRateCos)\n"
     ],
     "language": "python",
     "metadata": {},
     "outputs": [
      {
       "output_type": "stream",
       "stream": "stdout",
       "text": [
        " 1, 0.000, 0.000\n",
        " 2, 0.010, 0.015"
       ]
      },
      {
       "output_type": "stream",
       "stream": "stdout",
       "text": [
        "\n",
        " 3, 0.040, 0.000"
       ]
      },
      {
       "output_type": "stream",
       "stream": "stdout",
       "text": [
        "\n",
        " 4, 0.020, 0.000"
       ]
      },
      {
       "output_type": "stream",
       "stream": "stdout",
       "text": [
        "\n",
        " 5, 0.120, 0.000"
       ]
      },
      {
       "output_type": "stream",
       "stream": "stdout",
       "text": [
        "\n",
        " 6, 0.055, 0.005"
       ]
      },
      {
       "output_type": "stream",
       "stream": "stdout",
       "text": [
        "\n",
        " 7, 0.235, 0.005"
       ]
      },
      {
       "output_type": "stream",
       "stream": "stdout",
       "text": [
        "\n",
        " 8, 0.035, 0.000"
       ]
      },
      {
       "output_type": "stream",
       "stream": "stdout",
       "text": [
        "\n",
        " 9, 0.070, 0.000"
       ]
      },
      {
       "output_type": "stream",
       "stream": "stdout",
       "text": [
        "\n",
        "10, 0.050, 0.000"
       ]
      },
      {
       "output_type": "stream",
       "stream": "stdout",
       "text": [
        "\n",
        "11, 0.070, 0.000"
       ]
      },
      {
       "output_type": "stream",
       "stream": "stdout",
       "text": [
        "\n",
        "12, 0.030, 0.000"
       ]
      },
      {
       "output_type": "stream",
       "stream": "stdout",
       "text": [
        "\n",
        "13, 0.065, 0.000"
       ]
      },
      {
       "output_type": "stream",
       "stream": "stdout",
       "text": [
        "\n",
        "14, 0.025, 0.005"
       ]
      },
      {
       "output_type": "stream",
       "stream": "stdout",
       "text": [
        "\n",
        "15, 0.095, 0.005"
       ]
      },
      {
       "output_type": "stream",
       "stream": "stdout",
       "text": [
        "\n",
        "16, 0.065, 0.005"
       ]
      },
      {
       "output_type": "stream",
       "stream": "stdout",
       "text": [
        "\n",
        "17, 0.105, 0.005"
       ]
      },
      {
       "output_type": "stream",
       "stream": "stdout",
       "text": [
        "\n",
        "18, 0.035, 0.010"
       ]
      },
      {
       "output_type": "stream",
       "stream": "stdout",
       "text": [
        "\n",
        "19, 0.120, 0.000"
       ]
      },
      {
       "output_type": "stream",
       "stream": "stdout",
       "text": [
        "\n",
        "20, 0.065, 0.000"
       ]
      },
      {
       "output_type": "stream",
       "stream": "stdout",
       "text": [
        "\n"
       ]
      }
     ],
     "prompt_number": 9
    },
    {
     "cell_type": "code",
     "collapsed": false,
     "input": [],
     "language": "python",
     "metadata": {},
     "outputs": [],
     "prompt_number": 9
    }
   ],
   "metadata": {}
  }
 ]
}