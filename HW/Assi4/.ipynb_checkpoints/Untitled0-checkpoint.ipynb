{
 "metadata": {
  "name": "",
  "signature": "sha256:21d14b8c95d904136c3e11c8271eb28e5b3bb6790fcff5b7ea1750d4385c3c28"
 },
 "nbformat": 3,
 "nbformat_minor": 0,
 "worksheets": []
}