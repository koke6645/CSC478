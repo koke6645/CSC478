{
 "metadata": {
  "name": "",
  "signature": "sha256:6d31e4cd8c0da14353b9924edf3f320468fec9b677fb41a77220f11793bb0f0c"
 },
 "nbformat": 3,
 "nbformat_minor": 0,
 "worksheets": [
  {
   "cells": [
    {
     "cell_type": "heading",
     "level": 2,
     "metadata": {},
     "source": [
      "1. PCA for Reduced Dimensionality in Clustering [Dataset: segmentation_data.zip]"
     ]
    },
    {
     "cell_type": "code",
     "collapsed": false,
     "input": [
      "import numpy as np\n",
      "import pylab as pl\n",
      "from sklearn.cluster import KMeans\n",
      "from sklearn import preprocessing\n",
      "from sklearn.metrics import completeness_score, homogeneity_score"
     ],
     "language": "python",
     "metadata": {},
     "outputs": [],
     "prompt_number": 2
    },
    {
     "cell_type": "heading",
     "level": 4,
     "metadata": {},
     "source": [
      "1a. Load in the image data matrix. Also load in the numeric class labels from the segmentation class file. Then perform min-max normalization on the data matrix so that each feature is scaled to [0,1] range."
     ]
    },
    {
     "cell_type": "code",
     "collapsed": false,
     "input": [
      "target = np.genfromtxt('segmentation_classes.txt',delimiter='\\t',usecols=1,dtype=int)"
     ],
     "language": "python",
     "metadata": {},
     "outputs": [],
     "prompt_number": 3
    },
    {
     "cell_type": "code",
     "collapsed": false,
     "input": [
      "target"
     ],
     "language": "python",
     "metadata": {},
     "outputs": [
      {
       "metadata": {},
       "output_type": "pyout",
       "prompt_number": 4,
       "text": [
        "array([0, 0, 0, ..., 3, 3, 3])"
       ]
      }
     ],
     "prompt_number": 4
    },
    {
     "cell_type": "code",
     "collapsed": false,
     "input": [
      "IT = np.genfromtxt('segmentation_data.txt',delimiter=',',dtype=float)"
     ],
     "language": "python",
     "metadata": {},
     "outputs": [],
     "prompt_number": 5
    },
    {
     "cell_type": "code",
     "collapsed": false,
     "input": [
      "print IT"
     ],
     "language": "python",
     "metadata": {},
     "outputs": [
      {
       "output_type": "stream",
       "stream": "stdout",
       "text": [
        "[[ 110.          189.            9.         ...,   18.666668      0.50813884\n",
        "     1.9108642 ]\n",
        " [  86.          187.            9.         ...,   19.222221      0.46332908\n",
        "     1.9414649 ]\n",
        " [ 225.          244.            9.         ...,   17.11111       0.48014903\n",
        "     1.9879022 ]\n",
        " ..., \n",
        " [ 128.          161.            9.         ...,   10.888889      0.5409177\n",
        "    -1.9963073 ]\n",
        " [ 150.          158.            9.         ...,   12.222222      0.50308645\n",
        "    -1.9434487 ]\n",
        " [ 124.          162.            9.         ...,   14.555555      0.4799313\n",
        "    -2.0293121 ]]\n"
       ]
      }
     ],
     "prompt_number": 6
    },
    {
     "cell_type": "code",
     "collapsed": false,
     "input": [
      "IT2 = np.array([np.concatenate((IT[i],[target[i]])) for i in range(len(target))])"
     ],
     "language": "python",
     "metadata": {},
     "outputs": [],
     "prompt_number": 7
    },
    {
     "cell_type": "code",
     "collapsed": false,
     "input": [
      "IT2"
     ],
     "language": "python",
     "metadata": {},
     "outputs": [
      {
       "metadata": {},
       "output_type": "pyout",
       "prompt_number": 9,
       "text": [
        "array([[ 110.        ,  189.        ,    9.        , ...,    0.50813884,\n",
        "           1.9108642 ,    0.        ],\n",
        "       [  86.        ,  187.        ,    9.        , ...,    0.46332908,\n",
        "           1.9414649 ,    0.        ],\n",
        "       [ 225.        ,  244.        ,    9.        , ...,    0.48014903,\n",
        "           1.9879022 ,    0.        ],\n",
        "       ..., \n",
        "       [ 128.        ,  161.        ,    9.        , ...,    0.5409177 ,\n",
        "          -1.9963073 ,    3.        ],\n",
        "       [ 150.        ,  158.        ,    9.        , ...,    0.50308645,\n",
        "          -1.9434487 ,    3.        ],\n",
        "       [ 124.        ,  162.        ,    9.        , ...,    0.4799313 ,\n",
        "          -2.0293121 ,    3.        ]])"
       ]
      }
     ],
     "prompt_number": 9
    },
    {
     "cell_type": "code",
     "collapsed": false,
     "input": [
      "minmax_scaler = preprocessing.MinMaxScaler()\n",
      "IT_minmax = minmax_scaler.fit_transform(IT2)"
     ],
     "language": "python",
     "metadata": {},
     "outputs": [],
     "prompt_number": 10
    },
    {
     "cell_type": "code",
     "collapsed": false,
     "input": [
      "IT_minmax"
     ],
     "language": "python",
     "metadata": {},
     "outputs": [
      {
       "metadata": {},
       "output_type": "pyout",
       "prompt_number": 11,
       "text": [
        "array([[ 0.43083004,  0.74166667,  0.        , ...,  0.50813884,\n",
        "         0.83184923,  0.        ],\n",
        "       [ 0.33596838,  0.73333333,  0.        , ...,  0.46332908,\n",
        "         0.83698646,  0.        ],\n",
        "       [ 0.88537549,  0.97083333,  0.        , ...,  0.48014903,\n",
        "         0.84478233,  0.        ],\n",
        "       ..., \n",
        "       [ 0.50197628,  0.625     ,  0.        , ...,  0.5409177 ,\n",
        "         0.17591546,  0.5       ],\n",
        "       [ 0.58893281,  0.6125    ,  0.        , ...,  0.50308645,\n",
        "         0.18478933,  0.5       ],\n",
        "       [ 0.48616601,  0.62916667,  0.        , ...,  0.4799313 ,\n",
        "         0.17037463,  0.5       ]])"
       ]
      }
     ],
     "prompt_number": 11
    },
    {
     "cell_type": "code",
     "collapsed": false,
     "input": [
      "print \"Max:\\n\", np.max(IT_minmax, axis=0)\n",
      "print \"\\nMin:\\n\", np.min(IT_minmax, axis=0)\n",
      "print \"\\nMean:\\n\", np.mean(IT_minmax, axis=0)\n",
      "print \"\\nStandard deviation:\\n\", np.std(IT_minmax, axis=0)"
     ],
     "language": "python",
     "metadata": {},
     "outputs": [
      {
       "output_type": "stream",
       "stream": "stdout",
       "text": [
        "Max:\n",
        "[ 1.  1.  0.  1.  1.  1.  1.  1.  1.  1.  1.  1.  1.  1.  1.  1.  1.  1.\n",
        "  1.  1.]\n",
        "\n",
        "Min:\n",
        "[ 0.  0.  0.  0.  0.  0.  0.  0.  0.  0.  0.  0.  0.  0.  0.  0.  0.  0.\n",
        "  0.  0.]\n",
        "\n",
        "Mean:\n",
        "[ 0.48988331  0.46868056  0.          0.0447619   0.02047619  0.06470487\n",
        "  0.00575597  0.05381603  0.00570155  0.2582718   0.23927067  0.2929676\n",
        "  0.23942062  0.62032339  0.35913334  0.42930425  0.29930886  0.42725925\n",
        "  0.28187431  0.5       ]\n",
        "\n",
        "Standard deviation:\n",
        "[ 0.28791023  0.23924064  0.          0.12304157  0.10605372  0.09064411\n",
        "  0.04535425  0.07757056  0.03856107  0.26579079  0.25516681  0.28829\n",
        "  0.25460335  0.19453188  0.20805276  0.19817474  0.28425132  0.2284031\n",
        "  0.25919077  0.33333333]\n"
       ]
      }
     ],
     "prompt_number": 12
    },
    {
     "cell_type": "heading",
     "level": 4,
     "metadata": {},
     "source": [
      "1b. Perform Kmeans clustering on the image data. Use Euclidean distance as your distance measure for the clustering. Print the cluster centroids. Compare your 7 clusters to the 7 pre-assigned classes by computing the Completeness and Homogeneity values of the generated clusters."
     ]
    },
    {
     "cell_type": "code",
     "collapsed": false,
     "input": [
      "kmeans = KMeans(n_clusters=7, max_iter=500, verbose=1)"
     ],
     "language": "python",
     "metadata": {},
     "outputs": [],
     "prompt_number": 13
    },
    {
     "cell_type": "code",
     "collapsed": false,
     "input": [
      "kmeans.fit(IT_minmax)"
     ],
     "language": "python",
     "metadata": {},
     "outputs": [
      {
       "output_type": "stream",
       "stream": "stdout",
       "text": [
        "Initialization complete\n",
        "Iteration  0, inertia 578.129\n",
        "Iteration  1, inertia 424.700\n",
        "Iteration  2, inertia 413.682\n",
        "Iteration  3, inertia 410.038\n",
        "Iteration  4, inertia 409.076\n",
        "Iteration  5, inertia 408.777\n",
        "Iteration  6, inertia 408.710\n",
        "Iteration  7, inertia 408.703\n",
        "Iteration  8, inertia 408.693\n",
        "Converged at iteration 8\n",
        "Initialization complete\n",
        "Iteration  0, inertia 590.859\n",
        "Iteration  1, inertia 429.928\n",
        "Iteration  2, inertia 425.790\n",
        "Iteration  3, inertia 424.728\n",
        "Iteration  4, inertia 423.940\n",
        "Iteration  5, inertia 423.201\n",
        "Iteration  6, inertia 422.447\n",
        "Iteration  7, inertia 421.495\n",
        "Iteration  8, inertia 419.991\n",
        "Iteration  9, inertia 415.948\n",
        "Iteration 10, inertia 412.273\n",
        "Iteration 11, inertia 411.491\n",
        "Iteration 12, inertia 410.699\n",
        "Iteration 13, inertia 409.491\n",
        "Iteration 14, inertia 408.800\n",
        "Iteration 15, inertia 408.581\n",
        "Iteration 16, inertia 408.533\n",
        "Iteration 17, inertia 408.528\n",
        "Converged at iteration 17\n",
        "Initialization complete\n",
        "Iteration  0, inertia 675.461\n",
        "Iteration  1, inertia 443.116\n",
        "Iteration  2, inertia 437.528\n",
        "Iteration  3, inertia 434.038\n",
        "Iteration  4, inertia 432.427\n",
        "Iteration  5, inertia 431.511\n",
        "Iteration  6, inertia 431.195\n",
        "Iteration  7, inertia 430.726\n",
        "Iteration  8, inertia 429.974\n",
        "Iteration  9, inertia 429.717\n",
        "Iteration 10, inertia 429.682\n",
        "Iteration 11, inertia 429.680\n",
        "Iteration 12, inertia 429.676\n",
        "Converged at iteration 12\n",
        "Initialization complete\n",
        "Iteration  0, inertia 656.427\n",
        "Iteration  1, inertia 454.964\n",
        "Iteration  2, inertia 438.841\n",
        "Iteration  3, inertia 435.494\n",
        "Iteration  4, inertia 431.776"
       ]
      },
      {
       "output_type": "stream",
       "stream": "stdout",
       "text": [
        "\n",
        "Iteration  5, inertia 430.231\n",
        "Iteration  6, inertia 429.521\n",
        "Iteration  7, inertia 429.313\n",
        "Iteration  8, inertia 429.279\n",
        "Iteration  9, inertia 429.272\n",
        "Converged at iteration 9\n",
        "Initialization complete\n",
        "Iteration  0, inertia 763.695\n",
        "Iteration  1, inertia 439.242\n",
        "Iteration  2, inertia 433.857\n",
        "Iteration  3, inertia 431.295\n",
        "Iteration  4, inertia 430.337\n",
        "Iteration  5, inertia 429.798\n",
        "Iteration  6, inertia 429.717\n",
        "Iteration  7, inertia 429.689\n",
        "Iteration  8, inertia 429.680\n",
        "Converged at iteration 8\n",
        "Initialization complete\n",
        "Iteration  0, inertia 684.277\n",
        "Iteration  1, inertia 462.570\n",
        "Iteration  2, inertia 446.965\n",
        "Iteration  3, inertia 434.759\n",
        "Iteration  4, inertia 427.610\n",
        "Iteration  5, inertia 423.310\n",
        "Iteration  6, inertia 421.865\n",
        "Iteration  7, inertia 421.369\n",
        "Iteration  8, inertia 421.254\n",
        "Iteration  9, inertia 421.085\n",
        "Iteration 10, inertia 421.055\n",
        "Iteration 11, inertia 421.041\n",
        "Iteration 12, inertia 421.007\n",
        "Iteration 13, inertia 420.964\n",
        "Iteration 14, inertia 420.953\n",
        "Iteration 15, inertia 420.947\n",
        "Converged at iteration 15\n",
        "Initialization complete\n",
        "Iteration  0, inertia 631.869\n",
        "Iteration  1, inertia 436.412\n",
        "Iteration  2, inertia 426.311\n",
        "Iteration  3, inertia 423.462\n",
        "Iteration  4, inertia 422.593\n",
        "Iteration  5, inertia 421.535\n",
        "Iteration  6, inertia 420.835\n",
        "Iteration  7, inertia 420.183\n",
        "Iteration  8, inertia 419.885\n",
        "Iteration  9, inertia 419.726\n",
        "Iteration 10, inertia 419.550\n",
        "Iteration 11, inertia 419.269\n",
        "Iteration 12, inertia 417.683\n",
        "Iteration 13, inertia 411.910\n",
        "Iteration 14, inertia 409.946\n",
        "Iteration 15, inertia 409.250\n",
        "Iteration 16, inertia 408.929"
       ]
      },
      {
       "output_type": "stream",
       "stream": "stdout",
       "text": [
        "\n",
        "Iteration 17, inertia 408.667\n",
        "Iteration 18, inertia 408.547\n",
        "Iteration 19, inertia 408.543\n",
        "Iteration 20, inertia 408.540\n",
        "Converged at iteration 20\n",
        "Initialization complete\n",
        "Iteration  0, inertia 666.176\n",
        "Iteration  1, inertia 445.974\n",
        "Iteration  2, inertia 432.620\n",
        "Iteration  3, inertia 430.289\n",
        "Iteration  4, inertia 429.790\n",
        "Iteration  5, inertia 429.720\n",
        "Iteration  6, inertia 429.716\n",
        "Converged at iteration 6\n",
        "Initialization complete\n",
        "Iteration  0, inertia 593.904\n",
        "Iteration  1, inertia 464.514\n",
        "Iteration  2, inertia 436.454\n",
        "Iteration  3, inertia 431.041\n",
        "Iteration  4, inertia 429.946\n",
        "Iteration  5, inertia 429.241\n",
        "Iteration  6, inertia 428.845\n",
        "Iteration  7, inertia 428.631\n",
        "Iteration  8, inertia 428.537\n",
        "Iteration  9, inertia 428.497\n",
        "Iteration 10, inertia 428.475\n",
        "Converged at iteration 10\n",
        "Initialization complete\n",
        "Iteration  0, inertia 705.117\n",
        "Iteration  1, inertia 490.834\n",
        "Iteration  2, inertia 478.498\n",
        "Iteration  3, inertia 475.758\n",
        "Iteration  4, inertia 474.686\n",
        "Iteration  5, inertia 473.910\n",
        "Iteration  6, inertia 472.620\n",
        "Iteration  7, inertia 470.738\n",
        "Iteration  8, inertia 469.440\n",
        "Iteration  9, inertia 468.210\n",
        "Iteration 10, inertia 466.464\n",
        "Iteration 11, inertia 465.483\n",
        "Iteration 12, inertia 464.726\n",
        "Iteration 13, inertia 464.198\n",
        "Iteration 14, inertia 463.963\n",
        "Iteration 15, inertia 463.591\n",
        "Iteration 16, inertia 463.209\n",
        "Iteration 17, inertia 462.646\n",
        "Iteration 18, inertia 461.995\n",
        "Iteration 19, inertia 461.791\n",
        "Iteration 20, inertia 461.737\n",
        "Iteration 21, inertia 461.729\n",
        "Iteration 22, inertia 461.720\n",
        "Converged at iteration 22\n"
       ]
      },
      {
       "metadata": {},
       "output_type": "pyout",
       "prompt_number": 14,
       "text": [
        "KMeans(copy_x=True, init='k-means++', max_iter=500, n_clusters=7, n_init=10,\n",
        "    n_jobs=1, precompute_distances=True, random_state=None, tol=0.0001,\n",
        "    verbose=1)"
       ]
      }
     ],
     "prompt_number": 14
    },
    {
     "cell_type": "code",
     "collapsed": false,
     "input": [
      "clusters = kmeans.predict(IT_minmax)"
     ],
     "language": "python",
     "metadata": {},
     "outputs": [],
     "prompt_number": 15
    },
    {
     "cell_type": "code",
     "collapsed": false,
     "input": [
      "print clusters"
     ],
     "language": "python",
     "metadata": {},
     "outputs": [
      {
       "output_type": "stream",
       "stream": "stdout",
       "text": [
        "[3 3 3 ..., 2 2 2]\n"
       ]
      }
     ],
     "prompt_number": 16
    },
    {
     "cell_type": "code",
     "collapsed": false,
     "input": [
      "print 'Completeness:',completeness_score(target,clusters)\n",
      "print 'Homogeneity: ',homogeneity_score(target,clusters)"
     ],
     "language": "python",
     "metadata": {},
     "outputs": [
      {
       "output_type": "stream",
       "stream": "stdout",
       "text": [
        "Completeness: 0.743184912195\n",
        "Homogeneity:  0.742113437338\n"
       ]
      }
     ],
     "prompt_number": 17
    },
    {
     "cell_type": "code",
     "collapsed": false,
     "input": [
      "centers = kmeans.cluster_centers_"
     ],
     "language": "python",
     "metadata": {},
     "outputs": [],
     "prompt_number": 18
    },
    {
     "cell_type": "code",
     "collapsed": false,
     "input": [
      "centers"
     ],
     "language": "python",
     "metadata": {},
     "outputs": [
      {
       "metadata": {},
       "output_type": "pyout",
       "prompt_number": 19,
       "text": [
        "array([[  2.44894069e-01,   4.49102358e-01,   0.00000000e+00,\n",
        "          3.53697739e-02,   2.89389068e-02,   5.91982226e-02,\n",
        "          4.96734435e-03,   4.40734129e-02,   4.20601266e-03,\n",
        "          5.09753828e-02,   3.31731702e-02,   7.79801957e-02,\n",
        "          3.94348046e-02,   6.94737731e-01,   2.73251376e-01,\n",
        "          4.92138371e-01,   7.82146051e-02,   7.59085257e-01,\n",
        "          1.39019342e-01,   5.77170418e-01],\n",
        "       [  5.35098814e-01,   1.50166667e-01,   0.00000000e+00,\n",
        "          2.77777769e-02,   1.66666667e-03,   3.02281387e-02,\n",
        "          5.42887957e-04,   2.67660451e-02,   5.86661900e-04,\n",
        "          8.23246433e-01,   7.79716377e-01,   8.94170356e-01,\n",
        "          7.88760696e-01,   2.70665440e-01,   6.66372551e-01,\n",
        "          2.89386481e-01,   8.94170356e-01,   2.11804171e-01,\n",
        "          1.25065773e-01,   8.33333333e-01],\n",
        "       [  7.79401034e-01,   4.09326923e-01,   0.00000000e+00,\n",
        "          1.53846149e-02,   2.88461538e-02,   5.27200955e-02,\n",
        "          1.02464981e-02,   2.70281876e-02,   5.68660154e-03,\n",
        "          4.47705033e-02,   3.31006113e-02,   6.61266567e-02,\n",
        "          3.33203424e-02,   7.39071474e-01,   2.44710412e-01,\n",
        "          4.93081317e-01,   6.61294889e-02,   5.42996053e-01,\n",
        "          2.09018043e-01,   3.99358974e-01],\n",
        "       [  5.12467836e-01,   8.09507830e-01,   0.00000000e+00,\n",
        "          7.82997739e-02,   5.03355705e-03,   5.45652911e-02,\n",
        "          1.40614328e-03,   4.63087215e-02,   1.40051121e-03,\n",
        "          1.08644950e-01,   9.13301003e-02,   9.23288297e-02,\n",
        "          1.42399051e-01,   6.79705506e-01,   7.92538545e-02,\n",
        "          8.20326541e-01,   1.34677921e-01,   4.13648572e-01,\n",
        "          8.90382466e-01,   3.33066907e-16],\n",
        "       [  7.41260562e-01,   5.34181637e-01,   0.00000000e+00,\n",
        "          3.99201585e-02,   3.59281437e-02,   1.07363223e-01,\n",
        "          1.36938561e-02,   1.04738340e-01,   1.53385415e-02,\n",
        "          2.97036455e-01,   2.75939211e-01,   3.48537828e-01,\n",
        "          2.62352919e-01,   5.93479095e-01,   4.48848189e-01,\n",
        "          3.11905617e-01,   3.48630427e-01,   3.02756066e-01,\n",
        "          1.64217584e-01,   3.32335329e-01],\n",
        "       [  2.81574839e-01,   5.36788256e-01,   0.00000000e+00,\n",
        "          4.86358230e-02,   3.91459075e-02,   1.08655945e-01,\n",
        "          8.54618941e-03,   8.86231455e-02,   1.11806418e-02,\n",
        "          3.74197509e-01,   3.46101273e-01,   4.41163214e-01,\n",
        "          3.29757039e-01,   5.20522398e-01,   5.41214154e-01,\n",
        "          2.37130893e-01,   4.41168455e-01,   3.01590228e-01,\n",
        "          1.64115175e-01,   3.38078292e-01],\n",
        "       [  3.48101266e-01,   3.87961498e-01,   0.00000000e+00,\n",
        "          6.43459897e-02,   4.74683544e-03,   3.81070434e-02,\n",
        "          1.01732376e-03,   3.34302988e-02,   1.03950025e-03,\n",
        "          9.86307377e-02,   1.04417559e-01,   1.19125296e-01,\n",
        "          7.12185625e-02,   8.42457021e-01,   2.53317205e-01,\n",
        "          3.74048248e-01,   1.20994202e-01,   4.66183653e-01,\n",
        "          2.86511410e-01,   9.83122363e-01]])"
       ]
      }
     ],
     "prompt_number": 19
    },
    {
     "cell_type": "code",
     "collapsed": false,
     "input": [
      "terms = np.genfromtxt('segmentation_names.txt',delimiter='\\n',dtype=str)"
     ],
     "language": "python",
     "metadata": {},
     "outputs": [],
     "prompt_number": 20
    },
    {
     "cell_type": "code",
     "collapsed": false,
     "input": [
      "terms"
     ],
     "language": "python",
     "metadata": {},
     "outputs": [
      {
       "metadata": {},
       "output_type": "pyout",
       "prompt_number": 22,
       "text": [
        "array(['REGION-CENTROID-COL', 'REGION-CENTROID-ROW', 'REGION-PIXEL-COUNT',\n",
        "       'SHORT-LINE-DENSITY-5', 'SHORT-LINE-DENSITY-2', 'VEDGE-MEAN',\n",
        "       'VEDGE-SD', 'HEDGE-MEAN', 'HEDGE-SD', 'INTENSITY-MEAN',\n",
        "       'RAWRED-MEAN', 'RAWBLUE-MEAN', 'RAWGREEN-MEAN', 'EXRED-MEAN',\n",
        "       'EXBLUE-MEAN', 'EXGREEN-MEAN', 'VALUE-MEAN', 'SATURATION-MEAN',\n",
        "       'HUE-MEAN'], \n",
        "      dtype='|S20')"
       ]
      }
     ],
     "prompt_number": 22
    },
    {
     "cell_type": "code",
     "collapsed": false,
     "input": [],
     "language": "python",
     "metadata": {},
     "outputs": []
    }
   ],
   "metadata": {}
  }
 ]
}