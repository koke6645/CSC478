{
 "metadata": {
  "name": "",
  "signature": "sha256:2b59f425831092c5b340c1d31fb0145f3a05383d3765c28823e23be2b121d47c"
 },
 "nbformat": 3,
 "nbformat_minor": 0,
 "worksheets": [
  {
   "cells": [
    {
     "cell_type": "heading",
     "level": 2,
     "metadata": {},
     "source": [
      "1. PCA for Reduced Dimensionality in Clustering [Dataset: segmentation_data.zip]"
     ]
    },
    {
     "cell_type": "code",
     "collapsed": false,
     "input": [
      "import numpy as np\n",
      "import pylab as pl\n",
      "from sklearn.cluster import KMeans\n",
      "from sklearn import preprocessing\n",
      "from sklearn.metrics import completeness_score, homogeneity_score\n",
      "np.set_printoptions(precision=4,suppress=True)"
     ],
     "language": "python",
     "metadata": {},
     "outputs": [],
     "prompt_number": 89
    },
    {
     "cell_type": "heading",
     "level": 4,
     "metadata": {},
     "source": [
      "1a. Load in the image data matrix. Also load in the numeric class labels from the segmentation class file. Then perform min-max normalization on the data matrix so that each feature is scaled to [0,1] range."
     ]
    },
    {
     "cell_type": "code",
     "collapsed": false,
     "input": [
      "target = np.genfromtxt('segmentation_classes.txt',delimiter='\\t',usecols=1,dtype=int)"
     ],
     "language": "python",
     "metadata": {},
     "outputs": [],
     "prompt_number": 90
    },
    {
     "cell_type": "code",
     "collapsed": false,
     "input": [
      "target"
     ],
     "language": "python",
     "metadata": {},
     "outputs": [
      {
       "metadata": {},
       "output_type": "pyout",
       "prompt_number": 91,
       "text": [
        "array([0, 0, 0, ..., 3, 3, 3])"
       ]
      }
     ],
     "prompt_number": 91
    },
    {
     "cell_type": "code",
     "collapsed": false,
     "input": [
      "IT = np.genfromtxt('segmentation_data.txt',delimiter=',',dtype=float)"
     ],
     "language": "python",
     "metadata": {},
     "outputs": [],
     "prompt_number": 92
    },
    {
     "cell_type": "code",
     "collapsed": false,
     "input": [
      "print IT"
     ],
     "language": "python",
     "metadata": {},
     "outputs": [
      {
       "output_type": "stream",
       "stream": "stdout",
       "text": [
        "[[ 110.      189.        9.     ...,   18.6667    0.5081    1.9109]\n",
        " [  86.      187.        9.     ...,   19.2222    0.4633    1.9415]\n",
        " [ 225.      244.        9.     ...,   17.1111    0.4801    1.9879]\n",
        " ..., \n",
        " [ 128.      161.        9.     ...,   10.8889    0.5409   -1.9963]\n",
        " [ 150.      158.        9.     ...,   12.2222    0.5031   -1.9434]\n",
        " [ 124.      162.        9.     ...,   14.5556    0.4799   -2.0293]]\n"
       ]
      }
     ],
     "prompt_number": 93
    },
    {
     "cell_type": "code",
     "collapsed": false,
     "input": [
      "IT2 = np.array([np.concatenate((IT[i],[target[i]])) for i in range(len(target))])"
     ],
     "language": "python",
     "metadata": {},
     "outputs": [],
     "prompt_number": 94
    },
    {
     "cell_type": "code",
     "collapsed": false,
     "input": [
      "IT2"
     ],
     "language": "python",
     "metadata": {},
     "outputs": [
      {
       "metadata": {},
       "output_type": "pyout",
       "prompt_number": 95,
       "text": [
        "array([[ 110.    ,  189.    ,    9.    , ...,    0.5081,    1.9109,    0.    ],\n",
        "       [  86.    ,  187.    ,    9.    , ...,    0.4633,    1.9415,    0.    ],\n",
        "       [ 225.    ,  244.    ,    9.    , ...,    0.4801,    1.9879,    0.    ],\n",
        "       ..., \n",
        "       [ 128.    ,  161.    ,    9.    , ...,    0.5409,   -1.9963,    3.    ],\n",
        "       [ 150.    ,  158.    ,    9.    , ...,    0.5031,   -1.9434,    3.    ],\n",
        "       [ 124.    ,  162.    ,    9.    , ...,    0.4799,   -2.0293,    3.    ]])"
       ]
      }
     ],
     "prompt_number": 95
    },
    {
     "cell_type": "code",
     "collapsed": false,
     "input": [
      "minmax_scaler = preprocessing.MinMaxScaler()\n",
      "IT_minmax = minmax_scaler.fit_transform(IT2)"
     ],
     "language": "python",
     "metadata": {},
     "outputs": [],
     "prompt_number": 96
    },
    {
     "cell_type": "code",
     "collapsed": false,
     "input": [
      "IT_minmax"
     ],
     "language": "python",
     "metadata": {},
     "outputs": [
      {
       "metadata": {},
       "output_type": "pyout",
       "prompt_number": 97,
       "text": [
        "array([[ 0.4308,  0.7417,  0.    , ...,  0.5081,  0.8318,  0.    ],\n",
        "       [ 0.336 ,  0.7333,  0.    , ...,  0.4633,  0.837 ,  0.    ],\n",
        "       [ 0.8854,  0.9708,  0.    , ...,  0.4801,  0.8448,  0.    ],\n",
        "       ..., \n",
        "       [ 0.502 ,  0.625 ,  0.    , ...,  0.5409,  0.1759,  0.5   ],\n",
        "       [ 0.5889,  0.6125,  0.    , ...,  0.5031,  0.1848,  0.5   ],\n",
        "       [ 0.4862,  0.6292,  0.    , ...,  0.4799,  0.1704,  0.5   ]])"
       ]
      }
     ],
     "prompt_number": 97
    },
    {
     "cell_type": "code",
     "collapsed": false,
     "input": [
      "print \"Max:\\n\", np.max(IT_minmax, axis=0)\n",
      "print \"\\nMin:\\n\", np.min(IT_minmax, axis=0)\n",
      "print \"\\nMean:\\n\", np.mean(IT_minmax, axis=0)\n",
      "print \"\\nStandard deviation:\\n\", np.std(IT_minmax, axis=0)"
     ],
     "language": "python",
     "metadata": {},
     "outputs": [
      {
       "output_type": "stream",
       "stream": "stdout",
       "text": [
        "Max:\n",
        "[ 1.  1.  0.  1.  1.  1.  1.  1.  1.  1.  1.  1.  1.  1.  1.  1.  1.  1.\n",
        "  1.  1.]\n",
        "\n",
        "Min:\n",
        "[ 0.  0.  0.  0.  0.  0.  0.  0.  0.  0.  0.  0.  0.  0.  0.  0.  0.  0.\n",
        "  0.  0.]\n",
        "\n",
        "Mean:\n",
        "[ 0.4899  0.4687  0.      0.0448  0.0205  0.0647  0.0058  0.0538  0.0057\n",
        "  0.2583  0.2393  0.293   0.2394  0.6203  0.3591  0.4293  0.2993  0.4273\n",
        "  0.2819  0.5   ]\n",
        "\n",
        "Standard deviation:\n",
        "[ 0.2879  0.2392  0.      0.123   0.1061  0.0906  0.0454  0.0776  0.0386\n",
        "  0.2658  0.2552  0.2883  0.2546  0.1945  0.2081  0.1982  0.2843  0.2284\n",
        "  0.2592  0.3333]\n"
       ]
      }
     ],
     "prompt_number": 98
    },
    {
     "cell_type": "heading",
     "level": 4,
     "metadata": {},
     "source": [
      "1b. Perform Kmeans clustering on the image data. Use Euclidean distance as your distance measure for the clustering. Print the cluster centroids. Compare your 7 clusters to the 7 pre-assigned classes by computing the Completeness and Homogeneity values of the generated clusters."
     ]
    },
    {
     "cell_type": "code",
     "collapsed": false,
     "input": [
      "kmeans = KMeans(n_clusters=7, max_iter=500, verbose=1)"
     ],
     "language": "python",
     "metadata": {},
     "outputs": [],
     "prompt_number": 99
    },
    {
     "cell_type": "code",
     "collapsed": false,
     "input": [
      "kmeans.fit(IT_minmax)"
     ],
     "language": "python",
     "metadata": {},
     "outputs": [
      {
       "output_type": "stream",
       "stream": "stdout",
       "text": [
        "Initialization complete\n",
        "Iteration  0, inertia 631.229\n",
        "Iteration  1, inertia 447.293\n",
        "Iteration  2, inertia 438.381\n",
        "Iteration  3, inertia 435.015\n",
        "Iteration  4, inertia 430.795\n",
        "Iteration  5, inertia 425.857\n",
        "Iteration  6, inertia 422.647\n",
        "Iteration  7, inertia 420.733\n",
        "Iteration  8, inertia 418.647\n",
        "Iteration  9, inertia 416.253\n",
        "Iteration 10, inertia 414.236\n",
        "Iteration 11, inertia 413.414\n",
        "Iteration 12, inertia 412.636\n",
        "Iteration 13, inertia 412.359\n",
        "Iteration 14, inertia 412.044\n",
        "Iteration 15, inertia 411.788\n",
        "Iteration 16, inertia 411.467\n",
        "Iteration 17, inertia 410.689\n",
        "Iteration 18, inertia 409.472\n",
        "Iteration 19, inertia 408.810\n",
        "Iteration 20, inertia 408.587\n",
        "Iteration 21, inertia 408.534\n",
        "Iteration 22, inertia 408.529\n",
        "Converged at iteration 22\n",
        "Initialization complete\n",
        "Iteration  0, inertia 675.520\n",
        "Iteration  1, inertia 432.125\n",
        "Iteration  2, inertia 429.647\n",
        "Iteration  3, inertia 429.531\n",
        "Iteration  4, inertia 429.433\n",
        "Iteration  5, inertia 429.325\n",
        "Iteration  6, inertia 429.308\n",
        "Iteration  7, inertia 429.283\n",
        "Iteration  8, inertia 429.272\n",
        "Iteration  9, inertia 429.266\n",
        "Converged at iteration 9\n",
        "Initialization complete\n",
        "Iteration  0, inertia 722.744\n",
        "Iteration  1, inertia 453.310\n",
        "Iteration  2, inertia 437.413\n",
        "Iteration  3, inertia 432.147\n",
        "Iteration  4, inertia 429.139\n",
        "Iteration  5, inertia 427.283\n",
        "Iteration  6, inertia 426.235\n",
        "Iteration  7, inertia 425.472\n",
        "Iteration  8, inertia 424.287\n",
        "Iteration  9, inertia 422.048\n",
        "Iteration 10, inertia 418.037\n",
        "Iteration 11, inertia 413.663\n",
        "Iteration 12, inertia 411.563\n",
        "Iteration 13, inertia 410.482\n",
        "Iteration 14, inertia 409.876\n",
        "Iteration 15, inertia 409.742\n",
        "Iteration 16, inertia 409.650"
       ]
      },
      {
       "output_type": "stream",
       "stream": "stdout",
       "text": [
        "\n",
        "Iteration 17, inertia 409.625\n",
        "Iteration 18, inertia 409.613\n",
        "Iteration 19, inertia 409.603\n",
        "Iteration 20, inertia 409.602\n",
        "Converged at iteration 20\n",
        "Initialization complete\n",
        "Iteration  0, inertia 666.513\n",
        "Iteration  1, inertia 462.578\n",
        "Iteration  2, inertia 446.257\n",
        "Iteration  3, inertia 439.322\n",
        "Iteration  4, inertia 434.782\n",
        "Iteration  5, inertia 432.972\n",
        "Iteration  6, inertia 431.555\n",
        "Iteration  7, inertia 430.214\n",
        "Iteration  8, inertia 429.528\n",
        "Iteration  9, inertia 429.362\n",
        "Iteration 10, inertia 429.297\n",
        "Iteration 11, inertia 429.280\n",
        "Iteration 12, inertia 429.272\n",
        "Converged at iteration 12\n",
        "Initialization complete\n",
        "Iteration  0, inertia 616.826\n",
        "Iteration  1, inertia 472.605\n",
        "Iteration  2, inertia 460.076\n",
        "Iteration  3, inertia 453.242\n",
        "Iteration  4, inertia 448.428\n",
        "Iteration  5, inertia 445.820\n",
        "Iteration  6, inertia 442.096\n",
        "Iteration  7, inertia 439.564\n",
        "Iteration  8, inertia 438.261\n",
        "Iteration  9, inertia 437.056\n",
        "Iteration 10, inertia 435.933\n",
        "Iteration 11, inertia 435.409\n",
        "Iteration 12, inertia 434.910\n",
        "Iteration 13, inertia 434.495\n",
        "Iteration 14, inertia 434.243\n",
        "Iteration 15, inertia 433.804\n",
        "Iteration 16, inertia 433.669\n",
        "Iteration 17, inertia 433.634\n",
        "Iteration 18, inertia 433.603\n",
        "Iteration 19, inertia 433.561\n",
        "Iteration 20, inertia 433.492\n",
        "Iteration 21, inertia 433.341\n",
        "Iteration 22, inertia 433.261\n",
        "Iteration 23, inertia 433.232\n",
        "Iteration 24, inertia 433.215\n",
        "Iteration 25, inertia 433.177\n",
        "Iteration 26, inertia 433.143\n",
        "Iteration 27, inertia 433.121\n",
        "Iteration 28, inertia 433.117\n",
        "Iteration 29, inertia 433.113\n",
        "Iteration 30, inertia 433.112\n",
        "Iteration 31, inertia 433.108\n",
        "Converged at iteration 31\n",
        "Initialization complete"
       ]
      },
      {
       "output_type": "stream",
       "stream": "stdout",
       "text": [
        "\n",
        "Iteration  0, inertia 639.025\n",
        "Iteration  1, inertia 478.549\n",
        "Iteration  2, inertia 453.711\n",
        "Iteration  3, inertia 449.114\n",
        "Iteration  4, inertia 446.974\n",
        "Iteration  5, inertia 444.496\n",
        "Iteration  6, inertia 442.875\n",
        "Iteration  7, inertia 441.812\n",
        "Iteration  8, inertia 441.070\n",
        "Iteration  9, inertia 440.335\n",
        "Iteration 10, inertia 439.783\n",
        "Iteration 11, inertia 439.690\n",
        "Iteration 12, inertia 439.598\n",
        "Iteration 13, inertia 439.540\n",
        "Iteration 14, inertia 439.451\n",
        "Iteration 15, inertia 439.418\n",
        "Iteration 16, inertia 439.374\n",
        "Iteration 17, inertia 439.360\n",
        "Iteration 18, inertia 439.356\n",
        "Converged at iteration 18\n",
        "Initialization complete\n",
        "Iteration  0, inertia 667.491\n",
        "Iteration  1, inertia 439.281\n",
        "Iteration  2, inertia 425.890\n",
        "Iteration  3, inertia 423.696\n",
        "Iteration  4, inertia 423.314\n",
        "Iteration  5, inertia 423.074\n",
        "Iteration  6, inertia 423.051\n",
        "Iteration  7, inertia 423.047\n",
        "Iteration  8, inertia 423.045\n",
        "Converged at iteration 8\n",
        "Initialization complete\n",
        "Iteration  0, inertia 678.986\n",
        "Iteration  1, inertia 446.795\n",
        "Iteration  2, inertia 438.246\n",
        "Iteration  3, inertia 435.868\n",
        "Iteration  4, inertia 433.464\n",
        "Iteration  5, inertia 429.016\n",
        "Iteration  6, inertia 425.540\n",
        "Iteration  7, inertia 423.353\n",
        "Iteration  8, inertia 421.221\n",
        "Iteration  9, inertia 419.280\n",
        "Iteration 10, inertia 417.261\n",
        "Iteration 11, inertia 415.010\n",
        "Iteration 12, inertia 412.393\n",
        "Iteration 13, inertia 410.981\n",
        "Iteration 14, inertia 409.969\n",
        "Iteration 15, inertia 409.678\n",
        "Iteration 16, inertia 409.614\n",
        "Iteration 17, inertia 409.601\n",
        "Converged at iteration 17\n",
        "Initialization complete\n",
        "Iteration  0, inertia 628.263\n",
        "Iteration  1, inertia 447.643"
       ]
      },
      {
       "output_type": "stream",
       "stream": "stdout",
       "text": [
        "\n",
        "Iteration  2, inertia 432.350\n",
        "Iteration  3, inertia 426.123\n",
        "Iteration  4, inertia 422.068\n",
        "Iteration  5, inertia 417.815\n",
        "Iteration  6, inertia 413.594\n",
        "Iteration  7, inertia 411.043\n",
        "Iteration  8, inertia 409.594\n",
        "Iteration  9, inertia 408.907\n",
        "Iteration 10, inertia 408.798\n",
        "Iteration 11, inertia 408.753\n",
        "Iteration 12, inertia 408.637\n",
        "Iteration 13, inertia 408.545\n",
        "Converged at iteration 13\n",
        "Initialization complete\n",
        "Iteration  0, inertia 655.924\n",
        "Iteration  1, inertia 458.497\n",
        "Iteration  2, inertia 446.317\n",
        "Iteration  3, inertia 442.210\n",
        "Iteration  4, inertia 439.879\n",
        "Iteration  5, inertia 438.113\n",
        "Iteration  6, inertia 436.839\n",
        "Iteration  7, inertia 435.527\n",
        "Iteration  8, inertia 434.616\n",
        "Iteration  9, inertia 433.835\n",
        "Iteration 10, inertia 433.248\n",
        "Iteration 11, inertia 432.691\n",
        "Iteration 12, inertia 431.989\n",
        "Iteration 13, inertia 430.944\n",
        "Iteration 14, inertia 429.678\n",
        "Iteration 15, inertia 429.389\n",
        "Iteration 16, inertia 429.302\n",
        "Iteration 17, inertia 429.280\n",
        "Iteration 18, inertia 429.272\n",
        "Converged at iteration 18\n"
       ]
      },
      {
       "metadata": {},
       "output_type": "pyout",
       "prompt_number": 100,
       "text": [
        "KMeans(copy_x=True, init='k-means++', max_iter=500, n_clusters=7, n_init=10,\n",
        "    n_jobs=1, precompute_distances=True, random_state=None, tol=0.0001,\n",
        "    verbose=1)"
       ]
      }
     ],
     "prompt_number": 100
    },
    {
     "cell_type": "code",
     "collapsed": false,
     "input": [
      "clusters = kmeans.predict(IT_minmax)"
     ],
     "language": "python",
     "metadata": {},
     "outputs": [],
     "prompt_number": 101
    },
    {
     "cell_type": "code",
     "collapsed": false,
     "input": [
      "print clusters"
     ],
     "language": "python",
     "metadata": {},
     "outputs": [
      {
       "output_type": "stream",
       "stream": "stdout",
       "text": [
        "[3 3 3 ..., 6 6 6]\n"
       ]
      }
     ],
     "prompt_number": 102
    },
    {
     "cell_type": "code",
     "collapsed": false,
     "input": [
      "print 'Completeness:',completeness_score(target,clusters)\n",
      "print 'Homogeneity: ',homogeneity_score(target,clusters)"
     ],
     "language": "python",
     "metadata": {},
     "outputs": [
      {
       "output_type": "stream",
       "stream": "stdout",
       "text": [
        "Completeness: 0.743204915704\n",
        "Homogeneity:  0.742101390973\n"
       ]
      }
     ],
     "prompt_number": 103
    },
    {
     "cell_type": "code",
     "collapsed": false,
     "input": [
      "centers = kmeans.cluster_centers_"
     ],
     "language": "python",
     "metadata": {},
     "outputs": [],
     "prompt_number": 104
    },
    {
     "cell_type": "code",
     "collapsed": false,
     "input": [
      "centers"
     ],
     "language": "python",
     "metadata": {},
     "outputs": [
      {
       "metadata": {},
       "output_type": "pyout",
       "prompt_number": 105,
       "text": [
        "array([[ 0.7404,  0.5347,  0.    ,  0.0408,  0.0358,  0.1072,  0.0137,\n",
        "         0.1046,  0.0153,  0.2971,  0.276 ,  0.3486,  0.2624,  0.5937,\n",
        "         0.4488,  0.3118,  0.3487,  0.3027,  0.1643,  0.3318],\n",
        "       [ 0.3481,  0.388 ,  0.    ,  0.0643,  0.0047,  0.0381,  0.001 ,\n",
        "         0.0334,  0.001 ,  0.0986,  0.1044,  0.1191,  0.0712,  0.8425,\n",
        "         0.2533,  0.374 ,  0.121 ,  0.4662,  0.2865,  0.9831],\n",
        "       [ 0.5351,  0.1502,  0.    ,  0.0278,  0.0017,  0.0302,  0.0005,\n",
        "         0.0268,  0.0006,  0.8232,  0.7797,  0.8942,  0.7888,  0.2707,\n",
        "         0.6664,  0.2894,  0.8942,  0.2118,  0.1251,  0.8333],\n",
        "       [ 0.5125,  0.8095,  0.    ,  0.0783,  0.005 ,  0.0546,  0.0014,\n",
        "         0.0463,  0.0014,  0.1086,  0.0913,  0.0923,  0.1424,  0.6797,\n",
        "         0.0793,  0.8203,  0.1347,  0.4136,  0.8904,  0.    ],\n",
        "       [ 0.2449,  0.4491,  0.    ,  0.0354,  0.0289,  0.0592,  0.005 ,\n",
        "         0.0441,  0.0042,  0.051 ,  0.0332,  0.078 ,  0.0394,  0.6947,\n",
        "         0.2733,  0.4921,  0.0782,  0.7591,  0.139 ,  0.5772],\n",
        "       [ 0.2809,  0.5362,  0.    ,  0.0476,  0.0393,  0.1088,  0.0086,\n",
        "         0.0887,  0.0112,  0.3744,  0.3463,  0.4415,  0.33  ,  0.52  ,\n",
        "         0.5416,  0.237 ,  0.4415,  0.3017,  0.164 ,  0.3387],\n",
        "       [ 0.7794,  0.4093,  0.    ,  0.0154,  0.0288,  0.0527,  0.0102,\n",
        "         0.027 ,  0.0057,  0.0448,  0.0331,  0.0661,  0.0333,  0.7391,\n",
        "         0.2447,  0.4931,  0.0661,  0.543 ,  0.209 ,  0.3994]])"
       ]
      }
     ],
     "prompt_number": 105
    },
    {
     "cell_type": "code",
     "collapsed": false,
     "input": [
      "terms = np.genfromtxt('segmentation_names.txt',delimiter='\\n',dtype=str)"
     ],
     "language": "python",
     "metadata": {},
     "outputs": [],
     "prompt_number": 106
    },
    {
     "cell_type": "code",
     "collapsed": false,
     "input": [
      "terms"
     ],
     "language": "python",
     "metadata": {},
     "outputs": [
      {
       "metadata": {},
       "output_type": "pyout",
       "prompt_number": 107,
       "text": [
        "array(['REGION-CENTROID-COL', 'REGION-CENTROID-ROW', 'REGION-PIXEL-COUNT',\n",
        "       'SHORT-LINE-DENSITY-5', 'SHORT-LINE-DENSITY-2', 'VEDGE-MEAN',\n",
        "       'VEDGE-SD', 'HEDGE-MEAN', 'HEDGE-SD', 'INTENSITY-MEAN',\n",
        "       'RAWRED-MEAN', 'RAWBLUE-MEAN', 'RAWGREEN-MEAN', 'EXRED-MEAN',\n",
        "       'EXBLUE-MEAN', 'EXGREEN-MEAN', 'VALUE-MEAN', 'SATURATION-MEAN',\n",
        "       'HUE-MEAN'], \n",
        "      dtype='|S20')"
       ]
      }
     ],
     "prompt_number": 107
    },
    {
     "cell_type": "code",
     "collapsed": false,
     "input": [
      "print \"\\t\\t\\tCluster0\\tCluster1\\tCluster2\\tCluster3\\tCluster4\\tCluster5\\tCluster6\"\n",
      "for i in range(len(terms)):\n",
      "    print \"%20s\\t%.4f\\t\\t%.4f\\t\\t%.4f\\t\\t%.4f\\t\\t%.4f\\t\\t%.4f\\t\\t%.4f\" %(terms[i],centers[0][i],centers[1][i],centers[2][i],centers[3][i],centers[4][i],centers[5][i],centers[6][i])\n",
      "print \"\\t   Class\\t%.4f\\t\\t%.4f\\t\\t%.4f\\t\\t%.4f\\t\\t%.4f\\t\\t%.4f\\t\\t%.4f\" %(centers[0][i+1],centers[1][i+1],centers[2][i+1],centers[3][i+1],centers[4][i+1],centers[5][i+1],centers[6][i+1])"
     ],
     "language": "python",
     "metadata": {},
     "outputs": [
      {
       "output_type": "stream",
       "stream": "stdout",
       "text": [
        "\t\t\tCluster0\tCluster1\tCluster2\tCluster3\tCluster4\tCluster5\tCluster6\n",
        " REGION-CENTROID-COL\t0.7404\t\t0.3481\t\t0.5351\t\t0.5125\t\t0.2449\t\t0.2809\t\t0.7794\n",
        " REGION-CENTROID-ROW\t0.5347\t\t0.3880\t\t0.1502\t\t0.8095\t\t0.4491\t\t0.5362\t\t0.4093\n",
        "  REGION-PIXEL-COUNT\t0.0000\t\t0.0000\t\t0.0000\t\t0.0000\t\t0.0000\t\t0.0000\t\t0.0000\n",
        "SHORT-LINE-DENSITY-5\t0.0408\t\t0.0643\t\t0.0278\t\t0.0783\t\t0.0354\t\t0.0476\t\t0.0154\n",
        "SHORT-LINE-DENSITY-2\t0.0358\t\t0.0047\t\t0.0017\t\t0.0050\t\t0.0289\t\t0.0393\t\t0.0288\n",
        "          VEDGE-MEAN\t0.1072\t\t0.0381\t\t0.0302\t\t0.0546\t\t0.0592\t\t0.1088\t\t0.0527\n",
        "            VEDGE-SD\t0.0137\t\t0.0010\t\t0.0005\t\t0.0014\t\t0.0050\t\t0.0086\t\t0.0102\n",
        "          HEDGE-MEAN\t0.1046\t\t0.0334\t\t0.0268\t\t0.0463\t\t0.0441\t\t0.0887\t\t0.0270\n",
        "            HEDGE-SD\t0.0153\t\t0.0010\t\t0.0006\t\t0.0014\t\t0.0042\t\t0.0112\t\t0.0057\n",
        "      INTENSITY-MEAN\t0.2971\t\t0.0986\t\t0.8232\t\t0.1086\t\t0.0510\t\t0.3744\t\t0.0448\n",
        "         RAWRED-MEAN\t0.2760\t\t0.1044\t\t0.7797\t\t0.0913\t\t0.0332\t\t0.3463\t\t0.0331\n",
        "        RAWBLUE-MEAN\t0.3486\t\t0.1191\t\t0.8942\t\t0.0923\t\t0.0780\t\t0.4415\t\t0.0661\n",
        "       RAWGREEN-MEAN\t0.2624\t\t0.0712\t\t0.7888\t\t0.1424\t\t0.0394\t\t0.3300\t\t0.0333\n",
        "          EXRED-MEAN\t0.5937\t\t0.8425\t\t0.2707\t\t0.6797\t\t0.6947\t\t0.5200\t\t0.7391\n",
        "         EXBLUE-MEAN\t0.4488\t\t0.2533\t\t0.6664\t\t0.0793\t\t0.2733\t\t0.5416\t\t0.2447\n",
        "        EXGREEN-MEAN\t0.3118\t\t0.3740\t\t0.2894\t\t0.8203\t\t0.4921\t\t0.2370\t\t0.4931\n",
        "          VALUE-MEAN\t0.3487\t\t0.1210\t\t0.8942\t\t0.1347\t\t0.0782\t\t0.4415\t\t0.0661\n",
        "     SATURATION-MEAN\t0.3027\t\t0.4662\t\t0.2118\t\t0.4136\t\t0.7591\t\t0.3017\t\t0.5430\n",
        "            HUE-MEAN\t0.1643\t\t0.2865\t\t0.1251\t\t0.8904\t\t0.1390\t\t0.1640\t\t0.2090\n",
        "\t   Class\t0.3318\t\t0.9831\t\t0.8333\t\t0.0000\t\t0.5772\t\t0.3387\t\t0.3994\n"
       ]
      }
     ],
     "prompt_number": 122
    },
    {
     "cell_type": "heading",
     "level": 4,
     "metadata": {},
     "source": [
      "1c. Perform PCA on the normalized image data matrix. Analyze the principal components to determine the number, r, of PCs needed to capture at least 95% of variance in the data. Then use these r components as features to transform the data into a reduced dimension space."
     ]
    },
    {
     "cell_type": "code",
     "collapsed": false,
     "input": [
      "from sklearn import decomposition"
     ],
     "language": "python",
     "metadata": {},
     "outputs": [],
     "prompt_number": 109
    },
    {
     "cell_type": "code",
     "collapsed": false,
     "input": [
      "pca = decomposition.PCA(n_components=10)\n",
      "ITtrans = pca.fit(IT_minmax).transform(IT_minmax)"
     ],
     "language": "python",
     "metadata": {},
     "outputs": [],
     "prompt_number": 110
    },
    {
     "cell_type": "code",
     "collapsed": false,
     "input": [
      "print (pca.explained_variance_ratio_)"
     ],
     "language": "python",
     "metadata": {},
     "outputs": [
      {
       "output_type": "stream",
       "stream": "stdout",
       "text": [
        "[ 0.5477  0.1831  0.0888  0.0609  0.034   0.0195  0.0169  0.0164  0.0134\n",
        "  0.0092]\n"
       ]
      }
     ],
     "prompt_number": 111
    },
    {
     "cell_type": "code",
     "collapsed": false,
     "input": [
      "print ITtrans"
     ],
     "language": "python",
     "metadata": {},
     "outputs": [
      {
       "output_type": "stream",
       "stream": "stdout",
       "text": [
        "[[-0.7865 -0.5921  0.234  ...,  0.0419  0.0206 -0.0084]\n",
        " [-0.7642 -0.5817  0.3266 ...,  0.0422  0.011  -0.0098]\n",
        " [-0.8182 -0.778  -0.1733 ..., -0.033  -0.0108  0.0637]\n",
        " ..., \n",
        " [-0.4953  0.1568 -0.0789 ...,  0.0813  0.0287  0.0012]\n",
        " [-0.4683  0.1239 -0.1565 ...,  0.0493  0.0287  0.0295]\n",
        " [-0.4319  0.1279 -0.0442 ..., -0.0772  0.1309  0.0301]]\n"
       ]
      }
     ],
     "prompt_number": 112
    },
    {
     "cell_type": "heading",
     "level": 4,
     "metadata": {},
     "source": [
      "1d. Perform Kmeans again, but this time on the lower dimensional transformed data. Then, compute the Completeness and Homogeneity values of the new clusters."
     ]
    },
    {
     "cell_type": "code",
     "collapsed": false,
     "input": [
      "kmeans_PCA = kmeans.fit(ITtrans)"
     ],
     "language": "python",
     "metadata": {},
     "outputs": [
      {
       "output_type": "stream",
       "stream": "stdout",
       "text": [
        "Initialization complete\n",
        "Iteration  0, inertia 684.289\n",
        "Iteration  1, inertia 432.326\n",
        "Iteration  2, inertia 402.642\n",
        "Iteration  3, inertia 396.836\n",
        "Iteration  4, inertia 395.897\n",
        "Iteration  5, inertia 395.630\n",
        "Iteration  6, inertia 395.381\n",
        "Iteration  7, inertia 395.275\n",
        "Iteration  8, inertia 395.144\n",
        "Iteration  9, inertia 395.019\n",
        "Iteration 10, inertia 394.909\n",
        "Iteration 11, inertia 394.808\n",
        "Iteration 12, inertia 394.733\n",
        "Iteration 13, inertia 394.663\n",
        "Iteration 14, inertia 394.611\n",
        "Iteration 15, inertia 394.539\n",
        "Iteration 16, inertia 394.375\n",
        "Iteration 17, inertia 394.060\n",
        "Iteration 18, inertia 393.688\n",
        "Iteration 19, inertia 393.192\n",
        "Iteration 20, inertia 392.229\n",
        "Iteration 21, inertia 391.235\n",
        "Iteration 22, inertia 390.989\n",
        "Iteration 23, inertia 390.915\n",
        "Iteration 24, inertia 390.843\n",
        "Iteration 25, inertia 390.714\n",
        "Iteration 26, inertia 390.658\n",
        "Iteration 27, inertia 390.645\n",
        "Converged at iteration 27\n",
        "Initialization complete\n",
        "Iteration  0, inertia 661.000\n",
        "Iteration  1, inertia 433.250\n",
        "Iteration  2, inertia 412.971\n",
        "Iteration  3, inertia 402.460\n",
        "Iteration  4, inertia 395.494\n",
        "Iteration  5, inertia 392.304\n",
        "Iteration  6, inertia 391.130\n",
        "Iteration  7, inertia 390.836\n",
        "Iteration  8, inertia 390.806\n",
        "Iteration  9, inertia 390.794\n",
        "Converged at iteration 9\n",
        "Initialization complete\n",
        "Iteration  0, inertia 568.882\n",
        "Iteration  1, inertia 402.324\n",
        "Iteration  2, inertia 395.486\n",
        "Iteration  3, inertia 392.185\n",
        "Iteration  4, inertia 392.033\n",
        "Iteration  5, inertia 392.006\n",
        "Iteration  6, inertia 391.975\n",
        "Iteration  7, inertia 391.967\n",
        "Iteration  8, inertia 391.963\n",
        "Iteration  9, inertia 391.957\n",
        "Converged at iteration 9\n",
        "Initialization complete\n",
        "Iteration  0, inertia 557.702\n",
        "Iteration  1, inertia 426.741\n",
        "Iteration  2, inertia 418.296\n",
        "Iteration  3, inertia 415.878\n",
        "Iteration  4, inertia 414.920\n",
        "Iteration  5, inertia 414.509\n",
        "Iteration  6, inertia 414.367\n",
        "Iteration  7, inertia 414.313\n",
        "Iteration  8, inertia 414.224"
       ]
      },
      {
       "output_type": "stream",
       "stream": "stdout",
       "text": [
        "\n",
        "Iteration  9, inertia 414.082\n",
        "Iteration 10, inertia 414.023\n",
        "Iteration 11, inertia 414.015\n",
        "Iteration 12, inertia 413.989\n",
        "Iteration 13, inertia 413.980\n",
        "Iteration 14, inertia 413.964\n",
        "Iteration 15, inertia 413.939\n",
        "Iteration 16, inertia 413.886\n",
        "Iteration 17, inertia 413.844\n",
        "Iteration 18, inertia 413.805\n",
        "Iteration 19, inertia 413.727\n",
        "Iteration 20, inertia 413.701\n",
        "Iteration 21, inertia 413.695\n",
        "Iteration 22, inertia 413.681\n",
        "Iteration 23, inertia 413.676\n",
        "Converged at iteration 23\n",
        "Initialization complete\n",
        "Iteration  0, inertia 781.770\n",
        "Iteration  1, inertia 432.526\n",
        "Iteration  2, inertia 401.386\n",
        "Iteration  3, inertia 396.231\n",
        "Iteration  4, inertia 394.021\n",
        "Iteration  5, inertia 390.953\n",
        "Iteration  6, inertia 389.940\n",
        "Iteration  7, inertia 389.891\n",
        "Iteration  8, inertia 389.862\n",
        "Iteration  9, inertia 389.857\n",
        "Converged at iteration 9\n",
        "Initialization complete\n",
        "Iteration  0, inertia 743.645\n",
        "Iteration  1, inertia 461.422\n",
        "Iteration  2, inertia 438.245\n",
        "Iteration  3, inertia 433.582\n",
        "Iteration  4, inertia 429.986\n",
        "Iteration  5, inertia 427.272\n",
        "Iteration  6, inertia 425.482\n",
        "Iteration  7, inertia 423.032\n",
        "Iteration  8, inertia 420.745\n",
        "Iteration  9, inertia 418.863\n",
        "Iteration 10, inertia 416.673\n",
        "Iteration 11, inertia 415.552\n",
        "Iteration 12, inertia 414.931\n",
        "Iteration 13, inertia 414.431\n",
        "Iteration 14, inertia 414.365\n",
        "Iteration 15, inertia 414.353\n",
        "Iteration 16, inertia 414.348\n",
        "Converged at iteration 16\n",
        "Initialization complete\n",
        "Iteration  0, inertia 626.015\n",
        "Iteration  1, inertia 433.494\n",
        "Iteration  2, inertia 420.093\n",
        "Iteration  3, inertia 413.504\n",
        "Iteration  4, inertia 412.385\n",
        "Iteration  5, inertia 411.829\n",
        "Iteration  6, inertia 411.327\n",
        "Iteration  7, inertia 410.953\n",
        "Iteration  8, inertia 410.687\n",
        "Iteration  9, inertia 410.620\n",
        "Iteration 10, inertia 410.615\n",
        "Converged at iteration 10\n",
        "Initialization complete\n",
        "Iteration  0, inertia 722.718"
       ]
      },
      {
       "output_type": "stream",
       "stream": "stdout",
       "text": [
        "\n",
        "Iteration  1, inertia 447.665\n",
        "Iteration  2, inertia 424.673\n",
        "Iteration  3, inertia 420.957\n",
        "Iteration  4, inertia 419.097\n",
        "Iteration  5, inertia 418.532\n",
        "Iteration  6, inertia 418.306\n",
        "Iteration  7, inertia 418.301\n",
        "Iteration  8, inertia 418.295\n",
        "Converged at iteration 8\n",
        "Initialization complete\n",
        "Iteration  0, inertia 608.786\n",
        "Iteration  1, inertia 452.283\n",
        "Iteration  2, inertia 430.189\n",
        "Iteration  3, inertia 413.545\n",
        "Iteration  4, inertia 410.236\n",
        "Iteration  5, inertia 407.590\n",
        "Iteration  6, inertia 404.411\n",
        "Iteration  7, inertia 402.964\n",
        "Iteration  8, inertia 401.385\n",
        "Iteration  9, inertia 398.998\n",
        "Iteration 10, inertia 396.690\n",
        "Iteration 11, inertia 395.794\n",
        "Iteration 12, inertia 395.371\n",
        "Iteration 13, inertia 395.142\n",
        "Iteration 14, inertia 394.995\n",
        "Iteration 15, inertia 394.848\n",
        "Iteration 16, inertia 394.755\n",
        "Iteration 17, inertia 394.709\n",
        "Iteration 18, inertia 394.655\n",
        "Iteration 19, inertia 394.600\n",
        "Iteration 20, inertia 394.509\n",
        "Iteration 21, inertia 394.298\n",
        "Iteration 22, inertia 393.997\n",
        "Iteration 23, inertia 393.693\n",
        "Iteration 24, inertia 393.314\n",
        "Iteration 25, inertia 392.519\n",
        "Iteration 26, inertia 391.465\n",
        "Iteration 27, inertia 391.010\n",
        "Iteration 28, inertia 390.924\n",
        "Iteration 29, inertia 390.847\n",
        "Iteration 30, inertia 390.714\n",
        "Iteration 31, inertia 390.658\n",
        "Iteration 32, inertia 390.645\n",
        "Converged at iteration 32\n",
        "Initialization complete\n",
        "Iteration  0, inertia 722.177\n",
        "Iteration  1, inertia 441.052\n",
        "Iteration  2, inertia 420.867\n",
        "Iteration  3, inertia 408.023\n",
        "Iteration  4, inertia 398.955\n",
        "Iteration  5, inertia 395.221\n",
        "Iteration  6, inertia 392.391\n",
        "Iteration  7, inertia 391.161\n",
        "Iteration  8, inertia 390.671\n",
        "Iteration  9, inertia 390.645\n",
        "Converged at iteration 9\n"
       ]
      }
     ],
     "prompt_number": 113
    },
    {
     "cell_type": "code",
     "collapsed": false,
     "input": [
      "clusters_PCA = kmeans_PCA.predict(ITtrans)"
     ],
     "language": "python",
     "metadata": {},
     "outputs": [],
     "prompt_number": 114
    },
    {
     "cell_type": "code",
     "collapsed": false,
     "input": [
      "clusters_PCA"
     ],
     "language": "python",
     "metadata": {},
     "outputs": [
      {
       "metadata": {},
       "output_type": "pyout",
       "prompt_number": 115,
       "text": [
        "array([4, 4, 4, ..., 0, 0, 0], dtype=int32)"
       ]
      }
     ],
     "prompt_number": 115
    },
    {
     "cell_type": "code",
     "collapsed": false,
     "input": [
      "print 'Completeness:',completeness_score(target,clusters_PCA)\n",
      "print 'Homogeneity: ',homogeneity_score(target,clusters_PCA)"
     ],
     "language": "python",
     "metadata": {},
     "outputs": [
      {
       "output_type": "stream",
       "stream": "stdout",
       "text": [
        "Completeness: 0.827860465654\n",
        "Homogeneity:  0.827326693624\n"
       ]
      }
     ],
     "prompt_number": 116
    },
    {
     "cell_type": "code",
     "collapsed": false,
     "input": [],
     "language": "python",
     "metadata": {},
     "outputs": [],
     "prompt_number": 116
    }
   ],
   "metadata": {}
  }
 ]
}