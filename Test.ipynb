{
 "metadata": {
  "name": "",
  "signature": "sha256:110eeb741003b6d722beb080ad54fca306ab502e08d3a4c122b8168df849d782"
 },
 "nbformat": 3,
 "nbformat_minor": 0,
 "worksheets": [
  {
   "cells": [
    {
     "cell_type": "code",
     "collapsed": false,
     "input": [
      "pwd"
     ],
     "language": "python",
     "metadata": {},
     "outputs": [
      {
       "metadata": {},
       "output_type": "pyout",
       "prompt_number": 1,
       "text": [
        "u'/Users/RedPencil/Dropbox/CSC 478'"
       ]
      }
     ],
     "prompt_number": 1
    },
    {
     "cell_type": "code",
     "collapsed": false,
     "input": [
      "datafile = open(\"populations.txt\", \"r\")\n",
      "labels_line = datafile.readline().strip()\n",
      "poptable = []\n",
      "total = 0\n",
      "for line in datafile.readlines():\n",
      "    line = line.strip()\n",
      "    row = line.split(\"\\t\")\n",
      "    record = [int(row[0]), float(row[1]), float(row[2]), float(row[3])]\n",
      "    print record\n",
      "    poptable.append(record)\n",
      "    total += 1\n",
      "print total\n",
      "    "
     ],
     "language": "python",
     "metadata": {},
     "outputs": [
      {
       "output_type": "stream",
       "stream": "stdout",
       "text": [
        "[1900, 30000.0, 4000.0, 48300.0]\n",
        "[1901, 47200.0, 6100.0, 48200.0]\n",
        "[1902, 70200.0, 9800.0, 41500.0]\n",
        "[1903, 77400.0, 35200.0, 38200.0]\n",
        "[1904, 36300.0, 59400.0, 40600.0]\n",
        "[1905, 20600.0, 41700.0, 39800.0]\n",
        "[1906, 18100.0, 19000.0, 38600.0]\n",
        "[1907, 21400.0, 13000.0, 42300.0]\n",
        "[1908, 22000.0, 8300.0, 44500.0]\n",
        "[1909, 25400.0, 9100.0, 42100.0]\n",
        "[1910, 27100.0, 7400.0, 46000.0]\n",
        "[1911, 40300.0, 8000.0, 46800.0]\n",
        "[1912, 57000.0, 12300.0, 43800.0]\n",
        "[1913, 76600.0, 19500.0, 40900.0]\n",
        "[1914, 52300.0, 45700.0, 39400.0]\n",
        "[1915, 19500.0, 51100.0, 39000.0]\n",
        "[1916, 11200.0, 29700.0, 36700.0]\n",
        "[1917, 7600.0, 15800.0, 41800.0]\n",
        "[1918, 14600.0, 9700.0, 43300.0]\n",
        "[1919, 16200.0, 10100.0, 41300.0]\n",
        "[1920, 24700.0, 8600.0, 47300.0]\n",
        "21\n"
       ]
      }
     ],
     "prompt_number": 3
    },
    {
     "cell_type": "code",
     "collapsed": false,
     "input": [
      "print poptable[1]"
     ],
     "language": "python",
     "metadata": {},
     "outputs": [
      {
       "output_type": "stream",
       "stream": "stdout",
       "text": [
        "[1901, 47200.0, 6100.0, 48200.0]\n"
       ]
      }
     ],
     "prompt_number": 4
    },
    {
     "cell_type": "code",
     "collapsed": false,
     "input": [
      "hares = {}\n",
      "lynxes = {}\n",
      "carrots = {}\n",
      "for row in poptable:\n",
      "    hares[row[0]] = row[1]\n",
      "    lynxes[row[0]] = row[2]\n",
      "    carrots[row[0]] = row[3]\n",
      "print sorted(hares.items())"
     ],
     "language": "python",
     "metadata": {},
     "outputs": [
      {
       "output_type": "stream",
       "stream": "stdout",
       "text": [
        "[(1900, 30000.0), (1901, 47200.0), (1902, 70200.0), (1903, 77400.0), (1904, 36300.0), (1905, 20600.0), (1906, 18100.0), (1907, 21400.0), (1908, 22000.0), (1909, 25400.0), (1910, 27100.0), (1911, 40300.0), (1912, 57000.0), (1913, 76600.0), (1914, 52300.0), (1915, 19500.0), (1916, 11200.0), (1917, 7600.0), (1918, 14600.0), (1919, 16200.0), (1920, 24700.0)]\n"
       ]
      }
     ],
     "prompt_number": 17
    },
    {
     "cell_type": "code",
     "collapsed": false,
     "input": [
      "print hares[1903]"
     ],
     "language": "python",
     "metadata": {},
     "outputs": [
      {
       "output_type": "stream",
       "stream": "stdout",
       "text": [
        "77400.0\n"
       ]
      }
     ],
     "prompt_number": 30
    },
    {
     "cell_type": "code",
     "collapsed": false,
     "input": [
      "hares_above_50k = [yr for yr in hares.keys() if hares[yr]>50000.0]\n",
      "print hares_above_50k"
     ],
     "language": "python",
     "metadata": {},
     "outputs": [
      {
       "output_type": "stream",
       "stream": "stdout",
       "text": [
        "[1902, 1903, 1912, 1913, 1914]\n"
       ]
      }
     ],
     "prompt_number": 31
    },
    {
     "cell_type": "code",
     "collapsed": false,
     "input": [
      "maxhares = [yr for yr in hares.keys() if hares[yr] == max(hares.values())]\n",
      "for i in range(0,len(maxhares)):\n",
      "    print maxhares[i], hares[maxhares[i]]"
     ],
     "language": "python",
     "metadata": {},
     "outputs": [
      {
       "output_type": "stream",
       "stream": "stdout",
       "text": [
        " 1903 77400.0\n"
       ]
      }
     ],
     "prompt_number": 34
    },
    {
     "cell_type": "code",
     "collapsed": false,
     "input": [
      "import numpy as np"
     ],
     "language": "python",
     "metadata": {},
     "outputs": [],
     "prompt_number": 5
    },
    {
     "cell_type": "code",
     "collapsed": false,
     "input": [
      "pop = np.array(poptable)\n",
      "print pop"
     ],
     "language": "python",
     "metadata": {},
     "outputs": [
      {
       "output_type": "stream",
       "stream": "stdout",
       "text": [
        "[[  1900.  30000.   4000.  48300.]\n",
        " [  1901.  47200.   6100.  48200.]\n",
        " [  1902.  70200.   9800.  41500.]\n",
        " [  1903.  77400.  35200.  38200.]\n",
        " [  1904.  36300.  59400.  40600.]\n",
        " [  1905.  20600.  41700.  39800.]\n",
        " [  1906.  18100.  19000.  38600.]\n",
        " [  1907.  21400.  13000.  42300.]\n",
        " [  1908.  22000.   8300.  44500.]\n",
        " [  1909.  25400.   9100.  42100.]\n",
        " [  1910.  27100.   7400.  46000.]\n",
        " [  1911.  40300.   8000.  46800.]\n",
        " [  1912.  57000.  12300.  43800.]\n",
        " [  1913.  76600.  19500.  40900.]\n",
        " [  1914.  52300.  45700.  39400.]\n",
        " [  1915.  19500.  51100.  39000.]\n",
        " [  1916.  11200.  29700.  36700.]\n",
        " [  1917.   7600.  15800.  41800.]\n",
        " [  1918.  14600.   9700.  43300.]\n",
        " [  1919.  16200.  10100.  41300.]\n",
        " [  1920.  24700.   8600.  47300.]]\n"
       ]
      }
     ],
     "prompt_number": 45
    },
    {
     "cell_type": "code",
     "collapsed": false,
     "input": [
      "\n",
      "poptable = np.loadtxt('populations.txt')\n",
      "print poptable"
     ],
     "language": "python",
     "metadata": {},
     "outputs": [
      {
       "output_type": "stream",
       "stream": "stdout",
       "text": [
        "[[  1900.  30000.   4000.  48300.]\n",
        " [  1901.  47200.   6100.  48200.]\n",
        " [  1902.  70200.   9800.  41500.]\n",
        " [  1903.  77400.  35200.  38200.]\n",
        " [  1904.  36300.  59400.  40600.]\n",
        " [  1905.  20600.  41700.  39800.]\n",
        " [  1906.  18100.  19000.  38600.]\n",
        " [  1907.  21400.  13000.  42300.]\n",
        " [  1908.  22000.   8300.  44500.]\n",
        " [  1909.  25400.   9100.  42100.]\n",
        " [  1910.  27100.   7400.  46000.]\n",
        " [  1911.  40300.   8000.  46800.]\n",
        " [  1912.  57000.  12300.  43800.]\n",
        " [  1913.  76600.  19500.  40900.]\n",
        " [  1914.  52300.  45700.  39400.]\n",
        " [  1915.  19500.  51100.  39000.]\n",
        " [  1916.  11200.  29700.  36700.]\n",
        " [  1917.   7600.  15800.  41800.]\n",
        " [  1918.  14600.   9700.  43300.]\n",
        " [  1919.  16200.  10100.  41300.]\n",
        " [  1920.  24700.   8600.  47300.]]\n"
       ]
      }
     ],
     "prompt_number": 16
    },
    {
     "cell_type": "code",
     "collapsed": false,
     "input": [
      "poptable.shape"
     ],
     "language": "python",
     "metadata": {},
     "outputs": [
      {
       "metadata": {},
       "output_type": "pyout",
       "prompt_number": 49,
       "text": [
        "(21, 4)"
       ]
      }
     ],
     "prompt_number": 49
    },
    {
     "cell_type": "code",
     "collapsed": false,
     "input": [
      "year, hares, lynxes, carrots = poptable.T\n",
      "print year\n",
      "print hares\n",
      "print \"Mean Hare Population: \", hares.mean()"
     ],
     "language": "python",
     "metadata": {},
     "outputs": [
      {
       "output_type": "stream",
       "stream": "stdout",
       "text": [
        "[ 1900.  1901.  1902.  1903.  1904.  1905.  1906.  1907.  1908.  1909.\n",
        "  1910.  1911.  1912.  1913.  1914.  1915.  1916.  1917.  1918.  1919.\n",
        "  1920.]\n",
        "[ 30000.  47200.  70200.  77400.  36300.  20600.  18100.  21400.  22000.\n",
        "  25400.  27100.  40300.  57000.  76600.  52300.  19500.  11200.   7600.\n",
        "  14600.  16200.  24700.]\n",
        "Mean Hare Population:  34080.952381\n"
       ]
      }
     ],
     "prompt_number": 17
    },
    {
     "cell_type": "code",
     "collapsed": false,
     "input": [
      "above_50k = np.any(poptable>50000, axis=1)\n",
      "print above_50k\n",
      "print year[above_50k]"
     ],
     "language": "python",
     "metadata": {},
     "outputs": []
    },
    {
     "cell_type": "code",
     "collapsed": false,
     "input": [
      "pop_no_year = poptable[:,1:]\n",
      "print \"\\t Hares \\t\\t Lynxes \\tCarrots\"\n",
      "print \"Mean:\", pop_no_year.mean(axis=0)\n",
      "print \"Std: \", pop_no_year.std(axis=0)"
     ],
     "language": "python",
     "metadata": {},
     "outputs": [
      {
       "output_type": "stream",
       "stream": "stdout",
       "text": [
        "\t Hares \t\t Lynxes \tCarrots\n",
        "Mean: [ 34080.95238095  20166.66666667  42400.        ]\n",
        "Std:  [ 20897.90645809  16254.59153691   3322.50622558]\n"
       ]
      }
     ],
     "prompt_number": 57
    },
    {
     "cell_type": "code",
     "collapsed": false,
     "input": [
      "ls"
     ],
     "language": "python",
     "metadata": {},
     "outputs": [
      {
       "output_type": "stream",
       "stream": "stdout",
       "text": [
        "\u001b[34mHW\u001b[m\u001b[m/\r\n",
        "Harrington_Machine_Learning_in_Action_2012.pdf\r\n",
        "\u001b[34mLec\u001b[m\u001b[m/\r\n",
        "Test.ipynb\r\n",
        "Video_Store.csv\r\n",
        "populations.txt\r\n"
       ]
      }
     ],
     "prompt_number": 1
    },
    {
     "cell_type": "code",
     "collapsed": false,
     "input": [
      "pwd"
     ],
     "language": "python",
     "metadata": {},
     "outputs": [
      {
       "metadata": {},
       "output_type": "pyout",
       "prompt_number": 2,
       "text": [
        "u'/Users/RedPencil/Dropbox/CSC 478'"
       ]
      }
     ],
     "prompt_number": 2
    },
    {
     "cell_type": "code",
     "collapsed": false,
     "input": [
      "vstable = np.genfromtxt(\"Video_store.csv\", delimiter=\",\", dtype = None)\n",
      "print vstable"
     ],
     "language": "python",
     "metadata": {},
     "outputs": [
      {
       "output_type": "stream",
       "stream": "stdout",
       "text": [
        "[['ID' 'Gender' 'Income' 'Age' 'Rentals' 'AvgPerVisit' 'Genre']\n",
        " ['1' 'M' '45000 ' '25' '27' '2.5' 'Action']\n",
        " ['2' 'F' '54000 ' '33' '12' '3.4' 'Drama']\n",
        " ['3' 'F' '32000 ' '20' '42' '1.6' 'Comedy']\n",
        " ['4' 'F' '59000 ' '70' '16' '4.2' 'Drama']\n",
        " ['5' 'M' '37000 ' '35' '25' '3.2' 'Action']\n",
        " ['6' 'M' '18000 ' '20' '33' '1.7' 'Action']\n",
        " ['7' 'F' '29000 ' '45' '19' '3.8' 'Drama']\n",
        " ['8' 'M' '74000 ' '25' '31' '2.4' 'Action']\n",
        " ['9' 'M' '38000 ' '21' '18' '2.1' 'Comedy']\n",
        " ['10' 'F' '65000 ' '40' '21' '3.3' 'Drama']\n",
        " ['11' 'F' '41000 ' '22' '48' '2.3' 'Drama']\n",
        " ['12' 'F' '26000 ' '22' '29' '2.9' 'Action']\n",
        " ['13' 'M' '83000 ' '46' '14' '3.6' 'Comedy']\n",
        " ['14' 'M' '45000 ' '36' '24' '2.7' 'Drama']\n",
        " ['15' 'M' '68000 ' '30' '36' '2.7' 'Comedy']\n",
        " ['16' 'M' '17000 ' '19' '26' '2.2' 'Action']\n",
        " ['17' 'M' '36000 ' '35' '28' '3.5' 'Drama']\n",
        " ['18' 'F' '6000 ' '16' '39' '1.8' 'Action']\n",
        " ['19' 'F' '24000 ' '25' '41' '3.1' 'Comedy']\n",
        " ['20' 'M' '12000 ' '16' '23' '2.2' 'Action']\n",
        " ['21' 'F' '47000 ' '52' '11' '3.1' 'Drama']\n",
        " ['22' 'M' '25000 ' '33' '16' '2.9' 'Drama']\n",
        " ['23' 'F' '2000 ' '15' '30' '2.5' 'Comedy']\n",
        " ['24' 'F' '79000 ' '35' '22' '3.8' 'Drama']\n",
        " ['25' 'M' '1000 ' '16' '25' '1.4' 'Comedy']\n",
        " ['26' 'F' '56000 ' '35' '40' '2.6' 'Action']\n",
        " ['27' 'F' '62000 ' '47' '32' '3.6' 'Drama']\n",
        " ['28' 'M' '57000 ' '52' '22' '4.1' 'Comedy']\n",
        " ['29' 'F' '15000 ' '18' '37' '2.1' 'Action']\n",
        " ['30' 'M' '41000 ' '25' '17' '1.4' 'Action']\n",
        " ['31' 'F' '49000 ' '56' '15' '3.2' 'Comedy']\n",
        " ['32' 'M' '47000 ' '30' '21' '3.1' 'Drama']\n",
        " ['33' 'M' '23000 ' '25' '28' '2.7' 'Action']\n",
        " ['34' 'F' '29000 ' '32' '19' '2.9' 'Action']\n",
        " ['35' 'M' '74000 ' '29' '43' '4.6' 'Action']\n",
        " ['36' 'F' '29000 ' '21' '34' '2.3' 'Comedy']\n",
        " ['37' 'M' '89000 ' '46' '12' '1.2' 'Comedy']\n",
        " ['38' 'M' '41000 ' '38' '20' '3.3' 'Drama']\n",
        " ['39' 'F' '68000 ' '35' '19' '3.9' 'Comedy']\n",
        " ['40' 'M' '17000 ' '19' '32' '1.8' 'Action']]\n"
       ]
      }
     ],
     "prompt_number": 6
    },
    {
     "cell_type": "code",
     "collapsed": false,
     "input": [
      "labels = vstable[0]\n",
      "print labels"
     ],
     "language": "python",
     "metadata": {},
     "outputs": [
      {
       "output_type": "stream",
       "stream": "stdout",
       "text": [
        "['ID' 'Gender' 'Income' 'Age' 'Rentals' 'AvgPerVisit' 'Genre']\n"
       ]
      }
     ],
     "prompt_number": 13
    },
    {
     "cell_type": "code",
     "collapsed": false,
     "input": [
      "vstable = vstable[1:]\n",
      "vstable"
     ],
     "language": "python",
     "metadata": {},
     "outputs": [
      {
       "metadata": {},
       "output_type": "pyout",
       "prompt_number": 14,
       "text": [
        "array([['1', 'M', '45000 ', '25', '27', '2.5', 'Action'],\n",
        "       ['2', 'F', '54000 ', '33', '12', '3.4', 'Drama'],\n",
        "       ['3', 'F', '32000 ', '20', '42', '1.6', 'Comedy'],\n",
        "       ['4', 'F', '59000 ', '70', '16', '4.2', 'Drama'],\n",
        "       ['5', 'M', '37000 ', '35', '25', '3.2', 'Action'],\n",
        "       ['6', 'M', '18000 ', '20', '33', '1.7', 'Action'],\n",
        "       ['7', 'F', '29000 ', '45', '19', '3.8', 'Drama'],\n",
        "       ['8', 'M', '74000 ', '25', '31', '2.4', 'Action'],\n",
        "       ['9', 'M', '38000 ', '21', '18', '2.1', 'Comedy'],\n",
        "       ['10', 'F', '65000 ', '40', '21', '3.3', 'Drama'],\n",
        "       ['11', 'F', '41000 ', '22', '48', '2.3', 'Drama'],\n",
        "       ['12', 'F', '26000 ', '22', '29', '2.9', 'Action'],\n",
        "       ['13', 'M', '83000 ', '46', '14', '3.6', 'Comedy'],\n",
        "       ['14', 'M', '45000 ', '36', '24', '2.7', 'Drama'],\n",
        "       ['15', 'M', '68000 ', '30', '36', '2.7', 'Comedy'],\n",
        "       ['16', 'M', '17000 ', '19', '26', '2.2', 'Action'],\n",
        "       ['17', 'M', '36000 ', '35', '28', '3.5', 'Drama'],\n",
        "       ['18', 'F', '6000 ', '16', '39', '1.8', 'Action'],\n",
        "       ['19', 'F', '24000 ', '25', '41', '3.1', 'Comedy'],\n",
        "       ['20', 'M', '12000 ', '16', '23', '2.2', 'Action'],\n",
        "       ['21', 'F', '47000 ', '52', '11', '3.1', 'Drama'],\n",
        "       ['22', 'M', '25000 ', '33', '16', '2.9', 'Drama'],\n",
        "       ['23', 'F', '2000 ', '15', '30', '2.5', 'Comedy'],\n",
        "       ['24', 'F', '79000 ', '35', '22', '3.8', 'Drama'],\n",
        "       ['25', 'M', '1000 ', '16', '25', '1.4', 'Comedy'],\n",
        "       ['26', 'F', '56000 ', '35', '40', '2.6', 'Action'],\n",
        "       ['27', 'F', '62000 ', '47', '32', '3.6', 'Drama'],\n",
        "       ['28', 'M', '57000 ', '52', '22', '4.1', 'Comedy'],\n",
        "       ['29', 'F', '15000 ', '18', '37', '2.1', 'Action'],\n",
        "       ['30', 'M', '41000 ', '25', '17', '1.4', 'Action'],\n",
        "       ['31', 'F', '49000 ', '56', '15', '3.2', 'Comedy'],\n",
        "       ['32', 'M', '47000 ', '30', '21', '3.1', 'Drama'],\n",
        "       ['33', 'M', '23000 ', '25', '28', '2.7', 'Action'],\n",
        "       ['34', 'F', '29000 ', '32', '19', '2.9', 'Action'],\n",
        "       ['35', 'M', '74000 ', '29', '43', '4.6', 'Action'],\n",
        "       ['36', 'F', '29000 ', '21', '34', '2.3', 'Comedy'],\n",
        "       ['37', 'M', '89000 ', '46', '12', '1.2', 'Comedy'],\n",
        "       ['38', 'M', '41000 ', '38', '20', '3.3', 'Drama'],\n",
        "       ['39', 'F', '68000 ', '35', '19', '3.9', 'Comedy'],\n",
        "       ['40', 'M', '17000 ', '19', '32', '1.8', 'Action']], \n",
        "      dtype='|S11')"
       ]
      }
     ],
     "prompt_number": 14
    },
    {
     "cell_type": "code",
     "collapsed": false,
     "input": [
      "print vstable[:,1]"
     ],
     "language": "python",
     "metadata": {},
     "outputs": [
      {
       "output_type": "stream",
       "stream": "stdout",
       "text": [
        "['Gender' 'M' 'F' 'F' 'F' 'M' 'M' 'F' 'M' 'M' 'F' 'F' 'F' 'M' 'M' 'M' 'M'\n",
        " 'M' 'F' 'F' 'M' 'F' 'M' 'F' 'F' 'M' 'F' 'F' 'M' 'F' 'M' 'F' 'M' 'M' 'F'\n",
        " 'M' 'F' 'M' 'M' 'F' 'M']\n"
       ]
      }
     ],
     "prompt_number": 10
    },
    {
     "cell_type": "code",
     "collapsed": false,
     "input": [
      "income = array(vstable[:,2], dtype=int)\n",
      "print income"
     ],
     "language": "python",
     "metadata": {},
     "outputs": [
      {
       "ename": "NameError",
       "evalue": "name 'array' is not defined",
       "output_type": "pyerr",
       "traceback": [
        "\u001b[0;31m---------------------------------------------------------------------------\u001b[0m\n\u001b[0;31mNameError\u001b[0m                                 Traceback (most recent call last)",
        "\u001b[0;32m<ipython-input-1-ad69da3262ed>\u001b[0m in \u001b[0;36m<module>\u001b[0;34m()\u001b[0m\n\u001b[0;32m----> 1\u001b[0;31m \u001b[0mincome\u001b[0m \u001b[0;34m=\u001b[0m \u001b[0marray\u001b[0m\u001b[0;34m(\u001b[0m\u001b[0mvstable\u001b[0m\u001b[0;34m[\u001b[0m\u001b[0;34m:\u001b[0m\u001b[0;34m,\u001b[0m\u001b[0;36m2\u001b[0m\u001b[0;34m]\u001b[0m\u001b[0;34m,\u001b[0m \u001b[0mdtype\u001b[0m\u001b[0;34m=\u001b[0m\u001b[0mint\u001b[0m\u001b[0;34m)\u001b[0m\u001b[0;34m\u001b[0m\u001b[0m\n\u001b[0m\u001b[1;32m      2\u001b[0m \u001b[0;32mprint\u001b[0m \u001b[0mincome\u001b[0m\u001b[0;34m\u001b[0m\u001b[0m\n",
        "\u001b[0;31mNameError\u001b[0m: name 'array' is not defined"
       ]
      }
     ],
     "prompt_number": 1
    },
    {
     "cell_type": "code",
     "collapsed": false,
     "input": [
      "import matplotlib.pyplot as plt\n",
      "plt.plot([1,2,3,4], [1,4,9,16], 'ro')\n",
      "plt.axis([0, 6, 0, 20])\n",
      "plt.show()"
     ],
     "language": "python",
     "metadata": {},
     "outputs": [],
     "prompt_number": 1
    },
    {
     "cell_type": "code",
     "collapsed": false,
     "input": [
      "#!/usr/bin/env python\n",
      "# a bar plot with errorbars\n",
      "import numpy as np\n",
      "import matplotlib.pyplot as plt\n",
      "\n",
      "N = 5\n",
      "menMeans = (20, 35, 30, 35, 27)\n",
      "menStd =   (2, 3, 4, 1, 2)\n",
      "\n",
      "ind = np.arange(N)  # the x locations for the groups\n",
      "width = 0.35       # the width of the bars\n",
      "\n",
      "fig, ax = plt.subplots()\n",
      "rects1 = ax.bar(ind, menMeans, width, color='r', yerr=menStd)\n",
      "\n",
      "womenMeans = (25, 32, 34, 20, 25)\n",
      "womenStd =   (3, 5, 2, 3, 3)\n",
      "rects2 = ax.bar(ind+width, womenMeans, width, color='y', yerr=womenStd)\n",
      "\n",
      "# add some text for labels, title and axes ticks\n",
      "ax.set_ylabel('Scores')\n",
      "ax.set_title('Scores by group and gender')\n",
      "ax.set_xticks(ind+width)\n",
      "ax.set_xticklabels( ('G1', 'G2', 'G3', 'G4', 'G5') )\n",
      "\n",
      "ax.legend( (rects1[0], rects2[0]), ('Men', 'Women') )\n",
      "\n",
      "def autolabel(rects):\n",
      "    # attach some text labels\n",
      "    for rect in rects:\n",
      "        height = rect.get_height()\n",
      "        ax.text(rect.get_x()+rect.get_width()/2., 1.05*height, '%d'%int(height),\n",
      "                ha='center', va='bottom')\n",
      "\n",
      "autolabel(rects1)\n",
      "autolabel(rects2)\n",
      "\n",
      "plt.show()"
     ],
     "language": "python",
     "metadata": {},
     "outputs": [],
     "prompt_number": 1
    },
    {
     "cell_type": "code",
     "collapsed": false,
     "input": [],
     "language": "python",
     "metadata": {},
     "outputs": []
    }
   ],
   "metadata": {}
  }
 ]
}